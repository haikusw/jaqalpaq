{
 "cells": [
  {
   "cell_type": "markdown",
   "metadata": {},
   "source": [
    "# Lithium Hydride (LiH) Exemplar\n",
    "## Step 0: Import various libraries"
   ]
  },
  {
   "cell_type": "code",
   "execution_count": 1,
   "metadata": {},
   "outputs": [],
   "source": [
    "# Imports for QSCOUT\n",
    "import jaqalpaq\n",
    "from jaqalpaq.core import circuitbuilder\n",
    "from jaqalpaq.core.circuit import normalize_native_gates\n",
    "from jaqalpaq import emulator\n",
    "from qscout.v1 import native_gates\n",
    "\n",
    "# Imports for basic mathematical functionality\n",
    "from math import pi\n",
    "import numpy as np\n",
    "\n",
    "# Imports for OpenFermion(-PySCF)\n",
    "import openfermion as of\n",
    "from openfermion.hamiltonians import MolecularData\n",
    "from openfermionpyscf import run_pyscf\n",
    "from openfermion.ops import QubitOperator\n",
    "from openfermion.utils import eigenspectrum\n",
    "\n",
    "# Import for VQE optimizer\n",
    "from scipy import optimize"
   ]
  },
  {
   "cell_type": "markdown",
   "metadata": {},
   "source": [
    "## Step 1: SCF calculation to assmble the second-quantized Hamiltonian"
   ]
  },
  {
   "cell_type": "code",
   "execution_count": 2,
   "metadata": {},
   "outputs": [
    {
     "name": "stdout",
     "output_type": "stream",
     "text": [
      "Bond Length in Angstroms: 1.4\n",
      "FCI (Exact) energy in Hartrees: -7.968761975357028\n"
     ]
    }
   ],
   "source": [
    "# Set the basis set, spin, and charge of the LiH molecule\n",
    "basis = 'sto-6g'\n",
    "multiplicity = 1\n",
    "charge = 0\n",
    "\n",
    "# Set calculation parameters\n",
    "run_scf = 1\n",
    "run_fci = 1\n",
    "delete_input = True\n",
    "delete_output = False\n",
    "\n",
    "# Generate molecule at some bond length (1.4 Angstroms here)\n",
    "geometry = [('Li', (0., 0., 0.)), ('H', (0., 0., 1.4))]\n",
    "molecule = MolecularData(\n",
    "    geometry, basis, multiplicity, charge,    \n",
    "    filename='./LiH_sto-6g_single_1.4') #Set file location of data\n",
    "\n",
    "# Run pyscf to generate new molecular data for sto-6g LiH\n",
    "molecule = run_pyscf(molecule,\n",
    "                     run_scf=run_scf,\n",
    "                     run_fci=run_fci,\n",
    "                     verbose=False)\n",
    "\n",
    "print(\"Bond Length in Angstroms: {}\".format(1.4))\n",
    "print(\"FCI (Exact) energy in Hartrees: {}\".format(molecule.fci_energy))"
   ]
  },
  {
   "cell_type": "markdown",
   "metadata": {},
   "source": [
    "## Step 2: Convert the fermionic Hamiltonian to a qubit Hamiltonian"
   ]
  },
  {
   "cell_type": "code",
   "execution_count": 9,
   "metadata": {
    "scrolled": false
   },
   "outputs": [],
   "source": [
    "# Get the fermionic Hamiltonian for LiH and map it using the BK encoding\n",
    "# Reduce active space to orbitals 1, 2, and 3\n",
    "hamiltonian = molecule.get_molecular_hamiltonian(occupied_indices=[0], active_indices=[1,2,3])\n",
    "hamiltonian_ferm = of.get_fermion_operator(hamiltonian)\n",
    "hamiltonian_bk = of.bravyi_kitaev(hamiltonian_ferm)\n",
    "\n",
    "# Further reduce the Hamiltonian to 3 qubits\n",
    "def reduce_hamiltonian(hamiltonian):\n",
    "    terms = []\n",
    "    cs = []\n",
    "    for term in hamiltonian.terms:\n",
    "        paulis = [None, None, None]\n",
    "        ignore_term = False\n",
    "        for pauli in term:\n",
    "            #HF state |000001> {indices 7,6,5,4,3,2 -> 5,4,3,2,1,0}\n",
    "            #Ansatz does not act on odd indices so they may be classically evaluated\n",
    "            if pauli[0]%2==1 and (pauli[1]=='X' or pauli[1]=='Y'): #expectation value is 0\n",
    "                ignore_term = True\n",
    "\n",
    "            #Ansatz does act on even indices so they are left alone and relabled\n",
    "            elif pauli[0]%2==0:\n",
    "                paulis[pauli[0]//2] = pauli[1]\n",
    "        if not ignore_term: #For terms that remain, separate out paulis and coefficients\n",
    "            terms += [paulis]\n",
    "            cs += [hamiltonian.terms[term]]\n",
    "    \n",
    "    #C ombine like terms in the Hamiltonian\n",
    "    d = {}\n",
    "    for i in range(len(terms)):\n",
    "        if repr(terms[i]) in d: #If term is present...\n",
    "            d[repr(terms[i])][1] += cs[i] #Sum coefficients for simplified pauli terms\n",
    "        else: #If term isn't present...\n",
    "            d[repr(terms[i])] = [terms[i], cs[i]] #Simply append it  \n",
    "    return(list(d.values()))\n",
    "\n",
    "# Reduce the BK Hamiltonian for LiH\n",
    "terms = []\n",
    "cs = []\n",
    "red_hamiltonian_bk = QubitOperator()\n",
    "result = reduce_hamiltonian(hamiltonian_bk)\n",
    "for i in range(len(result)): #Separate out term and coeffs again after combining like terms\n",
    "    terms += [result[i][0]]\n",
    "    cs += [result[i][1]]\n",
    "    string = ''\n",
    "    for j, pauli in enumerate(result[i][0]):\n",
    "        if pauli != None:\n",
    "            string += str(pauli)+str(j)+' '\n",
    "    red_hamiltonian_bk += result[i][1]*QubitOperator(string)"
   ]
  },
  {
   "cell_type": "markdown",
   "metadata": {},
   "source": [
    "## Step 3: Define UCC Ansatz circuit in JaqalPaq"
   ]
  },
  {
   "cell_type": "code",
   "execution_count": 10,
   "metadata": {},
   "outputs": [],
   "source": [
    "def ansatz(alpha, beta):\n",
    "    term_probs = []\n",
    "    for i in range(len(terms)):\n",
    "        builder = circuitbuilder.CircuitBuilder(native_gates=normalize_native_gates(native_gates.NATIVE_GATES))\n",
    "        \n",
    "        # Define constants +-pi/2\n",
    "        pi2 = builder.let('pi2', pi/2)\n",
    "        npi2 = builder.let('npi2', -pi/2)\n",
    "        \n",
    "        # Create a qubit register\n",
    "        q = builder.register('q', 3)\n",
    "        \n",
    "        # Define a hadamard macro\n",
    "        hadamard = circuitbuilder.SequentialBlockBuilder()\n",
    "        hadamard.gate('Sy', 'a')\n",
    "        hadamard.gate('Px', 'a')\n",
    "        builder.macro('hadamard', ['a'], hadamard)\n",
    "        \n",
    "        # Prepare the Hartree Fock state\n",
    "        builder.gate('prepare_all')\n",
    "        builder.gate('Px', q[0])\n",
    "        builder.gate('Px', q[1])\n",
    "        builder.gate('Px', q[2])\n",
    "        \n",
    "        # Apply the UCC Ansatz exp[-i*theta(X1 Y0)]\n",
    "        builder.gate('MS', q[1], q[0], 0, pi2)\n",
    "        builder.gate('Rz', q[0], alpha)\n",
    "        builder.gate('MS', q[1], q[0], 0, npi2)\n",
    "\n",
    "        builder.gate('MS', q[2], q[0], 0, pi2)\n",
    "        builder.gate('Rz', q[0], beta)\n",
    "        builder.gate('MS', q[2], q[0], 0, npi2)\n",
    "        \n",
    "        # Change basis for measurement depending on term\n",
    "        for j, qubit in enumerate(terms[i]):\n",
    "            if qubit == 'X':\n",
    "                builder.gate('hadamard', ('array_item', q, j)),\n",
    "            if qubit == 'Y':\n",
    "                builder.gate('Sxd', ('array_item', q, j)),\n",
    "        builder.gate('measure_all')\n",
    "       \n",
    "        circuit = builder.build()\n",
    "\n",
    "        # Format results of simulation as a list of lists\n",
    "        sim_result = emulator.run_jaqal_circuit(circuit)\n",
    "        sim_probs = sim_result.probabilities(0)\n",
    "        probs = []\n",
    "        for state in sim_probs:\n",
    "            probs += [sim_probs[state]] #Append probabilities of each state for a particular term\n",
    "        term_probs += [probs] #Combine lists of probabilities of each term in Hamiltonian\n",
    "    return term_probs"
   ]
  },
  {
   "cell_type": "markdown",
   "metadata": {},
   "source": [
    "## Step 4: Define functions to calculate energy expectation value of Ansatz state"
   ]
  },
  {
   "cell_type": "code",
   "execution_count": 11,
   "metadata": {},
   "outputs": [],
   "source": [
    "# Calculate energy of one term of the Hamiltonian for one possible state\n",
    "def term_energy(term, state, coefficient, prob):\n",
    "    parity = 1\n",
    "    energy = 0\n",
    "    for i in range(len(term)):\n",
    "        if term[i] != None and state[i] == '1':\n",
    "            parity = -1*parity\n",
    "    energy = coefficient*prob*parity\n",
    "    return energy\n",
    "\n",
    "# Calculate energy of the molecule for given values of alpha and beta\n",
    "def calculate_energy(params):\n",
    "    energy = 0\n",
    "    probs = ansatz(params[0], params[1]) #Convert tuple to float for circuit\n",
    "    for i in range(len(terms)): #For each term in the hamiltonian\n",
    "        for j in range(len(probs[0])): #For each possible state\n",
    "            term = terms[i]\n",
    "            state = '{0:03b}'.format(j)[::-1] #Formatted by number of qubits\n",
    "            coefficient = cs[i].real\n",
    "            prob = probs[i][j]\n",
    "            energy += term_energy(term, state, coefficient, probs[i][j])\n",
    "    return energy"
   ]
  },
  {
   "cell_type": "markdown",
   "metadata": {},
   "source": [
    "## Step 5: Minimize the energy expectation value in α and ß"
   ]
  },
  {
   "cell_type": "code",
   "execution_count": 6,
   "metadata": {},
   "outputs": [
    {
     "data": {
      "text/plain": [
       "     fun: -7.951823703960482\n",
       "   maxcv: 0.0\n",
       " message: 'Optimization terminated successfully.'\n",
       "    nfev: 38\n",
       "  status: 1\n",
       " success: True\n",
       "       x: array([3.16708828, 3.21184717])"
      ]
     },
     "execution_count": 6,
     "metadata": {},
     "output_type": "execute_result"
    }
   ],
   "source": [
    "# Minimize the energy using classical optimization\n",
    "optimize.minimize(fun=calculate_energy, x0=[0.01, 0.01], method=\"COBYLA\")"
   ]
  },
  {
   "cell_type": "markdown",
   "metadata": {},
   "source": [
    "## Step 6: Loop over previous steps to calculate ground state energy at different bond lengths"
   ]
  },
  {
   "cell_type": "code",
   "execution_count": 19,
   "metadata": {},
   "outputs": [
    {
     "name": "stdout",
     "output_type": "stream",
     "text": [
      "R=1.0\t Optimized Energy: -7.859598804210465\n",
      "R=1.1\t Optimized Energy: -7.900700704007542\n",
      "R=1.2\t Optimized Energy: -7.927311165877001\n",
      "R=1.3\t Optimized Energy: -7.943381914796786\n",
      "R=1.4\t Optimized Energy: -7.951707002437822\n",
      "R=1.5\t Optimized Energy: -7.9542918742684074\n",
      "R=1.6\t Optimized Energy: -7.952599313022043\n",
      "R=1.7\t Optimized Energy: -7.947712660064833\n",
      "R=1.8\t Optimized Energy: -7.94044503141832\n",
      "R=1.9\t Optimized Energy: -7.9314139114828635\n",
      "R=2.0\t Optimized Energy: -7.921093087825426\n"
     ]
    }
   ],
   "source": [
    "# Set the basis set, spin, and charge of the LiH molecule\n",
    "basis = 'sto-6g'\n",
    "multiplicity = 1\n",
    "charge = 0\n",
    "\n",
    "# Set calculation parameters\n",
    "run_scf = 1\n",
    "run_fci = 1\n",
    "delete_input = True\n",
    "delete_output = False\n",
    "\n",
    "optimized_energies = []\n",
    "exact_energies = []\n",
    "\n",
    "# Loop over bond lengths from 1.0 to 2.0 angstroms\n",
    "n_pts = 11 #Number of points\n",
    "bond_lengths = np.linspace(1.0,2.0,n_pts)\n",
    "for diatomic_bond_length in bond_lengths:\n",
    "    # Generate molecule at some bond length\n",
    "    geometry = [('Li', (0., 0., 0.)), ('H', (0., 0., diatomic_bond_length))]\n",
    "    molecule = MolecularData(\n",
    "        geometry, basis, multiplicity, charge,\n",
    "        description=str(round(diatomic_bond_length, 2)),\n",
    "        filename='./LiH_sto-6g_single_dissociation')\n",
    "\n",
    "    # Run pyscf\n",
    "    molecule = run_pyscf(molecule,\n",
    "                     run_scf=run_scf,\n",
    "                     run_fci=run_fci,\n",
    "                     verbose=False)\n",
    "    \n",
    "    # Get the fermionic Hamiltonian for LiH and map it using the BK encoding\n",
    "    # Reduce active space to orbitals 1, 2, and 3\n",
    "    hamiltonian = molecule.get_molecular_hamiltonian(occupied_indices=[0], active_indices=[1,2,3])\n",
    "    hamiltonian_ferm = of.get_fermion_operator(hamiltonian)\n",
    "    hamiltonian_bk = of.bravyi_kitaev(hamiltonian_ferm)\n",
    "    \n",
    "    # Reduce the BK Hamiltonian for LiH\n",
    "    terms = []\n",
    "    cs = []\n",
    "    red_hamiltonian_bk = QubitOperator()\n",
    "    result = reduce_hamiltonian(hamiltonian_bk)\n",
    "    for i in range(len(result)): #Separate out term and coeffs again after combining like terms\n",
    "        terms += [result[i][0]]\n",
    "        cs += [result[i][1]]\n",
    "        string = ''\n",
    "        for j, pauli in enumerate(result[i][0]):\n",
    "            if pauli != None:\n",
    "                string += str(pauli)+str(j)+' '\n",
    "        red_hamiltonian_bk += result[i][1]*QubitOperator(string)\n",
    "    \n",
    "    # Minimize the energy using classical optimization\n",
    "    result = optimize.minimize(fun=calculate_energy, x0=[0.01, 0.01], method=\"COBYLA\")\n",
    "    optimized_energies.append(result.fun)\n",
    "    exact_energies.append(eigenspectrum(red_hamiltonian_bk)[0])\n",
    "    print(\"R={}\\t Optimized Energy: {}\".format(str(round(diatomic_bond_length, 2)), result.fun))"
   ]
  },
  {
   "cell_type": "markdown",
   "metadata": {},
   "source": [
    "## Step 7: Plot the dissociation curve"
   ]
  },
  {
   "cell_type": "code",
   "execution_count": 20,
   "metadata": {},
   "outputs": [
    {
     "data": {
      "image/png": "[encoded data removed]",
      "text/plain": [
       "<Figure size 720x504 with 1 Axes>"
      ]
     },
     "metadata": {
      "needs_background": "light"
     },
     "output_type": "display_data"
    }
   ],
   "source": [
    "import matplotlib\n",
    "import matplotlib.pyplot as pyplot\n",
    "\n",
    "# Plot the various energies for different bond lengths\n",
    "fig = pyplot.figure(figsize=(10,7))\n",
    "pyplot.rcParams['font.size']=18\n",
    "bkcolor = '#ffffff'\n",
    "ax = fig.add_subplot(1, 1, 1)\n",
    "pyplot.subplots_adjust(left=.2)\n",
    "ax.set_xlabel('R (Angstroms)')\n",
    "ax.set_ylabel(r'E (Hartrees)')\n",
    "ax.set_title(r'LiH bond dissociation curve')\n",
    "ax.spines['right'].set_visible(False)\n",
    "ax.spines['top'].set_visible(False)\n",
    "bond_lengths = [float(x) for x in bond_lengths]\n",
    "ax.plot(bond_lengths, optimized_energies, 'o', label='UCCSD', color='red')\n",
    "ax.plot(bond_lengths, exact_energies, '-', label='Full-CI', color='black')\n",
    "\n",
    "ax.legend(frameon=False)\n",
    "pyplot.show()"
   ]
  },
  {
   "cell_type": "code",
   "execution_count": null,
   "metadata": {},
   "outputs": [],
   "source": []
  }
 ],
 "metadata": {
  "kernelspec": {
   "display_name": "Python 3",
   "language": "python",
   "name": "python3"
  },
  "language_info": {
   "codemirror_mode": {
    "name": "ipython",
    "version": 3
   },
   "file_extension": ".py",
   "mimetype": "text/x-python",
   "name": "python",
   "nbconvert_exporter": "python",
   "pygments_lexer": "ipython3",
   "version": "3.7.6"
  }
 },
 "nbformat": 4,
 "nbformat_minor": 4
}
