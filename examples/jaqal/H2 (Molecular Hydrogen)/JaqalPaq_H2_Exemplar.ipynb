{
 "cells": [
  {
   "cell_type": "markdown",
   "metadata": {},
   "source": [
    "# Molecular Hydrogen (H2) Exemplar\n",
    "## Step 0: Import various libraries"
   ]
  },
  {
   "cell_type": "code",
   "execution_count": 2,
   "metadata": {
    "scrolled": true
   },
   "outputs": [],
   "source": [
    "# Imports for QSCOUT\n",
    "import jaqalpaq\n",
    "from jaqalpaq.core import circuitbuilder\n",
    "from jaqalpaq.core.circuit import normalize_native_gates\n",
    "from jaqalpaq import emulator\n",
    "from qscout.v1 import native_gates\n",
    "\n",
    "# Imports for basic mathematical functionality\n",
    "from math import pi\n",
    "import numpy as np\n",
    "\n",
    "# Imports for OpenFermion(-PySCF)\n",
    "import openfermion as of\n",
    "from openfermion.hamiltonians import MolecularData\n",
    "from openfermionpyscf import run_pyscf\n",
    "\n",
    "# Import for VQE optimizer\n",
    "from scipy import optimize"
   ]
  },
  {
   "cell_type": "markdown",
   "metadata": {},
   "source": [
    "## Step 1: SCF calculation to assmble the second-quantized Hamiltonian"
   ]
  },
  {
   "cell_type": "code",
   "execution_count": 3,
   "metadata": {},
   "outputs": [
    {
     "name": "stdout",
     "output_type": "stream",
     "text": [
      "Bond Length in Angstroms: 0.7474\n",
      "FCI (Exact) energy in Hartrees: -1.137175710240685\n"
     ]
    }
   ],
   "source": [
    "# Set the basis set, spin, and charge of the H2 molecule\n",
    "basis = 'sto-3g'\n",
    "multiplicity = 1\n",
    "charge = 0\n",
    "\n",
    "# Set calculation parameters\n",
    "run_scf = 1\n",
    "run_fci = 1\n",
    "delete_input = True\n",
    "delete_output = False\n",
    "\n",
    "# Generate molecule at some bond length (0.7474 Angstroms here)\n",
    "geometry = [('H', (0., 0., 0.)), ('H', (0., 0., 0.7474))]\n",
    "molecule = MolecularData(\n",
    "    geometry, basis, multiplicity, charge,    \n",
    "    filename='./H2_sto-3g_single_0.7474') #Set file location of data\n",
    "\n",
    "# Run pyscf to generate new molecular data for sto-3g H2\n",
    "molecule = run_pyscf(molecule,\n",
    "                     run_scf=run_scf,\n",
    "                     run_fci=run_fci,\n",
    "                     verbose=False)\n",
    "\n",
    "print(\"Bond Length in Angstroms: {}\".format(0.7474))\n",
    "print(\"FCI (Exact) energy in Hartrees: {}\".format(molecule.fci_energy))"
   ]
  },
  {
   "cell_type": "markdown",
   "metadata": {},
   "source": [
    "## Step 2: Convert the fermionic Hamiltonian to a qubit Hamiltonian"
   ]
  },
  {
   "cell_type": "code",
   "execution_count": 4,
   "metadata": {},
   "outputs": [],
   "source": [
    "# Get the fermionic Hamiltonian for H2 and map it using the BK encoding\n",
    "hamiltonian = molecule.get_molecular_hamiltonian()\n",
    "hamiltonian_ferm = of.get_fermion_operator(hamiltonian)\n",
    "hamiltonian_bk = of.bravyi_kitaev(hamiltonian_ferm)\n",
    "\n",
    "# Define Pauli strings that appear in the reduced two-qubit Hamiltonian\n",
    "terms = [[None, None], [None, 'Z'], ['Z', None], ['Z', 'Z'], ['X', 'X'], ['Y', 'Y']]\n",
    "\n",
    "# Calculate effective coefficients for the reduced two-qubit Hamiltonian\n",
    "# Derivation follows arXiv:1803.10238v2 appendix A-2\n",
    "fs = hamiltonian_bk.terms #Old coefficients from OpenFermion Hamiltonian\n",
    "c0 = (fs[()] + fs[(1, 'Z'),] + fs[(1, 'Z'), (3, 'Z'),]).real\n",
    "c1 = (fs[(0, 'Z'),] + fs[(0, 'Z'), (1, 'Z'),]).real\n",
    "c2 = (fs[(2, 'Z'),] + fs[(1, 'Z'), (2, 'Z'), (3, 'Z'),]).real\n",
    "c3 = (fs[(0, 'Z'), (2, 'Z'),] + fs[(0, 'Z'), (1, 'Z'), (2, 'Z'),] + fs[(0, 'Z'), (2, 'Z'), (3, 'Z'),] + fs[(0, 'Z'), (1, 'Z'), (2, 'Z'), (3, 'Z')]).real\n",
    "c4 = (fs[(0,'X'), (1, 'Z'), (2, 'X'),] + fs[(0, 'X'), (1, 'Z'), (2, 'X'), (3, 'Z'),]).real\n",
    "c5 = (fs[(0, 'Y'), (1, 'Z'), (2, 'Y'),] + fs[(0, 'Y'), (1, 'Z'), (2, 'Y'), (3, 'Z'),]).real\n",
    "cs = [c0, c1, c2, c3, c4, c5] #New coefficients are linear combinations of old coefficients"
   ]
  },
  {
   "cell_type": "markdown",
   "metadata": {},
   "source": [
    "## Step 3: Define UCC Ansatz circuit in JaqalPaq"
   ]
  },
  {
   "cell_type": "code",
   "execution_count": 5,
   "metadata": {},
   "outputs": [],
   "source": [
    "def ansatz(theta):\n",
    "    term_probs = []\n",
    "    for i in range(len(terms)):\n",
    "        builder = circuitbuilder.CircuitBuilder(native_gates=normalize_native_gates(native_gates.NATIVE_GATES))\n",
    "        \n",
    "        # Define constants +-pi/2\n",
    "        pi2 = builder.let('pi2', pi/2)\n",
    "        npi2 = builder.let('npi2', -pi/2)\n",
    "        \n",
    "        # Create a qubit register\n",
    "        q = builder.register('q', 2)\n",
    "        \n",
    "        # Define a hadamard macro\n",
    "        hadamard = circuitbuilder.SequentialBlockBuilder()\n",
    "        hadamard.gate('Sy', 'a')\n",
    "        hadamard.gate('Px', 'a')\n",
    "        builder.macro('hadamard', ['a'], hadamard)\n",
    "        \n",
    "        # Prepare the Hartree Fock state\n",
    "        builder.gate('prepare_all')\n",
    "        builder.gate('Px', q[0])\n",
    "        \n",
    "        # Apply the UCC Ansatz exp[-i*theta(X1 Y0)]\n",
    "        builder.gate('MS', q[1], q[0], 0, pi2)\n",
    "        builder.gate('Rz', q[1], theta)\n",
    "        builder.gate('MS', q[1], q[0], 0, npi2)\n",
    "        \n",
    "        # Change basis for measurement depending on term\n",
    "        for j, qubit in enumerate(terms[i]):\n",
    "            if qubit == 'X':\n",
    "                builder.gate('hadamard', ('array_item', q, j)),\n",
    "            if qubit == 'Y':\n",
    "                builder.gate('Sxd', ('array_item', q, j)),\n",
    "        builder.gate('measure_all')\n",
    "       \n",
    "        circuit = builder.build()\n",
    "\n",
    "        # Format results of simulation as a list of lists\n",
    "        sim_result = emulator.run_jaqal_circuit(circuit)\n",
    "        sim_probs = sim_result.probabilities(0)\n",
    "        probs = []\n",
    "        for state in sim_probs:\n",
    "            probs += [sim_probs[state]] #Append probs of each state for a particular term\n",
    "        term_probs += [probs] #Combine lists of probs of each term in Hamiltonian\n",
    "    return term_probs"
   ]
  },
  {
   "cell_type": "markdown",
   "metadata": {},
   "source": [
    "## Step 4: Define functions to calculate energy expectation value of Ansatz state"
   ]
  },
  {
   "cell_type": "code",
   "execution_count": 6,
   "metadata": {
    "scrolled": true
   },
   "outputs": [],
   "source": [
    "# Calculate energy of one term of the Hamiltonian for one possible state\n",
    "def term_energy(term, state, coefficient, prob):\n",
    "    parity = 1\n",
    "    for i in range(len(term)):\n",
    "        #Change parity if state is occupied and is acted on by a pauli operator\n",
    "        if term[i] != None and state[i] == '1':\n",
    "            parity = -1*parity\n",
    "    return coefficient*prob*parity\n",
    "\n",
    "# Calculate energy of the molecule for a given value of theta\n",
    "def calculate_energy(theta):\n",
    "    energy = 0\n",
    "    probs = ansatz(theta[0]) #Convert tuple (from optimization) to float for circuit\n",
    "    for i in range(len(terms)): #For each term in the hamiltonian\n",
    "        for j in range(len(probs[0])): #For each possible state\n",
    "            term = terms[i]\n",
    "            state = '{0:02b}'.format(j)[::-1] #convert state to binary (# of qubits)\n",
    "            coefficient = cs[i].real\n",
    "            prob = probs[i][j]\n",
    "            #print(term, state, coefficient, prob)\n",
    "            energy += term_energy(term, state, coefficient, prob)\n",
    "    return energy"
   ]
  },
  {
   "cell_type": "markdown",
   "metadata": {},
   "source": [
    "## Step 5: Minimize the energy expectation value in  𝜃"
   ]
  },
  {
   "cell_type": "code",
   "execution_count": 7,
   "metadata": {},
   "outputs": [
    {
     "data": {
      "text/plain": [
       "     fun: -1.137175702877501\n",
       "   maxcv: 0.0\n",
       " message: 'Optimization terminated successfully.'\n",
       "    nfev: 24\n",
       "  status: 1\n",
       " success: True\n",
       "       x: array([3.37005156])"
      ]
     },
     "execution_count": 7,
     "metadata": {},
     "output_type": "execute_result"
    }
   ],
   "source": [
    "# Minimize the energy using classical optimization\n",
    "optimize.minimize(fun=calculate_energy, x0=[0.01], method=\"COBYLA\") #Can use \"L-BFGS-B\" instead"
   ]
  },
  {
   "cell_type": "markdown",
   "metadata": {},
   "source": [
    "## Step 6: Loop over previous steps to calculate ground state energy at different bond lengths"
   ]
  },
  {
   "cell_type": "code",
   "execution_count": 8,
   "metadata": {
    "scrolled": true
   },
   "outputs": [
    {
     "name": "stdout",
     "output_type": "stream",
     "text": [
      "R=0.3\t Optimized Energy: -0.6018037072958554\n",
      "R=0.35\t Optimized Energy: -0.7892693790008494\n",
      "R=0.4\t Optimized Energy: -0.914149691013206\n",
      "R=0.45\t Optimized Energy: -0.9984155842567402\n",
      "R=0.5\t Optimized Energy: -1.0551597871760268\n",
      "R=0.55\t Optimized Energy: -1.0926299058973554\n",
      "R=0.6\t Optimized Energy: -1.1162860002510868\n",
      "R=0.65\t Optimized Energy: -1.1299047829757503\n",
      "R=0.7\t Optimized Energy: -1.136189451219935\n",
      "R=0.75\t Optimized Energy: -1.1371170605309842\n",
      "R=0.8\t Optimized Energy: -1.134147660887728\n",
      "R=0.85\t Optimized Energy: -1.1283618753769296\n",
      "R=0.9\t Optimized Energy: -1.1205602768208802\n",
      "R=0.95\t Optimized Energy: -1.1113394132922496\n",
      "R=1.0\t Optimized Energy: -1.1011503293270284\n",
      "R=1.05\t Optimized Energy: -1.090342172980539\n",
      "R=1.1\t Optimized Energy: -1.0791929395732351\n",
      "R=1.15\t Optimized Energy: -1.0679296578802162\n",
      "R=1.2\t Optimized Energy: -1.0567407432360587\n",
      "R=1.25\t Optimized Energy: -1.0457831405594276\n",
      "R=1.3\t Optimized Energy: -1.0351862640547942\n"
     ]
    }
   ],
   "source": [
    "# Set the basis set, spin, and charge of the H2 molecule\n",
    "basis = 'sto-3g'\n",
    "multiplicity = 1\n",
    "charge = 0\n",
    "\n",
    "# Set calculation parameters\n",
    "run_scf = 1\n",
    "run_fci = 1\n",
    "delete_input = True\n",
    "delete_output = False\n",
    "\n",
    "optimized_energies = []\n",
    "exact_energies = []\n",
    "\n",
    "# Loop over bond lengths from 0.3 to 1.3 angstroms\n",
    "n_pts = 21 #Number of points\n",
    "bond_lengths = np.linspace(0.3,1.3,n_pts)\n",
    "for diatomic_bond_length in bond_lengths:\n",
    "    # Generate molecule at some bond length\n",
    "    geometry = [('H', (0., 0., 0.)), ('H', (0., 0., diatomic_bond_length))]\n",
    "    molecule = MolecularData(\n",
    "        geometry, basis, multiplicity, charge,\n",
    "        description=str(round(diatomic_bond_length, 2)),\n",
    "        filename='./H2_sto-3g_single_dissociation')\n",
    "\n",
    "    # Run pyscf to generate new molecular data for sto-3g H2\n",
    "    molecule = run_pyscf(molecule,\n",
    "                     run_scf=run_scf,\n",
    "                     run_fci=run_fci,\n",
    "                     verbose=False)\n",
    "    \n",
    "    # Get the fermionic Hamiltonian for H2 and map it into qubits using the BK encoding\n",
    "    hamiltonian = molecule.get_molecular_hamiltonian()\n",
    "    hamiltonian_ferm = of.get_fermion_operator(hamiltonian)\n",
    "    hamiltonian_bk = of.bravyi_kitaev(hamiltonian_ferm)\n",
    "\n",
    "    # Define Pauli strings that appear in the reduced two-qubit Hamiltonian\n",
    "    terms = [[None, None], [None, 'Z'], ['Z', None], ['Z', 'Z'], ['X', 'X'], ['Y', 'Y']]\n",
    "\n",
    "    # Calculate effective coefficients for the reduced two-qubit Hamiltonian\n",
    "    # Derivation follows arXiv:1803.10238v2 appendix A-2\n",
    "    fs = hamiltonian_bk.terms #Old coefficients from OpenFermion Hamiltonian\n",
    "    c0 = (fs[()] + fs[(1, 'Z'),] + fs[(1, 'Z'), (3, 'Z'),]).real\n",
    "    c1 = (fs[(0, 'Z'),] + fs[(0, 'Z'), (1, 'Z'),]).real\n",
    "    c2 = (fs[(2, 'Z'),] + fs[(1, 'Z'), (2, 'Z'), (3, 'Z'),]).real\n",
    "    c3 = (fs[(0, 'Z'), (2, 'Z'),] + fs[(0, 'Z'), (1, 'Z'), (2, 'Z'),] + fs[(0, 'Z'), (2, 'Z'), (3, 'Z'),] + fs[(0, 'Z'), (1, 'Z'), (2, 'Z'), (3, 'Z')]).real\n",
    "    c4 = (fs[(0,'X'), (1, 'Z'), (2, 'X'),] + fs[(0, 'X'), (1, 'Z'), (2, 'X'), (3, 'Z'),]).real\n",
    "    c5 = (fs[(0, 'Y'), (1, 'Z'), (2, 'Y'),] + fs[(0, 'Y'), (1, 'Z'), (2, 'Y'), (3, 'Z'),]).real\n",
    "    cs = [c0, c1, c2, c3, c4, c5] #New coefficients are linear combinations of old coefficients\n",
    "\n",
    "    # Minimize the expectation value of the energy using a classical optimizer (COBYLA)\n",
    "    result = optimize.minimize(fun=calculate_energy, x0=[0.01], method=\"COBYLA\")\n",
    "    optimized_energies.append(result.fun)\n",
    "    exact_energies.append(molecule.fci_energy)\n",
    "    print(\"R={}\\t Optimized Energy: {}\".format(str(round(diatomic_bond_length, 2)), result.fun))"
   ]
  },
  {
   "cell_type": "markdown",
   "metadata": {},
   "source": [
    "## Step 7: Plot the dissociation curve"
   ]
  },
  {
   "cell_type": "code",
   "execution_count": 9,
   "metadata": {},
   "outputs": [
    {
     "data": {
      "image/png": "[encoded data removed]",
      "text/plain": [
       "<Figure size 720x504 with 1 Axes>"
      ]
     },
     "metadata": {
      "needs_background": "light"
     },
     "output_type": "display_data"
    }
   ],
   "source": [
    "import matplotlib\n",
    "import matplotlib.pyplot as pyplot\n",
    "\n",
    "# Plot the various energies for different bond lengths\n",
    "fig = pyplot.figure(figsize=(10,7))\n",
    "pyplot.rcParams['font.size']=18\n",
    "bkcolor = '#ffffff'\n",
    "ax = fig.add_subplot(1, 1, 1)\n",
    "pyplot.subplots_adjust(left=.2)\n",
    "ax.set_xlabel('R (Angstroms)')\n",
    "ax.set_ylabel(r'E (Hartrees)')\n",
    "ax.set_title(r'H2 bond dissociation curve')\n",
    "ax.spines['right'].set_visible(False)\n",
    "ax.spines['top'].set_visible(False)\n",
    "bond_lengths = [float(x) for x in bond_lengths]\n",
    "ax.plot(bond_lengths, optimized_energies, 'o', label='UCCSD', color='red')\n",
    "ax.plot(bond_lengths, exact_energies, '-', label='Full-CI', color='black')\n",
    "\n",
    "ax.legend(frameon=False)\n",
    "pyplot.show()"
   ]
  },
  {
   "cell_type": "code",
   "execution_count": null,
   "metadata": {},
   "outputs": [],
   "source": []
  }
 ],
 "metadata": {
  "kernelspec": {
   "display_name": "Python 3",
   "language": "python",
   "name": "python3"
  },
  "language_info": {
   "codemirror_mode": {
    "name": "ipython",
    "version": 3
   },
   "file_extension": ".py",
   "mimetype": "text/x-python",
   "name": "python",
   "nbconvert_exporter": "python",
   "pygments_lexer": "ipython3",
   "version": "3.7.6"
  }
 },
 "nbformat": 4,
 "nbformat_minor": 2
}
