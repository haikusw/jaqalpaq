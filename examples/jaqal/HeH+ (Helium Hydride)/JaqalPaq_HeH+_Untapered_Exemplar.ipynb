{
 "cells": [
  {
   "cell_type": "markdown",
   "metadata": {},
   "source": [
    "# Helium Hydride (Untapered HeH+) Exemplar\n",
    "## Step 0: Import various libraries"
   ]
  },
  {
   "cell_type": "code",
   "execution_count": 2,
   "metadata": {},
   "outputs": [],
   "source": [
    "# Imports for QSCOUT\n",
    "import jaqalpaq\n",
    "from jaqalpaq.core import circuitbuilder\n",
    "from jaqalpaq.core.circuit import normalize_native_gates\n",
    "from jaqalpaq import pygsti\n",
    "from qscout.v1 import native_gates\n",
    "\n",
    "# Imports for basic mathematical functionality\n",
    "from math import pi\n",
    "import numpy as np\n",
    "\n",
    "# Imports for OpenFermion(-PySCF)\n",
    "import openfermion as of\n",
    "from openfermion.hamiltonians import MolecularData\n",
    "from openfermionpyscf import run_pyscf\n",
    "\n",
    "# Import for VQE optimizer\n",
    "from scipy import optimize"
   ]
  },
  {
   "cell_type": "markdown",
   "metadata": {},
   "source": [
    "# Step 1: SCF calculation to assmble the second-quantized Hamiltonian"
   ]
  },
  {
   "cell_type": "code",
   "execution_count": 3,
   "metadata": {},
   "outputs": [
    {
     "name": "stdout",
     "output_type": "stream",
     "text": [
      "Bond Length in Angstroms: 0.8\n",
      "FCI (Exact) energy in Hartrees: -2.6407145904882596\n"
     ]
    }
   ],
   "source": [
    "# Set the basis set, spin, and charge of the H2 molecule\n",
    "basis = 'sto-3g'\n",
    "multiplicity = 1\n",
    "charge = 1 #Charge is 1 for HeH+\n",
    "\n",
    "# Set calculation parameters\n",
    "run_scf = 1\n",
    "run_fci = 1\n",
    "delete_input = True\n",
    "# Note: this option is critical as it ensures that the integrals are written out to an HDF5 file\n",
    "delete_output = False\n",
    "\n",
    "# Generate molecule at some bond length (0.8 Angstroms here)\n",
    "geometry = [('He', (0., 0., 0.)), ('H', (0., 0., 0.5))]\n",
    "molecule = MolecularData(\n",
    "    geometry, basis, multiplicity, charge,    \n",
    "    filename='./HeH+_4_sto-3g_single_0.8') #Set file location of data\n",
    "\n",
    "# Run pyscf to generate new molecular data for sto-3g HeH+\n",
    "molecule = run_pyscf(molecule,\n",
    "                     run_scf=run_scf,\n",
    "                     run_fci=run_fci,\n",
    "                     verbose=False)\n",
    "\n",
    "print(\"Bond Length in Angstroms: {}\".format(0.8))\n",
    "print(\"FCI (Exact) energy in Hartrees: {}\".format(molecule.fci_energy))"
   ]
  },
  {
   "cell_type": "markdown",
   "metadata": {},
   "source": [
    "## Step 2: Convert the fermionic Hamiltonian to a qubit Hamiltonian"
   ]
  },
  {
   "cell_type": "code",
   "execution_count": 4,
   "metadata": {},
   "outputs": [
    {
     "name": "stdout",
     "output_type": "stream",
     "text": [
      "Bond Length in Angstroms: 0.8\n",
      "FCI (Exact) energy in Hartrees: -2.6407145904882596\n"
     ]
    }
   ],
   "source": [
    "#Get the Hamiltonian for HeH+\n",
    "hamiltonian = molecule.get_molecular_hamiltonian()\n",
    "hamiltonian_ferm = of.get_fermion_operator(hamiltonian)\n",
    "hamiltonian_bk = of.bravyi_kitaev(hamiltonian_ferm)\n",
    "hamiltonian_jw = of.jordan_wigner(hamiltonian_ferm)\n",
    "\n",
    "print(\"Bond Length in Angstroms: {}\".format(0.8))\n",
    "print(\"FCI (Exact) energy in Hartrees: {}\".format(molecule.fci_energy))\n",
    "\n",
    "\n",
    "terms = []\n",
    "cs = []\n",
    "for term in hamiltonian_jw.terms:\n",
    "    paulis = [None, None, None, None]\n",
    "    for pauli in term:\n",
    "        paulis[pauli[0]] = pauli[1]\n",
    "    terms += [paulis]\n",
    "    cs += [hamiltonian_jw.terms[term]]"
   ]
  },
  {
   "cell_type": "markdown",
   "metadata": {},
   "source": [
    "## Step 3: Define UCC Ansatz circuit in JaqalPaq"
   ]
  },
  {
   "cell_type": "code",
   "execution_count": 5,
   "metadata": {},
   "outputs": [],
   "source": [
    "def ansatz(theta):\n",
    "    term_probs = []\n",
    "    for i in range(len(terms)):\n",
    "        sexpr = [\n",
    "            'circuit',\n",
    "            #Define constants +-pi/2\n",
    "            ('let', 'pi2', pi/2),\n",
    "            ('let', 'npi2', -pi/2),\n",
    "            ('let', 'pi4', pi/4),\n",
    "\n",
    "            #Create a qubit register\n",
    "            ('register', 'q', 4),\n",
    "            ('map', 'q0', 'q', 0),\n",
    "            ('map', 'q1', 'q', 1),\n",
    "            ('map', 'q2', 'q', 2),\n",
    "            ('map', 'q3', 'q', 3),\n",
    "            \n",
    "            #Define a hadamard macro\n",
    "            ('macro',\n",
    "                'hadamard',\n",
    "                'a',\n",
    "                ('sequential_block',\n",
    "                    ('gate', 'Sy', 'a'),\n",
    "                    ('gate', 'Px', 'a'),\n",
    "                ),\n",
    "            ),\n",
    "            \n",
    "            #Define a CNOT macro\n",
    "            ('macro',\n",
    "                'CNOT',\n",
    "                'control',\n",
    "                'target',\n",
    "                ('sequential_block',\n",
    "                    ('gate', 'Sy', 'control'),\n",
    "                    ('gate', 'MS', 'control', 'target', 'npi2', 0),\n",
    "                    ('parallel_block',\n",
    "                        ('gate', 'Sxd', 'control'),\n",
    "                        ('gate', 'Sxd', 'target'),\n",
    "                    ),\n",
    "                    ('gate','Syd', 'control'),\n",
    "                ),\n",
    "            ),\n",
    "\n",
    "            #Prepare the Hartree Fock state |0011>\n",
    "            ('gate', 'prepare_all'),\n",
    "            ('gate', 'Px', 'q0'),\n",
    "            ('gate', 'Px', 'q1'),\n",
    "            \n",
    "            #UCC = exp(-i*theta Y3 X2 X1 X0)\n",
    "            #CNOT ladder is replaced with MS gates\n",
    "            ('gate', 'hadamard', 'q0'),\n",
    "            ('gate', 'hadamard', 'q1'),\n",
    "            ('gate', 'hadamard', 'q2'),\n",
    "            ('gate', 'Sxd', 'q3'),\n",
    "\n",
    "            ('gate', 'CNOT', 'q0', 'q1'),\n",
    "            ('gate', 'CNOT', 'q1', 'q2'),\n",
    "            ('gate', 'CNOT', 'q2', 'q3'),\n",
    "            ('gate', 'Rz', 'q3', theta),\n",
    "            ('gate', 'CNOT', 'q2', 'q3'),\n",
    "            ('gate', 'CNOT', 'q1', 'q2'),\n",
    "            ('gate', 'CNOT', 'q0', 'q1'),\n",
    "\n",
    "            ('gate', 'hadamard', 'q0'),\n",
    "            ('gate', 'hadamard', 'q1'),\n",
    "            ('gate', 'hadamard', 'q2'),\n",
    "            ('gate', 'Sx', 'q3'),\n",
    "        ]\n",
    "\n",
    "        #Change basis for measurement depending on term\n",
    "        for j, qubit in enumerate(terms[i]):\n",
    "            if qubit == 'X':\n",
    "                sexpr+=('gate', 'hadamard', ('array_item', 'q', j)),\n",
    "            if qubit == 'Y':\n",
    "                sexpr+=('gate', 'Sxd', ('array_item', 'q', j)),\n",
    "        sexpr+=('gate', 'measure_all'),\n",
    "       \n",
    "        circuit=circuitbuilder.build(sexpr, native_gates=normalize_native_gates(native_gates.NATIVE_GATES))\n",
    "\n",
    "        #Format results of simulation as a list of lists\n",
    "        sim_result = pygsti.forward_simulate_circuit(circuit)\n",
    "        probs = []\n",
    "        for state in sim_result:\n",
    "            probs += [sim_result[state]] #Append probabilities of each state for a particular term\n",
    "        term_probs += [probs] #Combine lists of probabilities of each term in Hamiltonian\n",
    "    return term_probs"
   ]
  },
  {
   "cell_type": "markdown",
   "metadata": {},
   "source": [
    "## Step 4: Define functions to calculate energy expectation value of Ansatz state"
   ]
  },
  {
   "cell_type": "code",
   "execution_count": 6,
   "metadata": {},
   "outputs": [],
   "source": [
    "#Calculate energy of one term of the Hamiltonian for one possible state\n",
    "def term_energy(term, state, coefficient, prob):\n",
    "    parity = 1\n",
    "    for i in range(len(term)):\n",
    "        #Change parity if state is occupied and is acted on by a pauli operator\n",
    "        if term[i] != None and state[i] == '1':\n",
    "            parity = -1*parity\n",
    "    return coefficient*prob*parity\n",
    "\n",
    "#Calculate energy of the molecule for a given value of theta\n",
    "def calculate_energy(theta):\n",
    "    energy = 0\n",
    "    probs = ansatz(theta[0]) #Convert tuple (from optimization) to float for circuit\n",
    "    for i in range(len(terms)): #For each term in the hamiltonian\n",
    "        for j in range(len(probs[0])): #For each possible state\n",
    "            term = terms[i]\n",
    "            state = '{0:04b}'.format(j) #convert state to binary (# of qubits)\n",
    "            coefficient = cs[i].real\n",
    "            prob = probs[i][j]\n",
    "            energy += term_energy(term, state, coefficient, prob)\n",
    "    return energy"
   ]
  },
  {
   "cell_type": "markdown",
   "metadata": {},
   "source": [
    "## Step 5: Minimize the energy expectation value in 𝜃"
   ]
  },
  {
   "cell_type": "code",
   "execution_count": 7,
   "metadata": {},
   "outputs": [
    {
     "data": {
      "text/plain": [
       "     fun: -2.6406229405295214\n",
       "   maxcv: 0.0\n",
       " message: 'Optimization terminated successfully.'\n",
       "    nfev: 21\n",
       "  status: 1\n",
       " success: True\n",
       "       x: array([-0.10806406])"
      ]
     },
     "execution_count": 7,
     "metadata": {},
     "output_type": "execute_result"
    }
   ],
   "source": [
    "#Minimize the energy using classical optimization\n",
    "optimize.minimize(fun=calculate_energy, x0=[0.01], method=\"COBYLA\") #Can use \"L-BFGS-B\" instead"
   ]
  },
  {
   "cell_type": "markdown",
   "metadata": {},
   "source": [
    "## Step 6: Loop over previous steps to calculate ground state energy at different bond lengths"
   ]
  },
  {
   "cell_type": "code",
   "execution_count": 8,
   "metadata": {},
   "outputs": [
    {
     "name": "stdout",
     "output_type": "stream",
     "text": [
      "R=0.5\t Optimized Energy: -2.640622940529521\n",
      "R=0.6\t Optimized Energy: -2.7698461621061883\n",
      "R=0.7\t Optimized Energy: -2.8302229096844993\n",
      "R=0.8\t Optimized Energy: -2.8553440236127603\n",
      "R=0.9\t Optimized Energy: -2.8621699047653064\n",
      "R=1.0\t Optimized Energy: -2.859724487607608\n",
      "R=1.1\t Optimized Energy: -2.8530647502146342\n",
      "R=1.2\t Optimized Energy: -2.8450534877639138\n",
      "R=1.3\t Optimized Energy: -2.837227108140757\n",
      "R=1.4\t Optimized Energy: -2.8303157818624145\n",
      "R=1.5\t Optimized Energy: -2.8245835156108785\n",
      "R=1.6\t Optimized Energy: -2.820040206737268\n",
      "R=1.7\t Optimized Energy: -2.8165661745091297\n",
      "R=1.8\t Optimized Energy: -2.813985967445596\n",
      "R=1.9\t Optimized Energy: -2.812113533349806\n",
      "R=2.0\t Optimized Energy: -2.810778628868453\n"
     ]
    }
   ],
   "source": [
    "# Set the basis set, spin, and charge of the H2 molecule\n",
    "basis = 'sto-3g'\n",
    "multiplicity = 1\n",
    "charge = 1\n",
    "\n",
    "# Set calculation parameters\n",
    "run_scf = 1\n",
    "run_fci = 1\n",
    "delete_input = True\n",
    "# Note: this option is critical as it ensures that the integrals are written out to an HDF5 file\n",
    "delete_output = False\n",
    "\n",
    "optimized_energies = []\n",
    "exact_energies = []\n",
    "\n",
    "#Loop over bond lengths from 0.5 to 2.0 angstroms\n",
    "n_pts = 16 #Number of points \n",
    "bond_lengths = np.linspace(0.5,2.0,n_pts)\n",
    "for diatomic_bond_length in bond_lengths:\n",
    "    # Generate molecule at some bond length\n",
    "    geometry = [('He', (0., 0., 0.)), ('H', (0., 0., diatomic_bond_length))]\n",
    "    molecule = MolecularData(\n",
    "        geometry, basis, multiplicity, charge,\n",
    "        description=str(round(diatomic_bond_length, 2)),\n",
    "        filename='./HeH+_4_sto-3g_single_dissociation')\n",
    "\n",
    "    # Run pyscf\n",
    "    molecule = run_pyscf(molecule,\n",
    "                     run_scf=run_scf,\n",
    "                     run_fci=run_fci,\n",
    "                     verbose=False)\n",
    "    \n",
    "    # Get the fermionic Hamiltonian for H2 and map it into qubits using the Bravyi-Kitaev encoding\n",
    "    hamiltonian = molecule.get_molecular_hamiltonian()\n",
    "    hamiltonian_ferm = of.get_fermion_operator(hamiltonian)\n",
    "    hamiltonian_jw = of.jordan_wigner(hamiltonian_ferm)\n",
    "    hamiltonian_bk = of.bravyi_kitaev(hamiltonian_ferm)\n",
    "\n",
    "    #Define terms and coefficients of our Hamiltonian\n",
    "    terms = []\n",
    "    cs = []\n",
    "    for term in hamiltonian_jw.terms:\n",
    "        paulis = [None, None, None, None]\n",
    "        for pauli in term:\n",
    "            paulis[pauli[0]] = pauli[1]\n",
    "        terms += [paulis]\n",
    "        cs += [hamiltonian_jw.terms[term]]\n",
    "\n",
    "    # Minimize the expectation value of the energy using a classical optimizer (COBYLA)\n",
    "    result = optimize.minimize(fun=calculate_energy, x0=[0.01], method=\"COBYLA\")\n",
    "    optimized_energies.append(result.fun)\n",
    "    exact_energies.append(molecule.fci_energy)\n",
    "    print(\"R={}\\t Optimized Energy: {}\".format(str(round(diatomic_bond_length, 2)), result.fun))"
   ]
  },
  {
   "cell_type": "code",
   "execution_count": 10,
   "metadata": {},
   "outputs": [
    {
     "data": {
      "image/png": "[encoded data removed]",
      "text/plain": [
       "<Figure size 720x504 with 1 Axes>"
      ]
     },
     "metadata": {
      "needs_background": "light"
     },
     "output_type": "display_data"
    }
   ],
   "source": [
    "import matplotlib\n",
    "import matplotlib.pyplot as pyplot\n",
    "\n",
    "# Plot the various energies for different bond lengths\n",
    "fig = pyplot.figure(figsize=(10,7))\n",
    "pyplot.rcParams['font.size']=18\n",
    "bkcolor = '#ffffff'\n",
    "ax = fig.add_subplot(1, 1, 1)\n",
    "pyplot.subplots_adjust(left=.2)\n",
    "ax.set_xlabel('R (Angstroms)')\n",
    "ax.set_ylabel(r'E (Hartrees)')\n",
    "ax.set_title(r'HeH+ 4-qubit bond dissociation curve')\n",
    "ax.spines['right'].set_visible(False)\n",
    "ax.spines['top'].set_visible(False)\n",
    "bond_lengths = [float(x) for x in bond_lengths]\n",
    "ax.plot(bond_lengths, optimized_energies, 'o', label='UCCSD', color='red')\n",
    "ax.plot(bond_lengths, exact_energies, '-', label='Full-CI', color='black')\n",
    "\n",
    "ax.legend(frameon=False)\n",
    "pyplot.show()\n",
    "\n",
    "fig.savefig(\"HeH+ Bond Dissociation Curve.pdf\")"
   ]
  },
  {
   "cell_type": "code",
   "execution_count": null,
   "metadata": {},
   "outputs": [],
   "source": []
  }
 ],
 "metadata": {
  "kernelspec": {
   "display_name": "Python 3",
   "language": "python",
   "name": "python3"
  },
  "language_info": {
   "codemirror_mode": {
    "name": "ipython",
    "version": 3
   },
   "file_extension": ".py",
   "mimetype": "text/x-python",
   "name": "python",
   "nbconvert_exporter": "python",
   "pygments_lexer": "ipython3",
   "version": "3.7.6"
  }
 },
 "nbformat": 4,
 "nbformat_minor": 4
}
