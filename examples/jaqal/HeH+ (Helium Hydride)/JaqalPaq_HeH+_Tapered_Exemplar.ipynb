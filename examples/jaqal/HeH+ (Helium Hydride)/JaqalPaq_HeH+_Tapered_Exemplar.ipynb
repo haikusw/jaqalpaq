{
 "cells": [
  {
   "cell_type": "markdown",
   "metadata": {},
   "source": [
    "# Helium Hydride (Tapered HeH+) Exemplar\n",
    "## Step 0: Import various libraries"
   ]
  },
  {
   "cell_type": "code",
   "execution_count": 10,
   "metadata": {},
   "outputs": [],
   "source": [
    "# Imports for QSCOUT\n",
    "import jaqalpaq\n",
    "from jaqalpaq.core import circuitbuilder\n",
    "from jaqalpaq.core.circuit import normalize_native_gates\n",
    "from jaqalpaq import pygsti\n",
    "from qscout.v1 import native_gates\n",
    "\n",
    "# Imports for basic mathematical functionality\n",
    "from math import pi\n",
    "import numpy as np\n",
    "\n",
    "# Imports for OpenFermion(-PySCF)\n",
    "import openfermion as of\n",
    "from openfermion.hamiltonians import MolecularData\n",
    "from openfermionpyscf import run_pyscf\n",
    "\n",
    "# Import for VQE optimizer\n",
    "from scipy import optimize"
   ]
  },
  {
   "cell_type": "markdown",
   "metadata": {},
   "source": [
    "## Step 1: SCF calculation to assmble the second-quantized Hamiltonian"
   ]
  },
  {
   "cell_type": "code",
   "execution_count": 11,
   "metadata": {},
   "outputs": [
    {
     "name": "stdout",
     "output_type": "stream",
     "text": [
      "Bond Length in Angstroms: 0.8\n",
      "FCI (Exact) energy in Hartrees: -2.8557086272280108\n"
     ]
    }
   ],
   "source": [
    "# Set the basis set, spin, and charge of the H2 molecule\n",
    "basis = 'sto-3g'\n",
    "multiplicity = 1\n",
    "charge = 1 #Charge is 1 for HeH+\n",
    "\n",
    "# Set calculation parameters\n",
    "run_scf = 1\n",
    "run_fci = 1\n",
    "delete_input = True\n",
    "# Note: this option is critical as it ensures that the integrals are written out to an HDF5 file\n",
    "delete_output = False\n",
    "\n",
    "# Generate molecule at some bond length (0.8 Angstroms here)\n",
    "geometry = [('He', (0., 0., 0.)), ('H', (0., 0., 0.8))]\n",
    "molecule = MolecularData(\n",
    "    geometry, basis, multiplicity, charge,    \n",
    "    filename='./HeH+_2_sto-3g_single_0.8') #Set file location of data\n",
    "\n",
    "# Run pyscf to generate new molecular data for sto-3g HeH+\n",
    "molecule = run_pyscf(molecule,\n",
    "                     run_scf=run_scf,\n",
    "                     run_fci=run_fci,\n",
    "                     verbose=False)\n",
    "\n",
    "print(\"Bond Length in Angstroms: {}\".format(0.8))\n",
    "print(\"FCI (Exact) energy in Hartrees: {}\".format(molecule.fci_energy))"
   ]
  },
  {
   "cell_type": "markdown",
   "metadata": {},
   "source": [
    "## Step 2: Convert the fermionic Hamiltonian to a qubit Hamiltonian"
   ]
  },
  {
   "cell_type": "code",
   "execution_count": 12,
   "metadata": {},
   "outputs": [],
   "source": [
    "#Get the Hamiltonian for HeH+\n",
    "hamiltonian = molecule.get_molecular_hamiltonian()\n",
    "hamiltonian_ferm = of.get_fermion_operator(hamiltonian)\n",
    "hamiltonian_bk = of.symmetry_conserving_bravyi_kitaev(hamiltonian_ferm, active_orbitals=4, active_fermions=2)\n",
    "\n",
    "#Define terms and coefficients of our Hamiltonian\n",
    "terms = []\n",
    "cs = [] #Coefficients\n",
    "for term in hamiltonian_bk.terms:\n",
    "    paulis = [None, None]\n",
    "    for pauli in term:\n",
    "        paulis[pauli[0]] = pauli[1]\n",
    "    terms += [paulis]\n",
    "    cs += [hamiltonian_bk.terms[term]]"
   ]
  },
  {
   "cell_type": "markdown",
   "metadata": {},
   "source": [
    "## Step 3: Define UCC Ansatz circuit in JaqalPaq"
   ]
  },
  {
   "cell_type": "code",
   "execution_count": 13,
   "metadata": {},
   "outputs": [],
   "source": [
    "def ansatz(theta):\n",
    "    term_probs = []\n",
    "    for i in range(len(terms)):\n",
    "        sexpr = [\n",
    "            'circuit',\n",
    "            #Define constants +-pi/2\n",
    "            ('let', 'pi2', pi/2),\n",
    "            ('let', 'npi2', -pi/2),\n",
    "\n",
    "            #Create a qubit register\n",
    "            ('register', 'q', 2),\n",
    "            ('map', 'q0', 'q', 0),\n",
    "            ('map', 'q1', 'q', 1),\n",
    "            \n",
    "            #Define a hadamard macro\n",
    "            ('macro',\n",
    "                'hadamard',\n",
    "                'a',\n",
    "                ('sequential_block',\n",
    "                    ('gate', 'Sy', 'a'),\n",
    "                    ('gate', 'Px', 'a'),\n",
    "                ),\n",
    "            ),\n",
    "\n",
    "            #Prepare the state |11>\n",
    "            ('gate', 'prepare_all'),\n",
    "            ('gate', 'Px', 'q0'),\n",
    "            ('gate', 'Px', 'q1'),\n",
    "\n",
    "            #Apply the UCC Ansatz exp[-i*theta(X1 Y0)]\n",
    "            ('gate', 'MS', 'q1', 'q0', 'npi2', 0),\n",
    "            ('gate', 'Rz', 'q1', theta),\n",
    "            ('gate', 'MS', 'q1', 'q0', 'pi2', 0),\n",
    "        ]\n",
    "        \n",
    "        #Change basis for measurement depending on term\n",
    "        for j, qubit in enumerate(terms[i]):\n",
    "            if qubit == 'X':\n",
    "                sexpr+=('gate', 'hadamard', ('array_item', 'q', j)),\n",
    "            if qubit == 'Y':\n",
    "                sexpr+=('gate', 'Sxd', ('array_item', 'q', j)),\n",
    "        sexpr+=('gate', 'measure_all'),\n",
    "       \n",
    "        circuit=circuitbuilder.build(sexpr, native_gates=normalize_native_gates(native_gates.NATIVE_GATES))\n",
    "\n",
    "        #Format results of simulation as a list of lists\n",
    "        sim_result = pygsti.forward_simulate_circuit(circuit)\n",
    "        probs = []\n",
    "        for state in sim_result:\n",
    "            probs += [sim_result[state]] #Append probabilities of each state for a particular term\n",
    "        term_probs += [probs] #Combine lists of probabilities of each term in Hamiltonian\n",
    "    return term_probs"
   ]
  },
  {
   "cell_type": "markdown",
   "metadata": {},
   "source": [
    "## Step 4: Define functions to calculate energy expectation value of Ansatz state"
   ]
  },
  {
   "cell_type": "code",
   "execution_count": 14,
   "metadata": {
    "scrolled": true
   },
   "outputs": [],
   "source": [
    "#Calculate energy of one term of the Hamiltonian for one possible state\n",
    "def term_energy(term, state, coefficient, prob):\n",
    "    parity = 1\n",
    "    for i in range(len(term)):\n",
    "        #Change parity if state is occupied and is acted on by a pauli operator\n",
    "        if term[i] != None and state[i] == '1':\n",
    "            parity = -1*parity\n",
    "    return coefficient*prob*parity\n",
    "\n",
    "#Calculate energy of the molecule for a given value of theta\n",
    "def calculate_energy(theta):\n",
    "    energy = 0\n",
    "    probs = ansatz(theta[0]) #Convert tuple (from optimization) to float for circuit\n",
    "    for i in range(len(terms)): #For each term in the hamiltonian\n",
    "        for j in range(len(probs[0])): #For each possible state\n",
    "            term = terms[i]\n",
    "            state = '{0:02b}'.format(j) #convert state to binary (# of qubits)\n",
    "            coefficient = cs[i].real\n",
    "            prob = probs[i][j]\n",
    "            energy += term_energy(term, state, coefficient, prob)\n",
    "    return energy"
   ]
  },
  {
   "cell_type": "markdown",
   "metadata": {},
   "source": [
    "## Step 5: Minimize the energy expectation value in 𝜃"
   ]
  },
  {
   "cell_type": "code",
   "execution_count": 15,
   "metadata": {},
   "outputs": [
    {
     "data": {
      "text/plain": [
       "     fun: -2.8553440224484588\n",
       "   maxcv: 0.0\n",
       " message: 'Optimization terminated successfully.'\n",
       "    nfev: 21\n",
       "  status: 1\n",
       " success: True\n",
       "       x: array([3.01410625])"
      ]
     },
     "execution_count": 15,
     "metadata": {},
     "output_type": "execute_result"
    }
   ],
   "source": [
    "#Minimize the energy using classical optimization\n",
    "optimize.minimize(fun=calculate_energy, x0=[0.01], method=\"COBYLA\") #Can use \"L-BFGS-B\" instead"
   ]
  },
  {
   "cell_type": "markdown",
   "metadata": {},
   "source": [
    "## Step 6: Loop over previous steps to calculate ground state energy at different bond lengths"
   ]
  },
  {
   "cell_type": "code",
   "execution_count": 16,
   "metadata": {},
   "outputs": [
    {
     "name": "stdout",
     "output_type": "stream",
     "text": [
      "R=0.5\t Optimized Energy: -2.6406229389968803\n",
      "R=0.6\t Optimized Energy: -2.7698461628810396\n",
      "R=0.7\t Optimized Energy: -2.8302229108137475\n",
      "R=0.8\t Optimized Energy: -2.8553440224484588\n",
      "R=0.9\t Optimized Energy: -2.862169903427371\n",
      "R=1.0\t Optimized Energy: -2.859724487518574\n",
      "R=1.1\t Optimized Energy: -2.853064749450981\n",
      "R=1.2\t Optimized Energy: -2.8450534872858806\n",
      "R=1.3\t Optimized Energy: -2.837227111519151\n",
      "R=1.4\t Optimized Energy: -2.8303157830182406\n",
      "R=1.5\t Optimized Energy: -2.8245835165008115\n",
      "R=1.6\t Optimized Energy: -2.82004020419945\n",
      "R=1.7\t Optimized Energy: -2.8165661765781778\n",
      "R=1.8\t Optimized Energy: -2.813985968588915\n",
      "R=1.9\t Optimized Energy: -2.8121135325585924\n",
      "R=2.0\t Optimized Energy: -2.810778636854449\n"
     ]
    }
   ],
   "source": [
    "# Set the basis set, spin, and charge of the H2 molecule\n",
    "basis = 'sto-3g'\n",
    "multiplicity = 1\n",
    "charge = 1\n",
    "\n",
    "# Set calculation parameters\n",
    "run_scf = 1\n",
    "run_fci = 1\n",
    "delete_input = True\n",
    "# Note: this option is critical as it ensures that the integrals are written out to an HDF5 file\n",
    "delete_output = False\n",
    "\n",
    "optimized_energies = []\n",
    "exact_energies = []\n",
    "\n",
    "#Loop over bond lengths from 0.5 to 2.0 angstroms\n",
    "n_pts = 16 #Number of points\n",
    "bond_lengths = np.linspace(0.5,2.0,n_pts)\n",
    "for diatomic_bond_length in bond_lengths:\n",
    "    # Generate molecule at some bond length\n",
    "    geometry = [('He', (0., 0., 0.)), ('H', (0., 0., diatomic_bond_length))]\n",
    "    molecule = MolecularData(\n",
    "        geometry, basis, multiplicity, charge,\n",
    "        description=str(round(diatomic_bond_length, 2)),\n",
    "        filename='./HeH+_2_sto-3g_single_dissociation')\n",
    "\n",
    "    # Run pyscf\n",
    "    molecule = run_pyscf(molecule,\n",
    "                     run_scf=run_scf,\n",
    "                     run_fci=run_fci,\n",
    "                     verbose=False)\n",
    "    \n",
    "    # Get the fermionic Hamiltonian for H2 and map it into qubits using the Bravyi-Kitaev encoding\n",
    "    hamiltonian = molecule.get_molecular_hamiltonian()\n",
    "    hamiltonian_ferm = of.get_fermion_operator(hamiltonian)\n",
    "    hamiltonian_bk = of.symmetry_conserving_bravyi_kitaev(hamiltonian_ferm, active_orbitals=4, active_fermions=2)\n",
    "\n",
    "    #Define terms and coefficients of our Hamiltonian\n",
    "    terms = []\n",
    "    cs = [] #Coefficients\n",
    "    for term in hamiltonian_bk.terms:\n",
    "        paulis = [None, None]\n",
    "        for pauli in term:\n",
    "            paulis[pauli[0]] = pauli[1]\n",
    "        terms += [paulis]\n",
    "        cs += [hamiltonian_bk.terms[term]]\n",
    "\n",
    "    # Minimize the expectation value of the energy using a classical optimizer (COBYLA)\n",
    "    result = optimize.minimize(fun=calculate_energy, x0=[0.01], method=\"COBYLA\")\n",
    "    optimized_energies.append(result.fun)\n",
    "    exact_energies.append(molecule.fci_energy)\n",
    "    print(\"R={}\\t Optimized Energy: {}\".format(str(round(diatomic_bond_length, 2)), result.fun))"
   ]
  },
  {
   "cell_type": "markdown",
   "metadata": {},
   "source": [
    "## Step 7: Plot the dissociation curve"
   ]
  },
  {
   "cell_type": "code",
   "execution_count": 19,
   "metadata": {},
   "outputs": [
    {
     "data": {
      "image/png": "[encoded data removed]",
      "text/plain": [
       "<Figure size 720x504 with 1 Axes>"
      ]
     },
     "metadata": {
      "needs_background": "light"
     },
     "output_type": "display_data"
    }
   ],
   "source": [
    "import matplotlib\n",
    "import matplotlib.pyplot as pyplot\n",
    "\n",
    "# Plot the various energies for different bond lengths\n",
    "fig = pyplot.figure(figsize=(10,7))\n",
    "pyplot.rcParams['font.size']=18\n",
    "bkcolor = '#ffffff'\n",
    "ax = fig.add_subplot(1, 1, 1)\n",
    "pyplot.subplots_adjust(left=.2)\n",
    "ax.set_xlabel('R (Angstroms)')\n",
    "ax.set_ylabel(r'E (Hartrees)')\n",
    "ax.set_title(r'HeH+ 2-qubit bond dissociation curve')\n",
    "ax.spines['right'].set_visible(False)\n",
    "ax.spines['top'].set_visible(False)\n",
    "bond_lengths = [float(x) for x in bond_lengths]\n",
    "ax.plot(bond_lengths, optimized_energies, 'o', label='UCCSD', color='red')\n",
    "ax.plot(bond_lengths, exact_energies, '-', label='Full-CI', color='black')\n",
    "\n",
    "ax.legend(frameon=False)\n",
    "pyplot.show()\n",
    "\n",
    "fig.savefig(\"HeH+ Bond Dissociation Curve.pdf\")"
   ]
  },
  {
   "cell_type": "code",
   "execution_count": null,
   "metadata": {},
   "outputs": [],
   "source": []
  }
 ],
 "metadata": {
  "kernelspec": {
   "display_name": "Python 3",
   "language": "python",
   "name": "python3"
  },
  "language_info": {
   "codemirror_mode": {
    "name": "ipython",
    "version": 3
   },
   "file_extension": ".py",
   "mimetype": "text/x-python",
   "name": "python",
   "nbconvert_exporter": "python",
   "pygments_lexer": "ipython3",
   "version": "3.7.6"
  }
 },
 "nbformat": 4,
 "nbformat_minor": 2
}
