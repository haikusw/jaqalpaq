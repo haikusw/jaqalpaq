{
 "cells": [
  {
   "cell_type": "markdown",
   "metadata": {},
   "source": [
    "## Bell State Preparation from Cirq"
   ]
  },
  {
   "cell_type": "code",
   "execution_count": 1,
   "metadata": {
    "execution": {
     "iopub.execute_input": "2021-08-30T11:18:08.120773Z",
     "iopub.status.busy": "2021-08-30T11:18:08.119000Z",
     "iopub.status.idle": "2021-08-30T11:18:09.998833Z",
     "shell.execute_reply": "2021-08-30T11:18:09.996985Z"
    }
   },
   "outputs": [],
   "source": [
    "import cirq\n",
    "from jaqalpaq.transpilers.cirq import jaqal_circuit_from_cirq_circuit\n",
    "from jaqalpaq.generator import generate_jaqal_program"
   ]
  },
  {
   "cell_type": "code",
   "execution_count": 2,
   "metadata": {
    "execution": {
     "iopub.execute_input": "2021-08-30T11:18:10.010660Z",
     "iopub.status.busy": "2021-08-30T11:18:10.008973Z",
     "iopub.status.idle": "2021-08-30T11:18:10.015584Z",
     "shell.execute_reply": "2021-08-30T11:18:10.016682Z"
    }
   },
   "outputs": [
    {
     "name": "stdout",
     "output_type": "stream",
     "text": [
      "0: ───H───@───\n",
      "          │\n",
      "1: ───────X───\n"
     ]
    }
   ],
   "source": [
    "cirq_bell = cirq.Circuit()\n",
    "qubits = [cirq.LineQubit(0), cirq.LineQubit(1)]\n",
    "cirq_bell.append(cirq.H.on(qubits[0]))\n",
    "cirq_bell.append(cirq.CNOT(*qubits))\n",
    "print(cirq_bell)"
   ]
  },
  {
   "cell_type": "code",
   "execution_count": 3,
   "metadata": {
    "execution": {
     "iopub.execute_input": "2021-08-30T11:18:10.025687Z",
     "iopub.status.busy": "2021-08-30T11:18:10.024571Z",
     "iopub.status.idle": "2021-08-30T11:18:10.036145Z",
     "shell.execute_reply": "2021-08-30T11:18:10.037171Z"
    }
   },
   "outputs": [
    {
     "name": "stdout",
     "output_type": "stream",
     "text": [
      "0: ───PhX(1)───────────MS(0.25π)───PhX(-0.5)^0.5───S^-1───\n",
      "                       │\n",
      "1: ────────────────────MS(0.25π)───PhX(1)^0.5─────────────\n"
     ]
    }
   ],
   "source": [
    "cirq_ion_bell = cirq.ConvertToIonGates().convert_circuit(cirq_bell)\n",
    "print(cirq_ion_bell)"
   ]
  },
  {
   "cell_type": "code",
   "execution_count": 4,
   "metadata": {
    "execution": {
     "iopub.execute_input": "2021-08-30T11:18:10.044280Z",
     "iopub.status.busy": "2021-08-30T11:18:10.042952Z",
     "iopub.status.idle": "2021-08-30T11:18:10.053269Z",
     "shell.execute_reply": "2021-08-30T11:18:10.052324Z"
    }
   },
   "outputs": [
    {
     "name": "stdout",
     "output_type": "stream",
     "text": [
      "register allqubits[2]\n",
      "\n",
      "prepare_all\n",
      "R allqubits[0] 3.141592653589793 3.141592653589793\n",
      "MS allqubits[0] allqubits[1] 0 1.5707963267948966\n",
      "<\n",
      "\tR allqubits[0] -1.5707963267948972 1.5707963267948966\n",
      "\tR allqubits[1] 3.141592653589793 1.5707963267948966\n",
      ">\n",
      "Rz allqubits[0] -1.5707963267948966\n",
      "measure_all\n",
      "\n"
     ]
    }
   ],
   "source": [
    "jaqal_bell = jaqal_circuit_from_cirq_circuit(cirq_ion_bell)\n",
    "print(generate_jaqal_program(jaqal_bell))"
   ]
  },
  {
   "cell_type": "markdown",
   "metadata": {},
   "source": [
    "## Bell State Preparation from Quil"
   ]
  },
  {
   "cell_type": "code",
   "execution_count": 5,
   "metadata": {
    "execution": {
     "iopub.execute_input": "2021-08-30T11:18:10.061147Z",
     "iopub.status.busy": "2021-08-30T11:18:10.059889Z",
     "iopub.status.idle": "2021-08-30T11:18:10.816656Z",
     "shell.execute_reply": "2021-08-30T11:18:10.814938Z"
    }
   },
   "outputs": [],
   "source": [
    "import pyquil\n",
    "from pyquil.gates import *\n",
    "from numpy import pi\n",
    "from jaqalpaq.transpilers.quil import get_ion_qc, quil_gates"
   ]
  },
  {
   "cell_type": "code",
   "execution_count": 6,
   "metadata": {
    "execution": {
     "iopub.execute_input": "2021-08-30T11:18:10.828283Z",
     "iopub.status.busy": "2021-08-30T11:18:10.826666Z",
     "iopub.status.idle": "2021-08-30T11:18:10.833849Z",
     "shell.execute_reply": "2021-08-30T11:18:10.832447Z"
    }
   },
   "outputs": [
    {
     "name": "stdout",
     "output_type": "stream",
     "text": [
      "X 0\n",
      "MS(0,pi/2) 0 1\n",
      "R(-pi/2,pi/2) 0\n",
      "R(pi,pi/2) 1\n",
      "RZ(-pi/2) 0\n",
      "\n"
     ]
    }
   ],
   "source": [
    "qg = quil_gates()\n",
    "MS = qg[\"MS\"]\n",
    "R = qg[\"R\"]\n",
    "quil_bell = pyquil.Program()\n",
    "quil_bell += X(0)\n",
    "quil_bell += MS(0, pi/2, 0, 1)\n",
    "quil_bell += R(-pi/2, pi/2, 0)\n",
    "quil_bell += R(pi, pi/2, 1)\n",
    "quil_bell += RZ(-pi/2, 0)\n",
    "print(quil_bell)"
   ]
  },
  {
   "cell_type": "code",
   "execution_count": 7,
   "metadata": {
    "execution": {
     "iopub.execute_input": "2021-08-30T11:18:10.842137Z",
     "iopub.status.busy": "2021-08-30T11:18:10.840761Z",
     "iopub.status.idle": "2021-08-30T11:18:10.846053Z",
     "shell.execute_reply": "2021-08-30T11:18:10.845037Z"
    }
   },
   "outputs": [
    {
     "name": "stdout",
     "output_type": "stream",
     "text": [
      "register qreg[2]\n",
      "\n",
      "{\n",
      "\tprepare_all\n",
      "\tPx qreg[0]\n",
      "\tMS qreg[0] qreg[1] 0.0 1.5707963267948966\n",
      "\tR qreg[0] -1.5707963267948966 1.5707963267948966\n",
      "\tR qreg[1] 3.141592653589793 1.5707963267948966\n",
      "\tRz qreg[0] -1.5707963267948966\n",
      "\tmeasure_all\n",
      "}\n",
      "\n"
     ]
    }
   ],
   "source": [
    "quil_qc = get_ion_qc(2)\n",
    "jaqal_bell = quil_qc.compile(quil_bell)\n",
    "print(generate_jaqal_program(jaqal_bell))"
   ]
  },
  {
   "cell_type": "markdown",
   "metadata": {},
   "source": [
    "## Bell State Preparation from ProjectQ"
   ]
  },
  {
   "cell_type": "code",
   "execution_count": 8,
   "metadata": {
    "execution": {
     "iopub.execute_input": "2021-08-30T11:18:10.853076Z",
     "iopub.status.busy": "2021-08-30T11:18:10.852083Z",
     "iopub.status.idle": "2021-08-30T11:18:11.009822Z",
     "shell.execute_reply": "2021-08-30T11:18:11.008497Z"
    }
   },
   "outputs": [],
   "source": [
    "import projectq\n",
    "from projectq.cengines import MainEngine, DummyEngine\n",
    "from projectq.ops import H, CNOT, Measure, All\n",
    "from jaqalpaq.transpilers.projectq import get_engine_list, JaqalBackend"
   ]
  },
  {
   "cell_type": "code",
   "execution_count": 9,
   "metadata": {
    "execution": {
     "iopub.execute_input": "2021-08-30T11:18:11.025565Z",
     "iopub.status.busy": "2021-08-30T11:18:11.021282Z",
     "iopub.status.idle": "2021-08-30T11:18:11.030243Z",
     "shell.execute_reply": "2021-08-30T11:18:11.028964Z"
    }
   },
   "outputs": [
    {
     "name": "stdout",
     "output_type": "stream",
     "text": [
      "register q[2]\n",
      "\n",
      "{\n",
      "\tprepare_all\n",
      "\tR q[0] 0 3.14159265359\n",
      "\tR q[0] 1.5707963267948966 3.141592653589413\n",
      "\tR q[0] 0 4.712388980384414\n",
      "\tR q[1] 0 1.570796326795\n",
      "\tMS q[0] q[1] 0 1.570796326795\n",
      "\tR q[0] 1.5707963267948966 1.570796326795\n",
      "\tmeasure_all\n",
      "}\n",
      "\n"
     ]
    }
   ],
   "source": [
    "backend = JaqalBackend()\n",
    "engine_list = get_engine_list()\n",
    "engine = MainEngine(backend, engine_list, verbose=True)\n",
    "q1 = engine.allocate_qubit()\n",
    "q2 = engine.allocate_qubit()\n",
    "H | q1\n",
    "CNOT | (q1, q2)\n",
    "All(Measure) | [q1, q2]\n",
    "engine.flush()\n",
    "print(generate_jaqal_program(backend.circuit))"
   ]
  },
  {
   "cell_type": "markdown",
   "metadata": {},
   "source": [
    "## The Automated Scheduler"
   ]
  },
  {
   "cell_type": "code",
   "execution_count": 10,
   "metadata": {
    "execution": {
     "iopub.execute_input": "2021-08-30T11:18:11.037379Z",
     "iopub.status.busy": "2021-08-30T11:18:11.036397Z",
     "iopub.status.idle": "2021-08-30T11:18:11.044451Z",
     "shell.execute_reply": "2021-08-30T11:18:11.043364Z"
    }
   },
   "outputs": [],
   "source": [
    "from jaqalpaq.scheduler import schedule_circuit"
   ]
  },
  {
   "cell_type": "code",
   "execution_count": 11,
   "metadata": {
    "execution": {
     "iopub.execute_input": "2021-08-30T11:18:11.052831Z",
     "iopub.status.busy": "2021-08-30T11:18:11.051581Z",
     "iopub.status.idle": "2021-08-30T11:18:11.057110Z",
     "shell.execute_reply": "2021-08-30T11:18:11.056060Z"
    },
    "scrolled": true
   },
   "outputs": [
    {
     "name": "stdout",
     "output_type": "stream",
     "text": [
      "register q[2]\n",
      "\n",
      "{\n",
      "\tprepare_all\n",
      "\t<\n",
      "\t\tR q[0] 0 3.14159265359\n",
      "\t\tR q[1] 0 1.570796326795\n",
      "\t>\n",
      "\tR q[0] 1.5707963267948966 3.141592653589413\n",
      "\tR q[0] 0 4.712388980384414\n",
      "\tMS q[0] q[1] 0 1.570796326795\n",
      "\tR q[0] 1.5707963267948966 1.570796326795\n",
      "\tmeasure_all\n",
      "}\n",
      "\n"
     ]
    }
   ],
   "source": [
    "scheduled_circuit = schedule_circuit(backend.circuit)\n",
    "print(generate_jaqal_program(scheduled_circuit))"
   ]
  },
  {
   "cell_type": "markdown",
   "metadata": {},
   "source": [
    "## Detailed Example: VQE Transpilation from Qiskit"
   ]
  },
  {
   "cell_type": "markdown",
   "metadata": {},
   "source": [
    "### Constructing the VQE Circuit in Qiskit"
   ]
  },
  {
   "cell_type": "code",
   "execution_count": 12,
   "metadata": {
    "execution": {
     "iopub.execute_input": "2021-08-30T11:18:11.068685Z",
     "iopub.status.busy": "2021-08-30T11:18:11.067365Z",
     "iopub.status.idle": "2021-08-30T11:18:12.413503Z",
     "shell.execute_reply": "2021-08-30T11:18:12.412156Z"
    }
   },
   "outputs": [
    {
     "name": "stderr",
     "output_type": "stream",
     "text": [
      "/usr/local/lib/python3.7/site-packages/qiskit/chemistry/__init__.py:170: DeprecationWarning: The package qiskit.chemistry is deprecated. It was moved/refactored to qiskit_nature (pip install qiskit-nature). For more information see <https://github.com/Qiskit/qiskit-aqua/blob/main/README.md#migration-guide>\n",
      "  warn_package('chemistry', 'qiskit_nature', 'qiskit-nature')\n"
     ]
    }
   ],
   "source": [
    "import qiskit\n",
    "from qiskit.chemistry.components.initial_states import HartreeFock\n",
    "from qiskit.chemistry.components.variational_forms import UCCSD\n",
    "from qiskit.transpiler import PassManager\n",
    "from qiskit.chemistry.drivers import PySCFDriver, UnitsType\n",
    "from qiskit.chemistry import FermionicOperator\n",
    "\n",
    "from jaqalpaq.transpilers.qiskit import jaqal_circuit_from_qiskit_circuit, ion_pass_manager, get_ion_instance\n",
    "from jaqalpaq.run import run_jaqal_circuit\n",
    "from qscout.v1.std import NATIVE_GATES"
   ]
  },
  {
   "cell_type": "code",
   "execution_count": 13,
   "metadata": {
    "execution": {
     "iopub.execute_input": "2021-08-30T11:18:12.605104Z",
     "iopub.status.busy": "2021-08-30T11:18:12.602201Z",
     "iopub.status.idle": "2021-08-30T11:18:13.876880Z",
     "shell.execute_reply": "2021-08-30T11:18:13.875546Z"
    }
   },
   "outputs": [
    {
     "name": "stderr",
     "output_type": "stream",
     "text": [
      "/usr/local/lib/python3.7/site-packages/qiskit/chemistry/fermionic_operator.py:386: DeprecationWarning: The package qiskit.aqua.operators is deprecated. It was moved/refactored to qiskit.opflow (pip install qiskit-terra). For more information see <https://github.com/Qiskit/qiskit-aqua/blob/main/README.md#migration-guide>\n",
      "  pauli_list = WeightedPauliOperator(paulis=[])\n",
      "/usr/local/lib/python3.7/site-packages/qiskit/chemistry/fermionic_operator.py:394: DeprecationWarning: The variable qiskit.aqua.aqua_globals is deprecated. It was moved/refactored to qiskit.utils.algorithm_globals (pip install qiskit-terra). For more information see <https://github.com/Qiskit/qiskit-aqua/blob/main/README.md#migration-guide>\n",
      "  task_args=(threshold,), num_processes=aqua_globals.num_processes)\n",
      "/usr/local/lib/python3.7/site-packages/qiskit/chemistry/components/initial_states/hartree_fock.py:61: DeprecationWarning: The HartreeFock class is deprecated as of Aqua 0.9 and will be removed no earlier than 3 months after the release date. Instead, all algorithms and circuits accept a plain QuantumCircuit. \n",
      "  super().__init__()\n",
      "/usr/local/lib/python3.7/site-packages/qiskit/aqua/components/variational_forms/variational_form.py:48: DeprecationWarning: The package qiskit.aqua.components.variational_forms is deprecated. For more information see <https://github.com/Qiskit/qiskit-aqua/blob/main/README.md#migration-guide>\n",
      "  warn_package('aqua.components.variational_forms')\n"
     ]
    },
    {
     "name": "stdout",
     "output_type": "stream",
     "text": [
      "     ┌───────────┐┌──────────────┐┌──────────────┐┌──────────────┐\n",
      "q_0: ┤ U3(π,0,π) ├┤0             ├┤0             ├┤0             ├\n",
      "     └───────────┘│  Evolution^1 ││  Evolution^1 ││  Evolution^1 │\n",
      "q_1: ─────────────┤1             ├┤1             ├┤1             ├\n",
      "                  └──────────────┘└──────────────┘└──────────────┘\n"
     ]
    },
    {
     "name": "stderr",
     "output_type": "stream",
     "text": [
      "/usr/local/lib/python3.7/site-packages/qiskit/chemistry/components/variational_forms/uccsd.py:429: DeprecationWarning: Back-references to from Bit instances to their containing Registers have been deprecated. Instead, inspect Registers to find their contained Bits.\n",
      "  qbits[i] = circuit.qubits[qbits[i].index]\n",
      "/usr/local/lib/python3.7/site-packages/qiskit/chemistry/components/variational_forms/uccsd.py:429: DeprecationWarning: Back-references to from Bit instances to their containing Registers have been deprecated. Instead, inspect Registers to find their contained Bits.\n",
      "  qbits[i] = circuit.qubits[qbits[i].index]\n",
      "/usr/local/lib/python3.7/site-packages/qiskit/chemistry/components/variational_forms/uccsd.py:429: DeprecationWarning: Back-references to from Bit instances to their containing Registers have been deprecated. Instead, inspect Registers to find their contained Bits.\n",
      "  qbits[i] = circuit.qubits[qbits[i].index]\n",
      "/usr/local/lib/python3.7/site-packages/qiskit/chemistry/components/variational_forms/uccsd.py:429: DeprecationWarning: Back-references to from Bit instances to their containing Registers have been deprecated. Instead, inspect Registers to find their contained Bits.\n",
      "  qbits[i] = circuit.qubits[qbits[i].index]\n",
      "/usr/local/lib/python3.7/site-packages/qiskit/chemistry/components/variational_forms/uccsd.py:429: DeprecationWarning: Back-references to from Bit instances to their containing Registers have been deprecated. Instead, inspect Registers to find their contained Bits.\n",
      "  qbits[i] = circuit.qubits[qbits[i].index]\n",
      "/usr/local/lib/python3.7/site-packages/qiskit/chemistry/components/variational_forms/uccsd.py:429: DeprecationWarning: Back-references to from Bit instances to their containing Registers have been deprecated. Instead, inspect Registers to find their contained Bits.\n",
      "  qbits[i] = circuit.qubits[qbits[i].index]\n"
     ]
    }
   ],
   "source": [
    "atom_positions = [[0.0, 0.0, 0.0], [1.0, 0.0, 0.0]]\n",
    "\n",
    "molecule = PySCFDriver(\n",
    "    atom=''.join([\"H %f %f %f; \" % tuple(a) for a in atom_positions]),\n",
    "    unit=UnitsType.BOHR,\n",
    "    charge=0,\n",
    "    spin=0,\n",
    "    basis='sto6g'\n",
    ").run()\n",
    "\n",
    "fermionic_op = FermionicOperator(molecule.one_body_integrals, molecule.two_body_integrals)\n",
    "qubit_op = fermionic_op.mapping(map_type='parity', threshold=0.00000001)\n",
    "hfs = HartreeFock(num_orbitals=4, num_particles=2, qubit_mapping='parity', two_qubit_reduction=True)\n",
    "\n",
    "uccsd = UCCSD(\n",
    "    num_orbitals=4,\n",
    "    num_particles=2,\n",
    "    initial_state=hfs,\n",
    "    qubit_mapping=\"parity\",\n",
    "    two_qubit_reduction=True,\n",
    "    num_time_slices=1\n",
    ")\n",
    "\n",
    "params = (4.881817576986406e-05, -1.5180312771430236e-05, -0.07605047960428524)\n",
    "superconducting_circuit = uccsd.construct_circuit(params).decompose()\n",
    "print(superconducting_circuit)"
   ]
  },
  {
   "cell_type": "markdown",
   "metadata": {},
   "source": [
    "### Unrolling to Ion Gates"
   ]
  },
  {
   "cell_type": "code",
   "execution_count": 14,
   "metadata": {
    "execution": {
     "iopub.execute_input": "2021-08-30T11:18:13.911068Z",
     "iopub.status.busy": "2021-08-30T11:18:13.888430Z",
     "iopub.status.idle": "2021-08-30T11:18:13.953925Z",
     "shell.execute_reply": "2021-08-30T11:18:13.954771Z"
    }
   },
   "outputs": [
    {
     "name": "stdout",
     "output_type": "stream",
     "text": [
      "global phase: -6.3998e-05\n",
      "      ┌───────┐        ┌────┐       ┌────────┐            ┌────┐           »\n",
      "q_0: ─┤ RZ(π) ├────────┤ √X ├───────┤ RZ(2π) ├────────────┤ √X ├───────────»\n",
      "     ┌┴───────┴┐┌──────┴────┴─────┐┌┴────────┴┐┌──────────┴────┴──────────┐»\n",
      "q_1: ┤ RZ(π/2) ├┤ JAQALR(π/2,π/2) ├┤ RZ(-π/2) ├┤ RZ(-3.03606255428605e-5) ├»\n",
      "     └─────────┘└─────────────────┘└──────────┘└──────────────────────────┘»\n",
      "«      ┌────────┐    ┌─────────┐     ┌─────────────────┐┌──────────┐»\n",
      "«q_0: ─┤ RZ(3π) ├────┤ RZ(π/2) ├─────┤ JAQALR(π/2,π/2) ├┤ RZ(-π/2) ├»\n",
      "«     ┌┴────────┤┌───┴─────────┴────┐└───┬──────────┬──┘└──┬───┬───┘»\n",
      "«q_1: ┤ RZ(π/2) ├┤ JAQALR(π/2,-π/2) ├────┤ RZ(-π/2) ├──────┤ Z ├────»\n",
      "«     └─────────┘└──────────────────┘    └──────────┘      └───┘    »\n",
      "«     ┌──────────────────────────┐┌─────────┐┌──────────────────┐┌──────────┐»\n",
      "«q_0: ┤ RZ(-9.76363515397281e-5) ├┤ RZ(π/2) ├┤ JAQALR(π/2,-π/2) ├┤ RZ(-π/2) ├»\n",
      "«     └──────────┬────┬──────────┘└─────────┘└──────────────────┘└──────────┘»\n",
      "«q_1: ───────────┤ SY ├──────────────────────────────────────────────────────»\n",
      "«                └────┘                                                      »\n",
      "«     ┌─────────┐┌─────────────────┐┌──────────┐┌────┐┌─────────────────┐»\n",
      "«q_0: ┤ RZ(π/2) ├┤ JAQALR(π/2,π/2) ├┤ RZ(-π/2) ├┤ SY ├┤0                ├»\n",
      "«     └─────────┘└─────────────────┘└──────────┘└────┘│  JAQALMS(0,π/2) │»\n",
      "«q_1: ────────────────────────────────────────────────┤1                ├»\n",
      "«                                                     └─────────────────┘»\n",
      "«     ┌──────┐         ┌──────┐         ┌────┐┌─────────────────┐┌──────┐»\n",
      "«q_0: ┤ √XDG ├─────────┤ SYDG ├─────────┤ SY ├┤0                ├┤ √XDG ├»\n",
      "«     ├──────┤┌────────┴──────┴────────┐└────┘│  JAQALMS(0,π/2) │├──────┤»\n",
      "«q_1: ┤ √XDG ├┤ RZ(0.0760504796042852) ├──────┤1                ├┤ √XDG ├»\n",
      "«     └──────┘└────────────────────────┘      └─────────────────┘└──────┘»\n",
      "«     ┌──────┐┌─────────┐┌──────────────────┐    ┌──────────┐      ┌───┐    »\n",
      "«q_0: ┤ SYDG ├┤ RZ(π/2) ├┤ JAQALR(π/2,-π/2) ├────┤ RZ(-π/2) ├──────┤ Z ├────»\n",
      "«     └┬───┬─┘└──┬────┬─┘└───┬─────────┬────┘┌───┴──────────┴──┐┌──┴───┴───┐»\n",
      "«q_1: ─┤ Z ├─────┤ SY ├──────┤ RZ(π/2) ├─────┤ JAQALR(π/2,π/2) ├┤ RZ(-π/2) ├»\n",
      "«      └───┘     └────┘      └─────────┘     └─────────────────┘└──────────┘»\n",
      "«     ┌────┐┌────┐┌─────────────────┐┌──────┐          ┌──────┐         ┌────┐»\n",
      "«q_0: ┤ SY ├┤ SY ├┤0                ├┤ √XDG ├──────────┤ SYDG ├─────────┤ SY ├»\n",
      "«     └────┘└────┘│  JAQALMS(0,π/2) │├──────┤┌─────────┴──────┴────────┐└────┘»\n",
      "«q_1: ────────────┤1                ├┤ √XDG ├┤ RZ(-0.0760504796042852) ├──────»\n",
      "«                 └─────────────────┘└──────┘└─────────────────────────┘      »\n",
      "«     ┌─────────────────┐┌──────┐  ┌──────┐        ┌───┐           ┌────┐   \n",
      "«q_0: ┤0                ├┤ √XDG ├──┤ SYDG ├────────┤ Z ├───────────┤ SY ├───\n",
      "«     │  JAQALMS(0,π/2) │├──────┤┌─┴──────┴┐┌──────┴───┴───────┐┌──┴────┴──┐\n",
      "«q_1: ┤1                ├┤ √XDG ├┤ RZ(π/2) ├┤ JAQALR(π/2,-π/2) ├┤ RZ(-π/2) ├\n",
      "«     └─────────────────┘└──────┘└─────────┘└──────────────────┘└──────────┘\n"
     ]
    }
   ],
   "source": [
    "ion_circuit = ion_pass_manager().run(superconducting_circuit)\n",
    "print(ion_circuit)"
   ]
  },
  {
   "cell_type": "markdown",
   "metadata": {},
   "source": [
    "### Transpiling to Jaqal"
   ]
  },
  {
   "cell_type": "code",
   "execution_count": 15,
   "metadata": {
    "execution": {
     "iopub.execute_input": "2021-08-30T11:18:13.968352Z",
     "iopub.status.busy": "2021-08-30T11:18:13.967032Z",
     "iopub.status.idle": "2021-08-30T11:18:13.972571Z",
     "shell.execute_reply": "2021-08-30T11:18:13.971294Z"
    }
   },
   "outputs": [
    {
     "name": "stdout",
     "output_type": "stream",
     "text": [
      "register baseregister[2]\n",
      "\n",
      "map q baseregister[0:2:1]\n",
      "\n",
      "{\n",
      "\tprepare_all\n",
      "\tRz q[0] 3.141592653589793\n",
      "\tSx q[0]\n",
      "\tRz q[0] 6.283185307179586\n",
      "\tSx q[0]\n",
      "\tRz q[0] 9.42477796076938\n",
      "\tRz q[0] 1.5707963267948966\n",
      "\tR q[0] 1.5707963267948966 1.5707963267948966\n",
      "\tRz q[0] -1.5707963267948966\n",
      "\tRz q[0] -9.76363515397281e-05\n",
      "\tRz q[0] 1.5707963267948966\n",
      "\tR q[0] 1.5707963267948966 -1.5707963267948966\n",
      "\tRz q[0] -1.5707963267948966\n",
      "\tRz q[0] 1.5707963267948966\n",
      "\tR q[0] 1.5707963267948966 1.5707963267948966\n",
      "\tRz q[0] -1.5707963267948966\n",
      "\tSy q[0]\n",
      "\tRz q[1] 1.5707963267948966\n",
      "\tR q[1] 1.5707963267948966 1.5707963267948966\n",
      "\tRz q[1] -1.5707963267948966\n",
      "\tRz q[1] -3.0360625542860462e-05\n",
      "\tRz q[1] 1.5707963267948966\n",
      "\tR q[1] 1.5707963267948966 -1.5707963267948966\n",
      "\tRz q[1] -1.5707963267948966\n",
      "\tPz q[1]\n",
      "\tSy q[1]\n",
      "\tMS q[0] q[1] 0.0 1.5707963267948966\n",
      "\tSxd q[0]\n",
      "\tSyd q[0]\n",
      "\tSy q[0]\n",
      "\tSxd q[1]\n",
      "\tRz q[1] 0.07605047960428521\n",
      "\tMS q[0] q[1] 0.0 1.5707963267948966\n",
      "\tSxd q[0]\n",
      "\tSyd q[0]\n",
      "\tRz q[0] 1.5707963267948966\n",
      "\tR q[0] 1.5707963267948966 -1.5707963267948966\n",
      "\tRz q[0] -1.5707963267948966\n",
      "\tPz q[0]\n",
      "\tSy q[0]\n",
      "\tSy q[0]\n",
      "\tSxd q[1]\n",
      "\tPz q[1]\n",
      "\tSy q[1]\n",
      "\tRz q[1] 1.5707963267948966\n",
      "\tR q[1] 1.5707963267948966 1.5707963267948966\n",
      "\tRz q[1] -1.5707963267948966\n",
      "\tMS q[0] q[1] 0.0 1.5707963267948966\n",
      "\tSxd q[0]\n",
      "\tSyd q[0]\n",
      "\tSy q[0]\n",
      "\tSxd q[1]\n",
      "\tRz q[1] -0.07605047960428521\n",
      "\tMS q[0] q[1] 0.0 1.5707963267948966\n",
      "\tSxd q[0]\n",
      "\tSyd q[0]\n",
      "\tPz q[0]\n",
      "\tSy q[0]\n",
      "\tSxd q[1]\n",
      "\tRz q[1] 1.5707963267948966\n",
      "\tR q[1] 1.5707963267948966 -1.5707963267948966\n",
      "\tRz q[1] -1.5707963267948966\n",
      "\tmeasure_all\n",
      "}\n",
      "\n"
     ]
    }
   ],
   "source": [
    "jaqal_circuit = jaqal_circuit_from_qiskit_circuit(ion_circuit)\n",
    "print(generate_jaqal_program(jaqal_circuit))"
   ]
  },
  {
   "cell_type": "markdown",
   "metadata": {},
   "source": [
    "### Scheduling and Emulation"
   ]
  },
  {
   "cell_type": "code",
   "execution_count": 16,
   "metadata": {
    "execution": {
     "iopub.execute_input": "2021-08-30T11:18:13.988941Z",
     "iopub.status.busy": "2021-08-30T11:18:13.987930Z",
     "iopub.status.idle": "2021-08-30T11:18:13.994062Z",
     "shell.execute_reply": "2021-08-30T11:18:13.992763Z"
    }
   },
   "outputs": [
    {
     "name": "stdout",
     "output_type": "stream",
     "text": [
      "register baseregister[2]\n",
      "\n",
      "map q baseregister[0:2:1]\n",
      "\n",
      "{\n",
      "\tprepare_all\n",
      "\t<\n",
      "\t\tRz q[0] 3.141592653589793\n",
      "\t\tRz q[1] 1.5707963267948966\n",
      "\t>\n",
      "\t<\n",
      "\t\tSx q[0]\n",
      "\t\tR q[1] 1.5707963267948966 1.5707963267948966\n",
      "\t>\n",
      "\t<\n",
      "\t\tRz q[0] 6.283185307179586\n",
      "\t\tRz q[1] -1.5707963267948966\n",
      "\t>\n",
      "\t<\n",
      "\t\tSx q[0]\n",
      "\t\tRz q[1] -3.0360625542860462e-05\n",
      "\t>\n",
      "\t<\n",
      "\t\tRz q[0] 9.42477796076938\n",
      "\t\tRz q[1] 1.5707963267948966\n",
      "\t>\n",
      "\t<\n",
      "\t\tRz q[0] 1.5707963267948966\n",
      "\t\tR q[1] 1.5707963267948966 -1.5707963267948966\n",
      "\t>\n",
      "\t<\n",
      "\t\tR q[0] 1.5707963267948966 1.5707963267948966\n",
      "\t\tRz q[1] -1.5707963267948966\n",
      "\t>\n",
      "\t<\n",
      "\t\tRz q[0] -1.5707963267948966\n",
      "\t\tPz q[1]\n",
      "\t>\n",
      "\t<\n",
      "\t\tRz q[0] -9.76363515397281e-05\n",
      "\t\tSy q[1]\n",
      "\t>\n",
      "\tRz q[0] 1.5707963267948966\n",
      "\tR q[0] 1.5707963267948966 -1.5707963267948966\n",
      "\tRz q[0] -1.5707963267948966\n",
      "\tRz q[0] 1.5707963267948966\n",
      "\tR q[0] 1.5707963267948966 1.5707963267948966\n",
      "\tRz q[0] -1.5707963267948966\n",
      "\tSy q[0]\n",
      "\tMS q[0] q[1] 0.0 1.5707963267948966\n",
      "\t<\n",
      "\t\tSxd q[0]\n",
      "\t\tSxd q[1]\n",
      "\t>\n",
      "\t<\n",
      "\t\tSyd q[0]\n",
      "\t\tRz q[1] 0.07605047960428521\n",
      "\t>\n",
      "\tSy q[0]\n",
      "\tMS q[0] q[1] 0.0 1.5707963267948966\n",
      "\t<\n",
      "\t\tSxd q[0]\n",
      "\t\tSxd q[1]\n",
      "\t>\n",
      "\t<\n",
      "\t\tSyd q[0]\n",
      "\t\tPz q[1]\n",
      "\t>\n",
      "\t<\n",
      "\t\tRz q[0] 1.5707963267948966\n",
      "\t\tSy q[1]\n",
      "\t>\n",
      "\t<\n",
      "\t\tR q[0] 1.5707963267948966 -1.5707963267948966\n",
      "\t\tRz q[1] 1.5707963267948966\n",
      "\t>\n",
      "\t<\n",
      "\t\tRz q[0] -1.5707963267948966\n",
      "\t\tR q[1] 1.5707963267948966 1.5707963267948966\n",
      "\t>\n",
      "\t<\n",
      "\t\tPz q[0]\n",
      "\t\tRz q[1] -1.5707963267948966\n",
      "\t>\n",
      "\tSy q[0]\n",
      "\tSy q[0]\n",
      "\tMS q[0] q[1] 0.0 1.5707963267948966\n",
      "\t<\n",
      "\t\tSxd q[0]\n",
      "\t\tSxd q[1]\n",
      "\t>\n",
      "\t<\n",
      "\t\tSyd q[0]\n",
      "\t\tRz q[1] -0.07605047960428521\n",
      "\t>\n",
      "\tSy q[0]\n",
      "\tMS q[0] q[1] 0.0 1.5707963267948966\n",
      "\t<\n",
      "\t\tSxd q[0]\n",
      "\t\tSxd q[1]\n",
      "\t>\n",
      "\t<\n",
      "\t\tSyd q[0]\n",
      "\t\tRz q[1] 1.5707963267948966\n",
      "\t>\n",
      "\t<\n",
      "\t\tPz q[0]\n",
      "\t\tR q[1] 1.5707963267948966 -1.5707963267948966\n",
      "\t>\n",
      "\t<\n",
      "\t\tSy q[0]\n",
      "\t\tRz q[1] -1.5707963267948966\n",
      "\t>\n",
      "\tmeasure_all\n",
      "}\n",
      "\n"
     ]
    }
   ],
   "source": [
    "scheduled_jaqal_circuit = schedule_circuit(jaqal_circuit)\n",
    "print(generate_jaqal_program(scheduled_jaqal_circuit))"
   ]
  },
  {
   "cell_type": "code",
   "execution_count": 17,
   "metadata": {
    "execution": {
     "iopub.execute_input": "2021-08-30T11:18:14.012675Z",
     "iopub.status.busy": "2021-08-30T11:18:14.008675Z",
     "iopub.status.idle": "2021-08-30T11:18:14.076952Z",
     "shell.execute_reply": "2021-08-30T11:18:14.075393Z"
    }
   },
   "outputs": [
    {
     "data": {
      "text/plain": [
       "OrderedDict([('00', 2.383214283050551e-09),\n",
       "             ('10', 0.9942274635465894),\n",
       "             ('01', 0.005772533839753675),\n",
       "             ('11', 2.3044189526917106e-10)])"
      ]
     },
     "execution_count": 17,
     "metadata": {},
     "output_type": "execute_result"
    }
   ],
   "source": [
    "run_jaqal_circuit(scheduled_jaqal_circuit).subcircuits[0].probability_by_str"
   ]
  },
  {
   "cell_type": "markdown",
   "metadata": {},
   "source": [
    "## Optimizing Circuits for Ion Hardware with t|ket>"
   ]
  },
  {
   "cell_type": "code",
   "execution_count": 18,
   "metadata": {
    "execution": {
     "iopub.execute_input": "2021-08-30T11:18:14.084973Z",
     "iopub.status.busy": "2021-08-30T11:18:14.083968Z",
     "iopub.status.idle": "2021-08-30T11:18:14.634496Z",
     "shell.execute_reply": "2021-08-30T11:18:14.632812Z"
    }
   },
   "outputs": [],
   "source": [
    "from jaqalpaq.transpilers.tket import jaqal_circuit_from_tket_circuit\n",
    "from pytket.predicates import CompilationUnit\n",
    "from pytket.extensions.qiskit import qiskit_to_tk\n",
    "from pytket.passes import SynthesiseUMD, DecomposeBoxes"
   ]
  },
  {
   "cell_type": "code",
   "execution_count": 19,
   "metadata": {
    "execution": {
     "iopub.execute_input": "2021-08-30T11:18:14.653717Z",
     "iopub.status.busy": "2021-08-30T11:18:14.652055Z",
     "iopub.status.idle": "2021-08-30T11:18:14.657803Z",
     "shell.execute_reply": "2021-08-30T11:18:14.659185Z"
    }
   },
   "outputs": [
    {
     "data": {
      "text/plain": [
       "[U3(1, 0, 1) q[0]; CircBox q[0], q[1]; CircBox q[0], q[1]; CircBox q[0], q[1]; ]"
      ]
     },
     "execution_count": 19,
     "metadata": {},
     "output_type": "execute_result"
    }
   ],
   "source": [
    "tket_circuit = qiskit_to_tk(superconducting_circuit)\n",
    "tket_circuit"
   ]
  },
  {
   "cell_type": "code",
   "execution_count": 20,
   "metadata": {
    "execution": {
     "iopub.execute_input": "2021-08-30T11:18:14.675648Z",
     "iopub.status.busy": "2021-08-30T11:18:14.673956Z",
     "iopub.status.idle": "2021-08-30T11:18:14.678321Z",
     "shell.execute_reply": "2021-08-30T11:18:14.679277Z"
    }
   },
   "outputs": [
    {
     "name": "stdout",
     "output_type": "stream",
     "text": [
      "register baseregister[2]\n",
      "\n",
      "map q baseregister[0:2:1]\n",
      "\n",
      "{\n",
      "\tprepare_all\n",
      "\tRz q[0] 1.5707963267948966\n",
      "\tRz q[1] 7.853951273348942\n",
      "\tR q[0] 3.141592653589793 6.283282943531128\n",
      "\tR q[1] 1.5707659661693538 1.5707963267948966\n",
      "\tMS q[0] q[1] 0 1.5707963267948966\n",
      "\tR q[0] 3.141592653589793 1.5707963267948966\n",
      "\tRz q[1] 0.0760504796042852\n",
      "\tR q[1] 0.0 4.71238898038469\n",
      "\tMS q[0] q[1] 0 1.5707963267948966\n",
      "\tR q[0] 1.5707963267948966 1.5707963267948966\n",
      "\tRz q[1] 3.141592653589793\n",
      "\tR q[1] 1.5707963267948966 7.853981633974483\n",
      "\tMS q[0] q[1] 0 1.5707963267948966\n",
      "\tR q[0] 3.141592653589793 1.5707963267948966\n",
      "\tRz q[1] 12.490320134754887\n",
      "\tR q[1] 0.0 4.71238898038469\n",
      "\tMS q[0] q[1] 0 1.5707963267948966\n",
      "\tR q[1] 0.0 10.995574287564276\n",
      "\tmeasure_all\n",
      "}\n",
      "\n"
     ]
    }
   ],
   "source": [
    "unit = CompilationUnit(tket_circuit)\n",
    "DecomposeBoxes().apply(unit)\n",
    "SynthesiseUMD().apply(unit)\n",
    "tket_jaqal_circuit = jaqal_circuit_from_tket_circuit(unit.circuit)\n",
    "print(generate_jaqal_program(tket_jaqal_circuit))"
   ]
  },
  {
   "cell_type": "code",
   "execution_count": 21,
   "metadata": {
    "execution": {
     "iopub.execute_input": "2021-08-30T11:18:14.687914Z",
     "iopub.status.busy": "2021-08-30T11:18:14.686745Z",
     "iopub.status.idle": "2021-08-30T11:18:14.691393Z",
     "shell.execute_reply": "2021-08-30T11:18:14.690457Z"
    }
   },
   "outputs": [
    {
     "name": "stdout",
     "output_type": "stream",
     "text": [
      "register baseregister[2]\n",
      "\n",
      "map q baseregister[0:2:1]\n",
      "\n",
      "{\n",
      "\tprepare_all\n",
      "\t<\n",
      "\t\tRz q[0] 1.5707963267948966\n",
      "\t\tRz q[1] 7.853951273348942\n",
      "\t>\n",
      "\t<\n",
      "\t\tR q[0] 3.141592653589793 6.283282943531128\n",
      "\t\tR q[1] 1.5707659661693538 1.5707963267948966\n",
      "\t>\n",
      "\tMS q[0] q[1] 0 1.5707963267948966\n",
      "\t<\n",
      "\t\tR q[0] 3.141592653589793 1.5707963267948966\n",
      "\t\tRz q[1] 0.0760504796042852\n",
      "\t>\n",
      "\tR q[1] 0.0 4.71238898038469\n",
      "\tMS q[0] q[1] 0 1.5707963267948966\n",
      "\t<\n",
      "\t\tR q[0] 1.5707963267948966 1.5707963267948966\n",
      "\t\tRz q[1] 3.141592653589793\n",
      "\t>\n",
      "\tR q[1] 1.5707963267948966 7.853981633974483\n",
      "\tMS q[0] q[1] 0 1.5707963267948966\n",
      "\t<\n",
      "\t\tR q[0] 3.141592653589793 1.5707963267948966\n",
      "\t\tRz q[1] 12.490320134754887\n",
      "\t>\n",
      "\tR q[1] 0.0 4.71238898038469\n",
      "\tMS q[0] q[1] 0 1.5707963267948966\n",
      "\tR q[1] 0.0 10.995574287564276\n",
      "\tmeasure_all\n",
      "}\n",
      "\n"
     ]
    }
   ],
   "source": [
    "optimized_jaqal_circuit = schedule_circuit(tket_jaqal_circuit)\n",
    "print(generate_jaqal_program(optimized_jaqal_circuit))"
   ]
  },
  {
   "cell_type": "code",
   "execution_count": 22,
   "metadata": {
    "execution": {
     "iopub.execute_input": "2021-08-30T11:18:14.702480Z",
     "iopub.status.busy": "2021-08-30T11:18:14.701425Z",
     "iopub.status.idle": "2021-08-30T11:18:14.742938Z",
     "shell.execute_reply": "2021-08-30T11:18:14.741650Z"
    }
   },
   "outputs": [
    {
     "data": {
      "text/plain": [
       "OrderedDict([('00', 2.3832142831344857e-09),\n",
       "             ('10', 0.9942274635465896),\n",
       "             ('01', 0.005772533839753751),\n",
       "             ('11', 2.3044189527521426e-10)])"
      ]
     },
     "execution_count": 22,
     "metadata": {},
     "output_type": "execute_result"
    }
   ],
   "source": [
    "run_jaqal_circuit(optimized_jaqal_circuit).subcircuits[0].probability_by_str"
   ]
  },
  {
   "cell_type": "code",
   "execution_count": null,
   "metadata": {},
   "outputs": [],
   "source": []
  }
 ],
 "metadata": {
  "kernelspec": {
   "display_name": "Python 3",
   "language": "python",
   "name": "python3"
  },
  "language_info": {
   "codemirror_mode": {
    "name": "ipython",
    "version": 3
   },
   "file_extension": ".py",
   "mimetype": "text/x-python",
   "name": "python",
   "nbconvert_exporter": "python",
   "pygments_lexer": "ipython3",
   "version": "3.7.10"
  }
 },
 "nbformat": 4,
 "nbformat_minor": 2
}
