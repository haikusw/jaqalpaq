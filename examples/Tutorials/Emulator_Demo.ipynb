{
 "cells": [
  {
   "cell_type": "code",
   "execution_count": 1,
   "metadata": {
    "execution": {
     "iopub.execute_input": "1970-01-01T00:00:00.000000Z",
     "iopub.status.busy": "1970-01-01T00:00:00.000000Z",
     "iopub.status.idle": "1970-01-01T00:00:00.000000Z",
     "shell.execute_reply": "1970-01-01T00:00:00.000000Z"
    },
    "tags": []
   },
   "outputs": [],
   "source": [
    "from jaqalpaq.parser import parse_jaqal_string\n",
    "from jaqalpaq.run import run_jaqal_circuit\n",
    "from jaqalpaq.core.result import parse_jaqal_output_list"
   ]
  },
  {
   "cell_type": "markdown",
   "metadata": {},
   "source": [
    "## A Familiar Circuit"
   ]
  },
  {
   "cell_type": "code",
   "execution_count": 2,
   "metadata": {
    "execution": {
     "iopub.execute_input": "1970-01-01T00:00:00.000000Z",
     "iopub.status.busy": "1970-01-01T00:00:00.000000Z",
     "iopub.status.idle": "1970-01-01T00:00:00.000000Z",
     "shell.execute_reply": "1970-01-01T00:00:00.000000Z"
    },
    "tags": []
   },
   "outputs": [],
   "source": [
    "jaqal_circuit = parse_jaqal_string(\"\"\"\n",
    "from qscout.v1.std usepulses *\n",
    "\n",
    "register q[2]\n",
    "\n",
    "let pi2 1.5707963267948966\n",
    "let pi4 0.7853981633974483\n",
    "\n",
    "macro hadamard target { // A Hadamard gate can be implemented as\n",
    "    Sy target           // a pi/2 rotation around Y\n",
    "    Px target           // followed by a pi rotation around X.\n",
    "}\n",
    "macro cnot control target {  // CNOT implementation from Maslov (2017)\n",
    "    Sy control\n",
    "    MS control target 0 pi2\n",
    "    <Sxd control | Sxd target>  // we can perform these in parallel\n",
    "    Syd control\n",
    "}\n",
    "\n",
    "prepare_all\n",
    " hadamard q[0]\n",
    " cnot q[0] q[1]\n",
    "measure_all\n",
    "\n",
    "loop 10 {\n",
    " prepare_all\n",
    " hadamard q[0]\n",
    " cnot q[0] q[1]\n",
    " Px q[0]\n",
    " measure_all\n",
    "}\n",
    "\n",
    "\"\"\")"
   ]
  },
  {
   "cell_type": "markdown",
   "metadata": {},
   "source": [
    "## Unitary Emulation"
   ]
  },
  {
   "cell_type": "code",
   "execution_count": 3,
   "metadata": {
    "execution": {
     "iopub.execute_input": "1970-01-01T00:00:00.000000Z",
     "iopub.status.busy": "1970-01-01T00:00:00.000000Z",
     "iopub.status.idle": "1970-01-01T00:00:00.000000Z",
     "shell.execute_reply": "1970-01-01T00:00:00.000000Z"
    },
    "tags": []
   },
   "outputs": [],
   "source": [
    "jaqal_result = run_jaqal_circuit(jaqal_circuit)"
   ]
  },
  {
   "cell_type": "code",
   "execution_count": 4,
   "metadata": {
    "execution": {
     "iopub.execute_input": "1970-01-01T00:00:00.000000Z",
     "iopub.status.busy": "1970-01-01T00:00:00.000000Z",
     "iopub.status.idle": "1970-01-01T00:00:00.000000Z",
     "shell.execute_reply": "1970-01-01T00:00:00.000000Z"
    },
    "tags": []
   },
   "outputs": [
    {
     "data": {
      "text/plain": [
       "<jaqalpaq.core.result.ExecutionResult at 0x85aa69c9ca30>"
      ]
     },
     "execution_count": 4,
     "metadata": {},
     "output_type": "execute_result"
    }
   ],
   "source": [
    "jaqal_result"
   ]
  },
  {
   "cell_type": "code",
   "execution_count": 5,
   "metadata": {
    "execution": {
     "iopub.execute_input": "1970-01-01T00:00:00.000000Z",
     "iopub.status.busy": "1970-01-01T00:00:00.000000Z",
     "iopub.status.idle": "1970-01-01T00:00:00.000000Z",
     "shell.execute_reply": "1970-01-01T00:00:00.000000Z"
    },
    "tags": []
   },
   "outputs": [
    {
     "data": {
      "text/plain": [
       "[<Readout 11 index 0 from 0>,\n",
       " <Readout 01 index 1 from 1>,\n",
       " <Readout 01 index 2 from 1>,\n",
       " <Readout 01 index 3 from 1>,\n",
       " <Readout 10 index 4 from 1>,\n",
       " <Readout 01 index 5 from 1>,\n",
       " <Readout 10 index 6 from 1>,\n",
       " <Readout 01 index 7 from 1>,\n",
       " <Readout 01 index 8 from 1>,\n",
       " <Readout 10 index 9 from 1>,\n",
       " <Readout 01 index 10 from 1>]"
      ]
     },
     "execution_count": 5,
     "metadata": {},
     "output_type": "execute_result"
    }
   ],
   "source": [
    "jaqal_result.readouts"
   ]
  },
  {
   "cell_type": "code",
   "execution_count": 6,
   "metadata": {
    "execution": {
     "iopub.execute_input": "1970-01-01T00:00:00.000000Z",
     "iopub.status.busy": "1970-01-01T00:00:00.000000Z",
     "iopub.status.idle": "1970-01-01T00:00:00.000000Z",
     "shell.execute_reply": "1970-01-01T00:00:00.000000Z"
    },
    "tags": []
   },
   "outputs": [
    {
     "data": {
      "text/plain": [
       "(2, '01')"
      ]
     },
     "execution_count": 6,
     "metadata": {},
     "output_type": "execute_result"
    }
   ],
   "source": [
    "jaqal_result.readouts[1].as_int, jaqal_result.readouts[1].as_str"
   ]
  },
  {
   "cell_type": "code",
   "execution_count": 7,
   "metadata": {
    "execution": {
     "iopub.execute_input": "1970-01-01T00:00:00.000000Z",
     "iopub.status.busy": "1970-01-01T00:00:00.000000Z",
     "iopub.status.idle": "1970-01-01T00:00:00.000000Z",
     "shell.execute_reply": "1970-01-01T00:00:00.000000Z"
    },
    "tags": []
   },
   "outputs": [
    {
     "data": {
      "text/plain": [
       "[<EmulatorSubcircuit 0@[7]>, <EmulatorSubcircuit 1@[8, 8]>]"
      ]
     },
     "execution_count": 7,
     "metadata": {},
     "output_type": "execute_result"
    }
   ],
   "source": [
    "jaqal_result.subcircuits"
   ]
  },
  {
   "cell_type": "code",
   "execution_count": 8,
   "metadata": {
    "execution": {
     "iopub.execute_input": "1970-01-01T00:00:00.000000Z",
     "iopub.status.busy": "1970-01-01T00:00:00.000000Z",
     "iopub.status.idle": "1970-01-01T00:00:00.000000Z",
     "shell.execute_reply": "1970-01-01T00:00:00.000000Z"
    },
    "tags": []
   },
   "outputs": [
    {
     "data": {
      "text/plain": [
       "[<Readout 01 index 1 from 1>,\n",
       " <Readout 01 index 2 from 1>,\n",
       " <Readout 01 index 3 from 1>,\n",
       " <Readout 10 index 4 from 1>,\n",
       " <Readout 01 index 5 from 1>,\n",
       " <Readout 10 index 6 from 1>,\n",
       " <Readout 01 index 7 from 1>,\n",
       " <Readout 01 index 8 from 1>,\n",
       " <Readout 10 index 9 from 1>,\n",
       " <Readout 01 index 10 from 1>]"
      ]
     },
     "execution_count": 8,
     "metadata": {},
     "output_type": "execute_result"
    }
   ],
   "source": [
    "jaqal_result.subcircuits[1].readouts"
   ]
  },
  {
   "cell_type": "code",
   "execution_count": 9,
   "metadata": {
    "execution": {
     "iopub.execute_input": "1970-01-01T00:00:00.000000Z",
     "iopub.status.busy": "1970-01-01T00:00:00.000000Z",
     "iopub.status.idle": "1970-01-01T00:00:00.000000Z",
     "shell.execute_reply": "1970-01-01T00:00:00.000000Z"
    },
    "tags": []
   },
   "outputs": [
    {
     "data": {
      "text/plain": [
       "array([7.08490623e-33, 5.00000000e-01, 5.00000000e-01, 8.03767555e-33])"
      ]
     },
     "execution_count": 9,
     "metadata": {},
     "output_type": "execute_result"
    }
   ],
   "source": [
    "jaqal_result.subcircuits[1].probability_by_int"
   ]
  },
  {
   "cell_type": "code",
   "execution_count": 10,
   "metadata": {
    "execution": {
     "iopub.execute_input": "1970-01-01T00:00:00.000000Z",
     "iopub.status.busy": "1970-01-01T00:00:00.000000Z",
     "iopub.status.idle": "1970-01-01T00:00:00.000000Z",
     "shell.execute_reply": "1970-01-01T00:00:00.000000Z"
    },
    "tags": []
   },
   "outputs": [
    {
     "name": "stdout",
     "output_type": "stream",
     "text": [
      "11\n",
      "01\n",
      "01\n",
      "01\n",
      "10\n",
      "01\n",
      "10\n",
      "01\n",
      "01\n",
      "10\n",
      "01\n"
     ]
    }
   ],
   "source": [
    "print('\\n'.join([r.as_str for r in jaqal_result.readouts]))"
   ]
  },
  {
   "cell_type": "code",
   "execution_count": 11,
   "metadata": {
    "execution": {
     "iopub.execute_input": "1970-01-01T00:00:00.000000Z",
     "iopub.status.busy": "1970-01-01T00:00:00.000000Z",
     "iopub.status.idle": "1970-01-01T00:00:00.000000Z",
     "shell.execute_reply": "1970-01-01T00:00:00.000000Z"
    },
    "tags": []
   },
   "outputs": [
    {
     "data": {
      "text/plain": [
       "[<Readout 00 index 0 from 0>,\n",
       " <Readout 01 index 1 from 1>,\n",
       " <Readout 01 index 2 from 1>,\n",
       " <Readout 01 index 3 from 1>,\n",
       " <Readout 01 index 4 from 1>,\n",
       " <Readout 01 index 5 from 1>,\n",
       " <Readout 01 index 6 from 1>,\n",
       " <Readout 01 index 7 from 1>,\n",
       " <Readout 01 index 8 from 1>,\n",
       " <Readout 01 index 9 from 1>,\n",
       " <Readout 01 index 10 from 1>]"
      ]
     },
     "execution_count": 11,
     "metadata": {},
     "output_type": "execute_result"
    }
   ],
   "source": [
    "data_from_qscout = \"\"\"00\n",
    "01\n",
    "01\n",
    "01\n",
    "01\n",
    "01\n",
    "01\n",
    "01\n",
    "01\n",
    "01\n",
    "01\"\"\"\n",
    "qscout_result = parse_jaqal_output_list(jaqal_circuit, data_from_qscout.split(\"\\n\"))\n",
    "qscout_result.readouts"
   ]
  },
  {
   "cell_type": "markdown",
   "metadata": {},
   "source": [
    "## Processing the Results"
   ]
  },
  {
   "cell_type": "code",
   "execution_count": 12,
   "metadata": {
    "execution": {
     "iopub.execute_input": "1970-01-01T00:00:00.000000Z",
     "iopub.status.busy": "1970-01-01T00:00:00.000000Z",
     "iopub.status.idle": "1970-01-01T00:00:00.000000Z",
     "shell.execute_reply": "1970-01-01T00:00:00.000000Z"
    },
    "tags": []
   },
   "outputs": [],
   "source": [
    "import matplotlib\n",
    "from matplotlib import pyplot\n",
    "from numpy import bincount"
   ]
  },
  {
   "cell_type": "code",
   "execution_count": 13,
   "metadata": {
    "execution": {
     "iopub.execute_input": "1970-01-01T00:00:00.000000Z",
     "iopub.status.busy": "1970-01-01T00:00:00.000000Z",
     "iopub.status.idle": "1970-01-01T00:00:00.000000Z",
     "shell.execute_reply": "1970-01-01T00:00:00.000000Z"
    },
    "tags": []
   },
   "outputs": [
    {
     "data": {
      "image/png": "[encoded data removed]",
      "text/plain": [
       "<Figure size 640x480 with 1 Axes>"
      ]
     },
     "metadata": {},
     "output_type": "display_data"
    }
   ],
   "source": [
    "fig, ax = pyplot.subplots()\n",
    "ax.set(ylim=(0,10))\n",
    "data = [r.as_int for r in jaqal_result.subcircuits[1].readouts]\n",
    "hist = bincount(data, None, 4)\n",
    "probs = jaqal_result.subcircuits[1].probability_by_int\n",
    "labels = [f\"{n:02b}\"[::-1] for n in range(4)]\n",
    "ax.bar(range(4), height=hist, tick_label=labels)\n",
    "ax.scatter(range(4), probs * 10, marker='x', zorder=3)\n",
    "ax.set_xlabel('Measured Bitstring')\n",
    "ax.set_ylabel('Counts')\n",
    "ax.set_title('Bell State Experiment')\n",
    "fig.tight_layout()\n",
    "pyplot.show()"
   ]
  },
  {
   "cell_type": "markdown",
   "metadata": {},
   "source": [
    "## Noisy Density Matrix Simulation"
   ]
  },
  {
   "cell_type": "code",
   "execution_count": 14,
   "metadata": {
    "execution": {
     "iopub.execute_input": "1970-01-01T00:00:00.000000Z",
     "iopub.status.busy": "1970-01-01T00:00:00.000000Z",
     "iopub.status.idle": "1970-01-01T00:00:00.000000Z",
     "shell.execute_reply": "1970-01-01T00:00:00.000000Z"
    },
    "tags": []
   },
   "outputs": [],
   "source": [
    "from qscout.v1.std.noisy import SNLToy1"
   ]
  },
  {
   "cell_type": "code",
   "execution_count": 15,
   "metadata": {
    "execution": {
     "iopub.execute_input": "1970-01-01T00:00:00.000000Z",
     "iopub.status.busy": "1970-01-01T00:00:00.000000Z",
     "iopub.status.idle": "1970-01-01T00:00:00.000000Z",
     "shell.execute_reply": "1970-01-01T00:00:00.000000Z"
    },
    "tags": []
   },
   "outputs": [],
   "source": [
    "jaqal_result = run_jaqal_circuit(jaqal_circuit, backend=SNLToy1(2, depolarization=2e-3))"
   ]
  },
  {
   "cell_type": "code",
   "execution_count": 16,
   "metadata": {
    "execution": {
     "iopub.execute_input": "1970-01-01T00:00:00.000000Z",
     "iopub.status.busy": "1970-01-01T00:00:00.000000Z",
     "iopub.status.idle": "1970-01-01T00:00:00.000000Z",
     "shell.execute_reply": "1970-01-01T00:00:00.000000Z"
    },
    "tags": []
   },
   "outputs": [
    {
     "data": {
      "text/plain": [
       "<jaqalpaq.core.result.ExecutionResult at 0x85aa69c9ca30>"
      ]
     },
     "execution_count": 16,
     "metadata": {},
     "output_type": "execute_result"
    }
   ],
   "source": [
    "jaqal_result"
   ]
  },
  {
   "cell_type": "code",
   "execution_count": 17,
   "metadata": {
    "execution": {
     "iopub.execute_input": "1970-01-01T00:00:00.000000Z",
     "iopub.status.busy": "1970-01-01T00:00:00.000000Z",
     "iopub.status.idle": "1970-01-01T00:00:00.000000Z",
     "shell.execute_reply": "1970-01-01T00:00:00.000000Z"
    },
    "tags": []
   },
   "outputs": [
    {
     "data": {
      "text/plain": [
       "array([0.01231296, 0.48720558, 0.48672233, 0.01375913])"
      ]
     },
     "execution_count": 17,
     "metadata": {},
     "output_type": "execute_result"
    }
   ],
   "source": [
    "jaqal_result.subcircuits[1].probability_by_int"
   ]
  },
  {
   "cell_type": "code",
   "execution_count": 18,
   "metadata": {
    "execution": {
     "iopub.execute_input": "1970-01-01T00:00:00.000000Z",
     "iopub.status.busy": "1970-01-01T00:00:00.000000Z",
     "iopub.status.idle": "1970-01-01T00:00:00.000000Z",
     "shell.execute_reply": "1970-01-01T00:00:00.000000Z"
    },
    "tags": []
   },
   "outputs": [
    {
     "data": {
      "image/png": "[encoded data removed]",
      "text/plain": [
       "<Figure size 640x480 with 1 Axes>"
      ]
     },
     "metadata": {},
     "output_type": "display_data"
    }
   ],
   "source": [
    "fig, ax = pyplot.subplots()\n",
    "ax.set(ylim=(0,10))\n",
    "data = [r.as_int for r in jaqal_result.subcircuits[1].readouts]\n",
    "hist = bincount(data, None, 4)\n",
    "probs = jaqal_result.subcircuits[1].probability_by_int\n",
    "labels = [f\"{n:02b}\"[::-1] for n in range(4)]\n",
    "ax.bar(range(4), height=hist, tick_label=labels)\n",
    "ax.scatter(range(4), probs * 10, marker='x', zorder=3)\n",
    "ax.set_xlabel('Measured Bitstring')\n",
    "ax.set_ylabel('Counts')\n",
    "ax.set_title('Bell State Experiment')\n",
    "fig.tight_layout()\n",
    "pyplot.show()"
   ]
  },
  {
   "cell_type": "markdown",
   "metadata": {},
   "source": [
    "## What is this object though?"
   ]
  },
  {
   "cell_type": "code",
   "execution_count": 19,
   "metadata": {
    "execution": {
     "iopub.execute_input": "1970-01-01T00:00:00.000000Z",
     "iopub.status.busy": "1970-01-01T00:00:00.000000Z",
     "iopub.status.idle": "1970-01-01T00:00:00.000000Z",
     "shell.execute_reply": "1970-01-01T00:00:00.000000Z"
    },
    "tags": []
   },
   "outputs": [],
   "source": [
    "con_model = SNLToy1(2, depolarization=2e-3)"
   ]
  },
  {
   "cell_type": "code",
   "execution_count": 20,
   "metadata": {
    "execution": {
     "iopub.execute_input": "1970-01-01T00:00:00.000000Z",
     "iopub.status.busy": "1970-01-01T00:00:00.000000Z",
     "iopub.status.idle": "1970-01-01T00:00:00.000000Z",
     "shell.execute_reply": "1970-01-01T00:00:00.000000Z"
    },
    "tags": []
   },
   "outputs": [
    {
     "data": {
      "text/plain": [
       "dict_keys(['depolarization', 'rotation_error', 'phase_error', 'n_qubits', 'stretched_gates', 'model', 'gate_durations'])"
      ]
     },
     "execution_count": 20,
     "metadata": {},
     "output_type": "execute_result"
    }
   ],
   "source": [
    "con_model.__dict__.keys()"
   ]
  },
  {
   "cell_type": "markdown",
   "metadata": {},
   "source": [
    "Parameters:"
   ]
  },
  {
   "cell_type": "code",
   "execution_count": 21,
   "metadata": {
    "execution": {
     "iopub.execute_input": "1970-01-01T00:00:00.000000Z",
     "iopub.status.busy": "1970-01-01T00:00:00.000000Z",
     "iopub.status.idle": "1970-01-01T00:00:00.000000Z",
     "shell.execute_reply": "1970-01-01T00:00:00.000000Z"
    },
    "tags": []
   },
   "outputs": [
    {
     "data": {
      "text/plain": [
       "(0.002, 0.01, 0.01)"
      ]
     },
     "execution_count": 21,
     "metadata": {},
     "output_type": "execute_result"
    }
   ],
   "source": [
    "con_model.depolarization, con_model.rotation_error, con_model.phase_error"
   ]
  },
  {
   "cell_type": "markdown",
   "metadata": {},
   "source": [
    "A process matrix for every gate:"
   ]
  },
  {
   "cell_type": "code",
   "execution_count": 22,
   "metadata": {
    "execution": {
     "iopub.execute_input": "1970-01-01T00:00:00.000000Z",
     "iopub.status.busy": "1970-01-01T00:00:00.000000Z",
     "iopub.status.idle": "1970-01-01T00:00:00.000000Z",
     "shell.execute_reply": "1970-01-01T00:00:00.000000Z"
    },
    "tags": []
   },
   "outputs": [
    {
     "data": {
      "text/plain": [
       "<pygsti.models.localnoisemodel.LocalNoiseModel at 0x85aa69c9ca30>"
      ]
     },
     "execution_count": 22,
     "metadata": {},
     "output_type": "execute_result"
    }
   ],
   "source": [
    "con_model.model"
   ]
  },
  {
   "cell_type": "markdown",
   "metadata": {},
   "source": [
    "A duration for every gate:"
   ]
  },
  {
   "cell_type": "code",
   "execution_count": 23,
   "metadata": {
    "execution": {
     "iopub.execute_input": "1970-01-01T00:00:00.000000Z",
     "iopub.status.busy": "1970-01-01T00:00:00.000000Z",
     "iopub.status.idle": "1970-01-01T00:00:00.000000Z",
     "shell.execute_reply": "1970-01-01T00:00:00.000000Z"
    },
    "tags": []
   },
   "outputs": [
    {
     "data": {
      "text/plain": [
       "{'R': <bound method SNLToy1.gateduration_R of <qscout.v1.std.noisy.SNLToy1 object at 0x85aa69c9ca30>>,\n",
       " 'MS': <bound method SNLToy1.gateduration_MS of <qscout.v1.std.noisy.SNLToy1 object at 0x85aa69c9ca30>>,\n",
       " 'Rz': <bound method SNLToy1.gateduration_Rz of <qscout.v1.std.noisy.SNLToy1 object at 0x85aa69c9ca30>>,\n",
       " 'Rx': <bound method ExtensibleBackend._curry.<locals>._inner.<locals>.newop of <qscout.v1.std.noisy.SNLToy1 object at 0x85aa69c9ca30>>,\n",
       " 'Ry': <bound method ExtensibleBackend._curry.<locals>._inner.<locals>.newop of <qscout.v1.std.noisy.SNLToy1 object at 0x85aa69c9ca30>>,\n",
       " 'Px': <bound method ExtensibleBackend._curry.<locals>._inner.<locals>.newop of <qscout.v1.std.noisy.SNLToy1 object at 0x85aa69c9ca30>>,\n",
       " 'Py': <bound method ExtensibleBackend._curry.<locals>._inner.<locals>.newop of <qscout.v1.std.noisy.SNLToy1 object at 0x85aa69c9ca30>>,\n",
       " 'Pz': <bound method ExtensibleBackend._curry.<locals>._inner.<locals>.newop of <qscout.v1.std.noisy.SNLToy1 object at 0x85aa69c9ca30>>,\n",
       " 'Sx': <bound method ExtensibleBackend._curry.<locals>._inner.<locals>.newop of <qscout.v1.std.noisy.SNLToy1 object at 0x85aa69c9ca30>>,\n",
       " 'Sy': <bound method ExtensibleBackend._curry.<locals>._inner.<locals>.newop of <qscout.v1.std.noisy.SNLToy1 object at 0x85aa69c9ca30>>,\n",
       " 'Sz': <bound method ExtensibleBackend._curry.<locals>._inner.<locals>.newop of <qscout.v1.std.noisy.SNLToy1 object at 0x85aa69c9ca30>>,\n",
       " 'Sxd': <bound method ExtensibleBackend._curry.<locals>._inner.<locals>.newop of <qscout.v1.std.noisy.SNLToy1 object at 0x85aa69c9ca30>>,\n",
       " 'Syd': <bound method ExtensibleBackend._curry.<locals>._inner.<locals>.newop of <qscout.v1.std.noisy.SNLToy1 object at 0x85aa69c9ca30>>,\n",
       " 'Szd': <bound method ExtensibleBackend._curry.<locals>._inner.<locals>.newop of <qscout.v1.std.noisy.SNLToy1 object at 0x85aa69c9ca30>>,\n",
       " 'Sxx': <bound method ExtensibleBackend._curry.<locals>._inner.<locals>.newop of <qscout.v1.std.noisy.SNLToy1 object at 0x85aa69c9ca30>>}"
      ]
     },
     "execution_count": 23,
     "metadata": {},
     "output_type": "execute_result"
    }
   ],
   "source": [
    "con_model.gate_durations"
   ]
  },
  {
   "cell_type": "markdown",
   "metadata": {},
   "source": [
    "The model and gate durations are all we actually need.\n",
    "\n",
    "You can manually assemble them into with `CircuitEmulator`:"
   ]
  },
  {
   "cell_type": "code",
   "execution_count": 24,
   "metadata": {
    "execution": {
     "iopub.execute_input": "1970-01-01T00:00:00.000000Z",
     "iopub.status.busy": "1970-01-01T00:00:00.000000Z",
     "iopub.status.idle": "1970-01-01T00:00:00.000000Z",
     "shell.execute_reply": "1970-01-01T00:00:00.000000Z"
    },
    "tags": []
   },
   "outputs": [],
   "source": [
    "from jaqalpaq.emulator.pygsti import CircuitEmulator\n",
    "\n",
    "backend = CircuitEmulator(model=con_model.model, gate_durations=con_model.gate_durations)"
   ]
  },
  {
   "cell_type": "code",
   "execution_count": 25,
   "metadata": {
    "execution": {
     "iopub.execute_input": "1970-01-01T00:00:00.000000Z",
     "iopub.status.busy": "1970-01-01T00:00:00.000000Z",
     "iopub.status.idle": "1970-01-01T00:00:00.000000Z",
     "shell.execute_reply": "1970-01-01T00:00:00.000000Z"
    },
    "tags": []
   },
   "outputs": [],
   "source": [
    "jaqal_result = run_jaqal_circuit(jaqal_circuit, backend=backend)"
   ]
  },
  {
   "cell_type": "code",
   "execution_count": 26,
   "metadata": {
    "execution": {
     "iopub.execute_input": "1970-01-01T00:00:00.000000Z",
     "iopub.status.busy": "1970-01-01T00:00:00.000000Z",
     "iopub.status.idle": "1970-01-01T00:00:00.000000Z",
     "shell.execute_reply": "1970-01-01T00:00:00.000000Z"
    },
    "tags": []
   },
   "outputs": [
    {
     "data": {
      "image/png": "[encoded data removed]",
      "text/plain": [
       "<Figure size 640x480 with 1 Axes>"
      ]
     },
     "metadata": {},
     "output_type": "display_data"
    }
   ],
   "source": [
    "fig, ax = pyplot.subplots()\n",
    "ax.set(ylim=(0,10))\n",
    "data = [r.as_int for r in jaqal_result.subcircuits[1].readouts]\n",
    "hist = bincount(data, None, 4)\n",
    "probs = jaqal_result.subcircuits[1].probability_by_int\n",
    "labels = [f\"{n:02b}\"[::-1] for n in range(4)]\n",
    "ax.bar(range(4), height=hist, tick_label=labels)\n",
    "ax.scatter(range(4), probs * 10, marker='x', zorder=3)\n",
    "ax.set_xlabel('Measured Bitstring')\n",
    "ax.set_ylabel('Counts')\n",
    "ax.set_title('Bell State Experiment')\n",
    "fig.tight_layout()\n",
    "pyplot.show()"
   ]
  },
  {
   "cell_type": "markdown",
   "metadata": {},
   "source": [
    "## I want to make my own error model!\n",
    "\n",
    "(Let's ignore crosstalk for now.)\n",
    "\n",
    "You need:\n",
    " - A process matrix for every gate\n",
    " - A process matrix describing a qubit that is not being driven\n",
    " - The duration of the gates\n",
    " \n",
    " You could do this by hand, but we have a helper class to make this a little easier:"
   ]
  },
  {
   "cell_type": "code",
   "execution_count": 27,
   "metadata": {
    "execution": {
     "iopub.execute_input": "1970-01-01T00:00:00.000000Z",
     "iopub.status.busy": "1970-01-01T00:00:00.000000Z",
     "iopub.status.idle": "1970-01-01T00:00:00.000000Z",
     "shell.execute_reply": "1970-01-01T00:00:00.000000Z"
    },
    "tags": []
   },
   "outputs": [],
   "source": [
    "# Useful tools:\n",
    "from numpy import abs, diag, pi, kron\n",
    "import pygsti\n",
    "\n",
    "# Description of the ideal gates\n",
    "from qscout.v1.std.jaqal_gates import U_R, U_Rz, U_MS\n",
    "\n",
    "# This superclass will handle some details\n",
    "from jaqalpaq.emulator.pygsti import AbstractNoisyNativeEmulator\n",
    "\n",
    "# The superclass needs a description of the gates to handle\n",
    "from qscout.v1.std.jaqal_gates import ALL_GATES\n",
    "\n",
    "\n",
    "class MyToyEmulator(AbstractNoisyNativeEmulator):\n",
    "    # This tells AbstractNoisyNativeEmulator what gate set we're modeling:\n",
    "    jaqal_gates = ALL_GATES\n",
    "\n",
    "    def __init__(self, *args, **kwargs):\n",
    "        \"\"\"Builds a MyCustomEmulator instance for particular parameters\n",
    "\n",
    "        :param depolarization float: (default 1e-3) The depolarization during one\n",
    "          pi/2 gate.\n",
    "        :param rotation_error float: (default 1e-2) The over-rotation angle during one\n",
    "          pi/2 gate.\n",
    "        :param phase_error: (default 1e-2) The error in the x-y angle for (non-Z)\n",
    "          rotation gates.\n",
    "        \"\"\"\n",
    "        \n",
    "        # Equivalent to\n",
    "        # self.depolarization = kwargs.pop('depolarization', 1e-3 )\n",
    "        # ...\n",
    "        self.set_defaults(\n",
    "            kwargs, depolarization=1e-3, rotation_error=1e-2, phase_error=1e-2\n",
    "        )\n",
    "        \n",
    "        # Pass through the balance of the parameters to AbstractNoisyNativeEmulator\n",
    "        # In particular: passes the number of qubits to emulated (in args)\n",
    "        super().__init__(*args, **kwargs)\n",
    "\n",
    "    # For every gate, we need to specify a superoperator and a duration:\n",
    "    \n",
    "    # pyGSTi has gate names that start with capital G\n",
    "    # To avoid name clashes, we prepend our gates with J:    \n",
    "    # GJR\n",
    "    \n",
    "    # We DO NOT currently support qubit-dependent error models (q will always be None)\n",
    "    # Support for this is planned.  In the future, you will be able to write case\n",
    "    # statements returning different process matrices for different qubits.\n",
    "    def gateduration_R(self, q, axis_angle, rotation_angle):\n",
    "        return abs(rotation_angle) / (pi / 2)\n",
    "\n",
    "    def gate_R(self, q, axis_angle, rotation_angle):\n",
    "        # We model the decoherence and over-rotation as a function of the gate duration:\n",
    "        duration = self.gateduration_R(q, axis_angle, rotation_angle)\n",
    "\n",
    "        # I.e., we scale the rotation and depolarization error by the time\n",
    "        scaled_rotation_error = self.rotation_error * duration\n",
    "        depolarization_term = (1 - self.depolarization) ** duration\n",
    "\n",
    "        # Combine these all, returning a superoperator in the Pauli basis\n",
    "        return pygsti.unitary_to_pauligate(\n",
    "            U_R(axis_angle + self.phase_error, rotation_angle + scaled_rotation_error)\n",
    "        ) @ diag([1, depolarization_term, depolarization_term, depolarization_term])\n",
    "\n",
    "    # GJMS\n",
    "    def gateduration_MS(self, q0, q1, axis_angle, rotation_angle):\n",
    "        # Assume MS pi/2 gate 10 times longer than Sx, Sy, Sz\n",
    "        return 10 * abs(rotation_angle) / (pi / 2)\n",
    "\n",
    "    def gate_MS(self, q0, q1, axis_angle, rotation_angle):\n",
    "        duration = self.gateduration_MS(q0, q1, axis_angle, rotation_angle)\n",
    "\n",
    "        scaled_rotation_error = self.rotation_error * duration\n",
    "        depolarization_term = (1 - self.depolarization) ** duration\n",
    "\n",
    "        return pygsti.unitary_to_pauligate(\n",
    "            U_MS(axis_angle + self.phase_error, rotation_angle + scaled_rotation_error)\n",
    "        ) @ kron(diag([1] + 3*[depolarization_term]), diag([1] + 3*[depolarization_term]))\n",
    "\n",
    "    \n",
    "    # Rz is performed entirely in software.\n",
    "    # GJRz\n",
    "    def gateduration_Rz(self, q, angle):\n",
    "        return 0\n",
    "\n",
    "    def gate_Rz(self, q, angle):\n",
    "        return pygsti.unitary_to_pauligate(U_Rz(angle))\n",
    "\n",
    "    # A process matrix for the idle behavior of a qubit.\n",
    "    # Gidle\n",
    "    def idle(self, q, duration):\n",
    "        depolarization_term = (1 - self.depolarization) ** duration\n",
    "\n",
    "        return diag([1, depolarization_term, depolarization_term, depolarization_term])\n",
    "\n",
    "    \n",
    "    # We'll model the Rx gate as just an R gate with a particular axis_angle:\n",
    "    \n",
    "    # GJRx\n",
    "    def gateduration_Rx(self, q, rotation_angle):\n",
    "        # return self.gateduration_R(q, 0, rotation_angle)\n",
    "        return abs(rotation_angle) / (pi / 2)\n",
    "\n",
    "    def gate_Rx(self, q, rotation_angle):\n",
    "        # return self.gate_R(q, 0, rotation_angle)\n",
    "        duration = self.gateduration_Rx(q, rotation_angle)\n",
    "\n",
    "        scaled_rotation_error = self.rotation_error * duration\n",
    "        depolarization_term = (1 - self.depolarization) ** duration\n",
    "\n",
    "        return pygsti.unitary_to_pauligate(\n",
    "            U_R(0 + self.phase_error, rotation_angle + scaled_rotation_error)\n",
    "        ) @ diag([1, depolarization_term, depolarization_term, depolarization_term])\n",
    "    \n",
    "    \n",
    "    # We could do this for all the other gates, but that would be tedious.\n",
    "    # Instead, we'll fill in the parameters with some syntactic sugar:\n",
    "\n",
    "    # Instead of copy-pasting the above definitions, use _curry to create new methods\n",
    "    # with some arguments.  None is a special argument that means: require an argument\n",
    "    # in the created function and pass it through.\n",
    "    C = AbstractNoisyNativeEmulator._curry\n",
    "\n",
    "    # For reference:\n",
    "    # def gate_R(self, q, axis_angle, rotation_angle):\n",
    "    \n",
    "    # GJRy ... etc\n",
    "    gateduration_Ry, gate_Ry = C((None, pi / 2, None), gateduration_R, gate_R)\n",
    "    gateduration_Px, gate_Px = C((None, 0.0, pi), gateduration_R, gate_R)\n",
    "    gateduration_Py, gate_Py = C((None, pi / 2, pi), gateduration_R, gate_R)\n",
    "    gateduration_Pz, gate_Pz = C((None, pi), gateduration_Rz, gate_Rz)\n",
    "    gateduration_Sx, gate_Sx = C((None, 0.0, pi / 2), gateduration_R, gate_R)\n",
    "    gateduration_Sy, gate_Sy = C((None, pi / 2, pi / 2), gateduration_R, gate_R)\n",
    "    gateduration_Sz, gate_Sz = C((None, pi / 2), gateduration_Rz, gate_Rz)\n",
    "    gateduration_Sxd, gate_Sxd = C((None, 0.0, -pi / 2), gateduration_R, gate_R)\n",
    "    gateduration_Syd, gate_Syd = C((None, pi / 2, -pi / 2), gateduration_R, gate_R)\n",
    "    gateduration_Szd, gate_Szd = C((None, -pi / 2), gateduration_Rz, gate_Rz)\n",
    "    gateduration_Sxx, gate_Sxx = C((None, None, 0.0, pi / 2), gateduration_MS, gate_MS)\n",
    "\n",
    "    del C"
   ]
  },
  {
   "cell_type": "code",
   "execution_count": 28,
   "metadata": {
    "execution": {
     "iopub.execute_input": "1970-01-01T00:00:00.000000Z",
     "iopub.status.busy": "1970-01-01T00:00:00.000000Z",
     "iopub.status.idle": "1970-01-01T00:00:00.000000Z",
     "shell.execute_reply": "1970-01-01T00:00:00.000000Z"
    },
    "tags": []
   },
   "outputs": [],
   "source": [
    "backend = MyToyEmulator(2)"
   ]
  },
  {
   "cell_type": "code",
   "execution_count": 29,
   "metadata": {
    "execution": {
     "iopub.execute_input": "1970-01-01T00:00:00.000000Z",
     "iopub.status.busy": "1970-01-01T00:00:00.000000Z",
     "iopub.status.idle": "1970-01-01T00:00:00.000000Z",
     "shell.execute_reply": "1970-01-01T00:00:00.000000Z"
    },
    "tags": []
   },
   "outputs": [],
   "source": [
    "jaqal_result = run_jaqal_circuit(jaqal_circuit, backend=backend)"
   ]
  },
  {
   "cell_type": "code",
   "execution_count": 30,
   "metadata": {
    "execution": {
     "iopub.execute_input": "1970-01-01T00:00:00.000000Z",
     "iopub.status.busy": "1970-01-01T00:00:00.000000Z",
     "iopub.status.idle": "1970-01-01T00:00:00.000000Z",
     "shell.execute_reply": "1970-01-01T00:00:00.000000Z"
    },
    "tags": []
   },
   "outputs": [
    {
     "data": {
      "image/png": "[encoded data removed]",
      "text/plain": [
       "<Figure size 640x480 with 1 Axes>"
      ]
     },
     "metadata": {},
     "output_type": "display_data"
    }
   ],
   "source": [
    "fig, ax = pyplot.subplots()\n",
    "ax.set(ylim=(0,10))\n",
    "data = [r.as_int for r in jaqal_result.subcircuits[1].readouts]\n",
    "hist = bincount(data, None, 4)\n",
    "probs = jaqal_result.subcircuits[1].probability_by_int\n",
    "labels = [f\"{n:02b}\"[::-1] for n in range(4)]\n",
    "ax.bar(range(4), height=hist, tick_label=labels)\n",
    "ax.scatter(range(4), probs * 10, marker='x', zorder=3)\n",
    "ax.set_xlabel('Measured Bitstring')\n",
    "ax.set_ylabel('Counts')\n",
    "ax.set_title('Bell State Experiment')\n",
    "fig.tight_layout()\n",
    "pyplot.show()"
   ]
  },
  {
   "cell_type": "markdown",
   "metadata": {},
   "source": [
    "The minimal skeleton to use `AbstractNoisyNativeEmulator`"
   ]
  },
  {
   "cell_type": "code",
   "execution_count": 31,
   "metadata": {
    "execution": {
     "iopub.execute_input": "1970-01-01T00:00:00.000000Z",
     "iopub.status.busy": "1970-01-01T00:00:00.000000Z",
     "iopub.status.idle": "1970-01-01T00:00:00.000000Z",
     "shell.execute_reply": "1970-01-01T00:00:00.000000Z"
    }
   },
   "outputs": [],
   "source": [
    "from qscout.v1.std.jaqal_gates import ALL_GATES\n",
    "from jaqalpaq.emulator.pygsti import AbstractNoisyNativeEmulator\n",
    "\n",
    "class YourCustomEmulator(AbstractNoisyNativeEmulator):\n",
    "    jaqal_gates = ALL_GATES\n",
    "\n",
    "    def __init__(self, *args, **kwargs):\n",
    "        self.set_defaults(\n",
    "            kwargs, #your custom parameters\n",
    "        )\n",
    "        super().__init__(*args, **kwargs)\n",
    "\n",
    "    # GJR\n",
    "    def gateduration_R(self, q, axis_angle, rotation_angle):\n",
    "        return # your model's duration\n",
    "\n",
    "    def gate_R(self, q, axis_angle, rotation_angle):\n",
    "        return # your error model's superoperator in the Pauli basis\n",
    "    \n",
    "    # Gidle\n",
    "    def idle(self, q, duration):\n",
    "        return # your model's process matrix acting for the idle qubit\n",
    "    \n",
    "    # the rest of the gates"
   ]
  }
 ],
 "metadata": {
  "kernelspec": {
   "display_name": "Python 3",
   "language": "python",
   "name": "python3"
  },
  "language_info": {
   "codemirror_mode": {
    "name": "ipython",
    "version": 3
   },
   "file_extension": ".py",
   "mimetype": "text/x-python",
   "name": "python",
   "nbconvert_exporter": "python",
   "pygments_lexer": "ipython3",
   "version": "3.7.10"
  }
 },
 "nbformat": 4,
 "nbformat_minor": 4
}
