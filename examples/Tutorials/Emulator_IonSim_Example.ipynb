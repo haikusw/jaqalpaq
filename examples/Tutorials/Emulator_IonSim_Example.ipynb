{
 "cells": [
  {
   "cell_type": "markdown",
   "metadata": {},
   "source": [
    "## Noisy Density Matrix Simulation"
   ]
  },
  {
   "cell_type": "code",
   "execution_count": 40,
   "metadata": {},
   "outputs": [],
   "source": [
    "from jaqalpaq.parser import parse_jaqal_string\n",
    "from jaqalpaq.emulator import run_jaqal_circuit\n",
    "from jaqalpaq.core.result import parse_jaqal_output_list"
   ]
  },
  {
   "cell_type": "code",
   "execution_count": 41,
   "metadata": {},
   "outputs": [],
   "source": [
    "simple_jaqal_circuit = parse_jaqal_string(\"\"\"\n",
    "from qscout.v1.std usepulses *\n",
    "\n",
    "register q[2]\n",
    "\n",
    "let pi 3.1415926535897932\n",
    "let pi2 1.5707963267948966\n",
    "let pi4 0.7853981633974483\n",
    "\n",
    "loop 100 {\n",
    "prepare_all\n",
    "R q[0] 0 pi\n",
    "measure_all\n",
    "}\n",
    "\n",
    "\"\"\")"
   ]
  },
  {
   "cell_type": "code",
   "execution_count": null,
   "metadata": {},
   "outputs": [],
   "source": []
  },
  {
   "cell_type": "code",
   "execution_count": 42,
   "metadata": {},
   "outputs": [],
   "source": [
    "# from qscout.v1.noisy import SNLToy1\n",
    "from qscout.v1.ionsim import IonSimErrorModel\n",
    "from qscout.v1.ion_interpolator import TargetOpFactory, adjust_time\n",
    "# need to change \"create opfactory method\" of interpygate to make calls to\n",
    "# self.TargetOpFactory, not __main__.TargetOpFacotry"
   ]
  },
  {
   "cell_type": "code",
   "execution_count": 70,
   "metadata": {},
   "outputs": [
    {
     "name": "stdout",
     "output_type": "stream",
     "text": [
      "phi/pi, theta/pi = 0.0 1.0\n",
      "0 1e-05 (-0.001, 0.001, 5)\n",
      "2.5 0 (1, 5, 5)\n",
      "0 1e-09 (-1.2206020602060206e-08, 1.2206020602060206e-08, 5)\n",
      "[[ 1.00000000e+00  1.90402282e-15  4.21333401e-16  9.29353070e-17]\n",
      " [-1.55775927e-06  9.99982919e-01  1.72502258e-07  6.26784617e-07]\n",
      " [ 9.63986687e-14 -1.72556760e-07 -7.28571377e-01  4.57050804e-01]\n",
      " [-5.38892938e-13  6.26794389e-07 -4.57051609e-01 -6.81626301e-01]]\n",
      "phi/pi, theta/pi = 0.5 1.0\n",
      "0 1e-05 (-0.001, 0.001, 5)\n",
      "2.5 0 (1, 5, 5)\n",
      "0 1e-09 (-1.2206020602060206e-08, 1.2206020602060206e-08, 5)\n",
      "[[ 1.00000000e+00  6.63284582e-16  8.60200834e-16 -1.27350617e-16]\n",
      " [ 9.33566902e-14 -7.80831621e-01  1.61804436e-07  4.27928760e-01]\n",
      " [ 1.56113177e-06 -1.61760762e-07  9.99982895e-01 -6.50397477e-07]\n",
      " [-5.48258184e-13 -4.27929456e-01 -6.50415328e-07 -7.39503074e-01]]\n",
      "phi/pi, theta/pi = 0.0 0.5\n",
      "0 1e-05 (-0.001, 0.001, 5)\n",
      "2.5 0 (1, 5, 5)\n",
      "0 1e-09 (-1.2206020602060206e-08, 1.2206020602060206e-08, 5)\n",
      "[[ 1.00000000e+00 -4.53243912e-16  3.87148768e-16 -2.23360955e-16]\n",
      " [ 3.16429962e-06  9.99987886e-01  3.52742177e-07  3.57582817e-07]\n",
      " [ 1.02539597e-13 -3.57612382e-07  8.24955224e-05  9.99990672e-01]\n",
      " [ 1.23137069e-12  3.57584209e-07 -9.99990681e-01  7.42663678e-05]]\n",
      "phi/pi, theta/pi = 0.5 0.5\n",
      "0 1e-05 (-0.001, 0.001, 5)\n",
      "2.5 0 (1, 5, 5)\n",
      "0 1e-09 (-1.2206020602060206e-08, 1.2206020602060206e-08, 5)\n",
      "[[ 1.00000000e+00  3.19948440e-16  1.89365013e-16 -1.34983218e-16]\n",
      " [ 1.02346149e-13  8.56369015e-05  3.57613175e-07  9.99990679e-01]\n",
      " [-3.16663764e-06 -3.52742490e-07  9.99987898e-01 -3.57583003e-07]\n",
      " [ 1.23309476e-12 -9.99990689e-01 -3.57583877e-07  7.74076456e-05]]\n",
      "phi/pi, theta/pi = 1.0 0.5\n",
      "0 1e-05 (-0.001, 0.001, 5)\n",
      "2.5 0 (1, 5, 5)\n",
      "0 1e-09 (-1.2206020602060206e-08, 1.2206020602060206e-08, 5)\n",
      "[[ 1.00000000e+00  2.68611647e-16 -2.95703594e-17  1.86367981e-19]\n",
      " [-3.17496730e-06  9.99987891e-01  3.62356379e-07 -3.57597828e-07]\n",
      " [-1.01065245e-13 -3.57511858e-07 -2.28503040e-04 -9.99989804e-01]\n",
      " [ 1.23438467e-12 -3.57594805e-07  9.99989813e-01 -2.36730264e-04]]\n",
      "phi/pi, theta/pi = 1.5 0.5\n",
      "0 1e-05 (-0.001, 0.001, 5)\n",
      "2.5 0 (1, 5, 5)\n",
      "0 1e-09 (-1.2206020602060206e-08, 1.2206020602060206e-08, 5)\n",
      "[[ 1.00000000e+00 -9.02440114e-16 -3.48749884e-16 -2.85138145e-16]\n",
      " [-1.00115370e-13 -2.05466046e-04  3.57514300e-07 -9.99989876e-01]\n",
      " [ 3.20415783e-06 -3.62376954e-07  9.99987882e-01  3.57592053e-07]\n",
      " [ 1.24308117e-12  9.99989885e-01  3.57589011e-07 -2.13709956e-04]]\n",
      "phi/pi, theta/pi = 0.0 1.0\n",
      "0 1e-05 (-0.001, 0.001, 5)\n",
      "2.5 0 (1, 5, 5)\n",
      "0 1e-09 (-1.2206020602060206e-08, 1.2206020602060206e-08, 5)\n",
      "[[ 1.00000000e+00  1.90402282e-15  4.21333401e-16  9.29353070e-17]\n",
      " [-1.55775927e-06  9.99982919e-01  1.72502258e-07  6.26784617e-07]\n",
      " [ 9.63986687e-14 -1.72556760e-07 -7.28571377e-01  4.57050804e-01]\n",
      " [-5.38892938e-13  6.26794389e-07 -4.57051609e-01 -6.81626301e-01]]\n"
     ]
    }
   ],
   "source": [
    "# jaqal_result = run_jaqal_circuit(jaqal_circuit, backend=SNLToy1(2, depolarization=2e-3))\n",
    "jaqal_result = run_jaqal_circuit(simple_jaqal_circuit, backend=IonSimErrorModel(2, time_stretch=2.5, sigmas=[1e-5, 0, 1e-9], sample=False))"
   ]
  },
  {
   "cell_type": "code",
   "execution_count": 64,
   "metadata": {},
   "outputs": [],
   "source": [
    "# [[ 1.00000000e+00  1.53060884e-15  1.40080786e-15 -4.56288785e-16]\n",
    "#  [ 1.28127140e-08  9.99999788e-01  3.80208544e-10  2.86675476e-07]\n",
    "#  [-2.28685992e-16 -4.93356737e-10 -9.99915229e-01  3.39112638e-03]\n",
    "#  [ 1.33587278e-15  2.86674480e-07 -3.39112642e-03 -9.99915110e-01]]"
   ]
  },
  {
   "cell_type": "code",
   "execution_count": 71,
   "metadata": {},
   "outputs": [
    {
     "data": {
      "text/plain": [
       "<jaqalpaq.core.result.ExecutionResult at 0x11a2302b0>"
      ]
     },
     "execution_count": 71,
     "metadata": {},
     "output_type": "execute_result"
    }
   ],
   "source": [
    "jaqal_result"
   ]
  },
  {
   "cell_type": "code",
   "execution_count": 72,
   "metadata": {},
   "outputs": [
    {
     "data": {
      "text/plain": [
       "array([0.15918685, 0.84081315, 0.        , 0.        ])"
      ]
     },
     "execution_count": 72,
     "metadata": {},
     "output_type": "execute_result"
    }
   ],
   "source": [
    "jaqal_result.subcircuits[0].probability_by_int"
   ]
  },
  {
   "cell_type": "code",
   "execution_count": 73,
   "metadata": {},
   "outputs": [
    {
     "data": {
      "image/png": "[encoded data removed]",
      "text/plain": [
       "<Figure size 432x288 with 1 Axes>"
      ]
     },
     "metadata": {
      "needs_background": "light"
     },
     "output_type": "display_data"
    }
   ],
   "source": [
    "import matplotlib\n",
    "from matplotlib import pyplot\n",
    "from numpy import bincount\n",
    "\n",
    "fig, ax = pyplot.subplots()\n",
    "ax.set(ylim=(0,100))\n",
    "data = [r.as_int for r in jaqal_result.subcircuits[0].readouts]\n",
    "hist = bincount(data, None, 4)\n",
    "probs = jaqal_result.subcircuits[0].probability_by_int\n",
    "labels = [f\"{n:02b}\"[::-1] for n in range(4)]\n",
    "ax.bar(range(4), height=hist, tick_label=labels)\n",
    "ax.scatter(range(4), probs * 100, marker='x', zorder=3)\n",
    "ax.set_xlabel('Measured Bitstring')\n",
    "ax.set_ylabel('Counts')\n",
    "ax.set_title('Bell State Experiment')\n",
    "# ax.set_yscale('log')\n",
    "fig.tight_layout()\n",
    "pyplot.show()"
   ]
  },
  {
   "cell_type": "code",
   "execution_count": null,
   "metadata": {},
   "outputs": [],
   "source": []
  },
  {
   "cell_type": "markdown",
   "metadata": {},
   "source": [
    "## What is this object though?"
   ]
  },
  {
   "cell_type": "code",
   "execution_count": 8,
   "metadata": {},
   "outputs": [
    {
     "ename": "NameError",
     "evalue": "name 'SNLToy1' is not defined",
     "output_type": "error",
     "traceback": [
      "\u001b[0;31m---------------------------------------------------------------------------\u001b[0m",
      "\u001b[0;31mNameError\u001b[0m                                 Traceback (most recent call last)",
      "\u001b[0;32m<ipython-input-8-cf1d33075f3c>\u001b[0m in \u001b[0;36m<module>\u001b[0;34m\u001b[0m\n\u001b[0;32m----> 1\u001b[0;31m \u001b[0mcon_model\u001b[0m \u001b[0;34m=\u001b[0m \u001b[0mSNLToy1\u001b[0m\u001b[0;34m(\u001b[0m\u001b[0;36m2\u001b[0m\u001b[0;34m,\u001b[0m \u001b[0mdepolarization\u001b[0m\u001b[0;34m=\u001b[0m\u001b[0;36m2e-3\u001b[0m\u001b[0;34m)\u001b[0m\u001b[0;34m\u001b[0m\u001b[0;34m\u001b[0m\u001b[0m\n\u001b[0m",
      "\u001b[0;31mNameError\u001b[0m: name 'SNLToy1' is not defined"
     ]
    }
   ],
   "source": [
    "con_model = SNLToy1(2, depolarization=2e-3)"
   ]
  },
  {
   "cell_type": "code",
   "execution_count": null,
   "metadata": {},
   "outputs": [],
   "source": [
    "con_model.__dict__.keys()"
   ]
  },
  {
   "cell_type": "markdown",
   "metadata": {},
   "source": [
    "Parameters:"
   ]
  },
  {
   "cell_type": "code",
   "execution_count": null,
   "metadata": {},
   "outputs": [],
   "source": [
    "con_model.depolarization, con_model.rotation_error, con_model.phase_error"
   ]
  },
  {
   "cell_type": "markdown",
   "metadata": {},
   "source": [
    "A process matrix for every gate:"
   ]
  },
  {
   "cell_type": "code",
   "execution_count": null,
   "metadata": {},
   "outputs": [],
   "source": [
    "con_model.model"
   ]
  },
  {
   "cell_type": "markdown",
   "metadata": {},
   "source": [
    "A duration for every gate:"
   ]
  },
  {
   "cell_type": "code",
   "execution_count": null,
   "metadata": {},
   "outputs": [],
   "source": [
    "con_model.gate_durations"
   ]
  },
  {
   "cell_type": "markdown",
   "metadata": {},
   "source": [
    "The model and gate durations are all we actually need.\n",
    "\n",
    "You can manually assemble them into with `CircuitEmulator`:"
   ]
  },
  {
   "cell_type": "code",
   "execution_count": null,
   "metadata": {},
   "outputs": [],
   "source": [
    "from jaqalpaq.emulator.pygsti import CircuitEmulator\n",
    "\n",
    "backend = CircuitEmulator(model=con_model.model, gate_durations=con_model.gate_durations)"
   ]
  },
  {
   "cell_type": "code",
   "execution_count": null,
   "metadata": {},
   "outputs": [],
   "source": [
    "jaqal_result = run_jaqal_circuit(jaqal_circuit, backend=backend)"
   ]
  },
  {
   "cell_type": "code",
   "execution_count": null,
   "metadata": {},
   "outputs": [],
   "source": [
    "fig, ax = pyplot.subplots()\n",
    "ax.set(ylim=(0,10))\n",
    "data = [r.as_int for r in jaqal_result.subcircuits[1].readouts]\n",
    "hist = bincount(data, None, 4)\n",
    "probs = jaqal_result.subcircuits[1].probability_by_int\n",
    "labels = [f\"{n:02b}\"[::-1] for n in range(4)]\n",
    "ax.bar(range(4), height=hist, tick_label=labels)\n",
    "ax.scatter(range(4), probs * 10, marker='x', zorder=3)\n",
    "ax.set_xlabel('Measured Bitstring')\n",
    "ax.set_ylabel('Counts')\n",
    "ax.set_title('Bell State Experiment')\n",
    "fig.tight_layout()\n",
    "pyplot.show()"
   ]
  },
  {
   "cell_type": "markdown",
   "metadata": {},
   "source": [
    "## I want to make my own error model!\n",
    "\n",
    "(Let's ignore crosstalk for now.)\n",
    "\n",
    "You need:\n",
    " - A process matrix for every gate\n",
    " - A process matrix describing a qubit that is not being driven\n",
    " - The duration of the gates\n",
    " \n",
    " You could do this by hand, but we have a helper class to make this a little easier:"
   ]
  },
  {
   "cell_type": "code",
   "execution_count": null,
   "metadata": {},
   "outputs": [],
   "source": [
    "# Useful tools:\n",
    "from numpy import abs, diag, pi, kron\n",
    "import pygsti\n",
    "\n",
    "# Description of the ideal gates\n",
    "from qscout.v1.native_gates import U_R, U_Rz, U_MS\n",
    "\n",
    "# This superclass will handle some details\n",
    "from jaqalpaq.emulator.pygsti import AbstractNoisyNativeEmulator\n",
    "\n",
    "# The superclass needs a description of the gates to handle\n",
    "from qscout.v1.native_gates import NATIVE_GATES\n",
    "\n",
    "\n",
    "class MyToyEmulator(AbstractNoisyNativeEmulator):\n",
    "    # This tells AbstractNoisyNativeEmulator what gate set we're modeling:\n",
    "    jaqal_gates = NATIVE_GATES\n",
    "\n",
    "    def __init__(self, *args, **kwargs):\n",
    "        \"\"\"Builds a MyCustomEmulator instance for particular parameters\n",
    "\n",
    "        :param depolarization float: (default 1e-3) The depolarization during one\n",
    "          pi/2 gate.\n",
    "        :param rotation_error float: (default 1e-2) The over-rotation angle during one\n",
    "          pi/2 gate.\n",
    "        :param phase_error: (default 1e-2) The error in the x-y angle for (non-Z)\n",
    "          rotation gates.\n",
    "        \"\"\"\n",
    "        \n",
    "        # Equivalent to\n",
    "        # self.depolarization = kwargs.pop('depolarization', 1e-3 )\n",
    "        # ...\n",
    "        self.set_defaults(\n",
    "            kwargs, depolarization=1e-3, rotation_error=1e-2, phase_error=1e-2\n",
    "        )\n",
    "        \n",
    "        # Pass through the balance of the parameters to AbstractNoisyNativeEmulator\n",
    "        # In particular: passes the number of qubits to emulated (in args)\n",
    "        super().__init__(*args, **kwargs)\n",
    "\n",
    "    # For every gate, we need to specify a superoperator and a duration:\n",
    "    \n",
    "    # pyGSTi has gate names that start with capital G\n",
    "    # To avoid name clashes, we prepend our gates with J:    \n",
    "    # GJR\n",
    "    \n",
    "    # We DO NOT currently support qubit-dependent error models (q will always be None)\n",
    "    # Support for this is planned.  In the future, you will be able to write case\n",
    "    # statements returning different process matrices for different qubits.\n",
    "    def gateduration_R(self, q, axis_angle, rotation_angle):\n",
    "        return abs(rotation_angle) / (pi / 2)\n",
    "\n",
    "    def gate_R(self, q, axis_angle, rotation_angle):\n",
    "        # We model the decoherence and over-rotation as a function of the gate duration:\n",
    "        duration = self.gateduration_R(q, axis_angle, rotation_angle)\n",
    "\n",
    "        # I.e., we scale the rotation and depolarization error by the time\n",
    "        scaled_rotation_error = self.rotation_error * duration\n",
    "        depolarization_term = (1 - self.depolarization) ** duration\n",
    "\n",
    "        # Combine these all, returning a superoperator in the Pauli basis\n",
    "        return pygsti.unitary_to_pauligate(\n",
    "            U_R(axis_angle + self.phase_error, rotation_angle + scaled_rotation_error)\n",
    "        ) @ diag([1, depolarization_term, depolarization_term, depolarization_term])\n",
    "\n",
    "    # GJMS\n",
    "    def gateduration_MS(self, q0, q1, axis_angle, rotation_angle):\n",
    "        # Assume MS pi/2 gate 10 times longer than Sx, Sy, Sz\n",
    "        return 10 * abs(rotation_angle) / (pi / 2)\n",
    "\n",
    "    def gate_MS(self, q0, q1, axis_angle, rotation_angle):\n",
    "        duration = self.gateduration_MS(q0, q1, axis_angle, rotation_angle)\n",
    "\n",
    "        scaled_rotation_error = self.rotation_error * duration\n",
    "        depolarization_term = (1 - self.depolarization) ** duration\n",
    "\n",
    "        return pygsti.unitary_to_pauligate(\n",
    "            U_MS(axis_angle + self.phase_error, rotation_angle + scaled_rotation_error)\n",
    "        ) @ kron(diag([1] + 3*[depolarization_term]), diag([1] + 3*[depolarization_term]))\n",
    "\n",
    "    \n",
    "    # Rz is performed entirely in software.\n",
    "    # GJRz\n",
    "    def gateduration_Rz(self, q, angle):\n",
    "        return 0\n",
    "\n",
    "    def gate_Rz(self, q, angle):\n",
    "        return pygsti.unitary_to_pauligate(U_Rz(angle))\n",
    "\n",
    "    # A process matrix for the idle behavior of a qubit.\n",
    "    # Gidle\n",
    "    def idle(self, q, duration):\n",
    "        depolarization_term = (1 - self.depolarization) ** duration\n",
    "\n",
    "        return diag([1, depolarization_term, depolarization_term, depolarization_term])\n",
    "\n",
    "    \n",
    "    # We'll model the Rx gate as just an R gate with a particular axis_angle:\n",
    "    \n",
    "    # GJRx\n",
    "    def gateduration_Rx(self, q, rotation_angle):\n",
    "        # return self.gateduration_R(q, 0, rotation_angle)\n",
    "        return abs(rotation_angle) / (pi / 2)\n",
    "\n",
    "    def gate_Rx(self, q, rotation_angle):\n",
    "        # return self.gate_R(q, 0, rotation_angle)\n",
    "        duration = self.gateduration_Rx(q, rotation_angle)\n",
    "\n",
    "        scaled_rotation_error = self.rotation_error * duration\n",
    "        depolarization_term = (1 - self.depolarization) ** duration\n",
    "\n",
    "        return pygsti.unitary_to_pauligate(\n",
    "            U_R(0 + self.phase_error, rotation_angle + scaled_rotation_error)\n",
    "        ) @ diag([1, depolarization_term, depolarization_term, depolarization_term])\n",
    "    \n",
    "    \n",
    "    # We could do this for all the other gates, but that would be tedious.\n",
    "    # Instead, we'll fill in the parameters with some syntactic sugar:\n",
    "\n",
    "    # Instead of copy-pasting the above definitions, use _curry to create new methods\n",
    "    # with some arguments.  None is a special argument that means: require an argument\n",
    "    # in the created function and pass it through.\n",
    "    C = AbstractNoisyNativeEmulator._curry\n",
    "\n",
    "    # For reference:\n",
    "    # def gate_R(self, q, axis_angle, rotation_angle):\n",
    "    \n",
    "    # GJRy ... etc\n",
    "    gateduration_Ry, gate_Ry = C((None, pi / 2, None), gateduration_R, gate_R)\n",
    "    gateduration_Px, gate_Px = C((None, 0.0, pi), gateduration_R, gate_R)\n",
    "    gateduration_Py, gate_Py = C((None, pi / 2, pi), gateduration_R, gate_R)\n",
    "    gateduration_Pz, gate_Pz = C((None, pi), gateduration_Rz, gate_Rz)\n",
    "    gateduration_Sx, gate_Sx = C((None, 0.0, pi / 2), gateduration_R, gate_R)\n",
    "    gateduration_Sy, gate_Sy = C((None, pi / 2, pi / 2), gateduration_R, gate_R)\n",
    "    gateduration_Sz, gate_Sz = C((None, pi / 2), gateduration_Rz, gate_Rz)\n",
    "    gateduration_Sxd, gate_Sxd = C((None, 0.0, -pi / 2), gateduration_R, gate_R)\n",
    "    gateduration_Syd, gate_Syd = C((None, pi / 2, -pi / 2), gateduration_R, gate_R)\n",
    "    gateduration_Szd, gate_Szd = C((None, -pi / 2), gateduration_Rz, gate_Rz)\n",
    "    gateduration_Sxx, gate_Sxx = C((None, None, 0.0, pi / 2), gateduration_MS, gate_MS)\n",
    "\n",
    "    del C"
   ]
  },
  {
   "cell_type": "code",
   "execution_count": null,
   "metadata": {},
   "outputs": [],
   "source": [
    "backend = MyToyEmulator(2)"
   ]
  },
  {
   "cell_type": "code",
   "execution_count": null,
   "metadata": {},
   "outputs": [],
   "source": [
    "jaqal_result = run_jaqal_circuit(jaqal_circuit, backend=backend)"
   ]
  },
  {
   "cell_type": "code",
   "execution_count": null,
   "metadata": {},
   "outputs": [],
   "source": [
    "fig, ax = pyplot.subplots()\n",
    "ax.set(ylim=(0,10))\n",
    "data = [r.as_int for r in jaqal_result.subcircuits[1].readouts]\n",
    "hist = bincount(data, None, 4)\n",
    "probs = jaqal_result.subcircuits[1].probability_by_int\n",
    "labels = [f\"{n:02b}\"[::-1] for n in range(4)]\n",
    "ax.bar(range(4), height=hist, tick_label=labels)\n",
    "ax.scatter(range(4), probs * 10, marker='x', zorder=3)\n",
    "ax.set_xlabel('Measured Bitstring')\n",
    "ax.set_ylabel('Counts')\n",
    "ax.set_title('Bell State Experiment')\n",
    "fig.tight_layout()\n",
    "pyplot.show()"
   ]
  },
  {
   "cell_type": "markdown",
   "metadata": {},
   "source": [
    "The minimal skeleton to use `AbstractNoisyNativeEmulator`"
   ]
  },
  {
   "cell_type": "code",
   "execution_count": null,
   "metadata": {},
   "outputs": [],
   "source": [
    "from qscout.v1.native_gates import NATIVE_GATES\n",
    "from jaqalpaq.emulator.pygsti import AbstractNoisyNativeEmulator\n",
    "\n",
    "class YourCustomEmulator(AbstractNoisyNativeEmulator):\n",
    "    jaqal_gates = NATIVE_GATES\n",
    "\n",
    "    def __init__(self, *args, **kwargs):\n",
    "        self.set_defaults(\n",
    "            kwargs, #your custom parameters\n",
    "        )\n",
    "        super().__init__(*args, **kwargs)\n",
    "\n",
    "    # GJR\n",
    "    def gateduration_R(self, q, axis_angle, rotation_angle):\n",
    "        return # your model's duration\n",
    "\n",
    "    def gate_R(self, q, axis_angle, rotation_angle):\n",
    "        return # your error model's superoperator in the Pauli basis\n",
    "    \n",
    "    # Gidle\n",
    "    def idle(self, q, duration):\n",
    "        return # your model's process matrix acting for the idle qubit\n",
    "    \n",
    "    # the rest of the gates"
   ]
  }
 ],
 "metadata": {
  "kernelspec": {
   "display_name": "pygsti_venv_1",
   "language": "python",
   "name": "pygsti_venv_1"
  },
  "language_info": {
   "codemirror_mode": {
    "name": "ipython",
    "version": 3
   },
   "file_extension": ".py",
   "mimetype": "text/x-python",
   "name": "python",
   "nbconvert_exporter": "python",
   "pygments_lexer": "ipython3",
   "version": "3.8.5"
  }
 },
 "nbformat": 4,
 "nbformat_minor": 4
}
