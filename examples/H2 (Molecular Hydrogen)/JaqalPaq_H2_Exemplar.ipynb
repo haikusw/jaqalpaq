{
 "cells": [
  {
   "cell_type": "markdown",
   "metadata": {},
   "source": [
    "# Molecular Hydrogen (H2) Exemplar\n",
    "## Step 0: Import various libraries"
   ]
  },
  {
   "cell_type": "code",
   "execution_count": 1,
   "metadata": {
    "execution": {
     "iopub.execute_input": "1970-01-01T00:00:00.000000Z",
     "iopub.status.busy": "1970-01-01T00:00:00.000000Z",
     "iopub.status.idle": "1970-01-01T00:00:00.000000Z",
     "shell.execute_reply": "1970-01-01T00:00:00.000000Z"
    },
    "scrolled": true
   },
   "outputs": [],
   "source": [
    "# Imports for QSCOUT\n",
    "import jaqalpaq\n",
    "from jaqalpaq.core import circuitbuilder\n",
    "from jaqalpaq.run import run_jaqal_circuit\n",
    "from qscout.v1.std.jaqal_gates import ALL_GATES as std\n",
    "from qscout.v1.std import noisy\n",
    "\n",
    "# Imports for basic mathematical functionality\n",
    "from math import pi\n",
    "import numpy as np\n",
    "\n",
    "# Imports for OpenFermion(-PySCF)\n",
    "import openfermion as of\n",
    "from openfermion.chem import MolecularData\n",
    "from openfermionpyscf import run_pyscf\n",
    "\n",
    "# Import for VQE optimizer\n",
    "from scipy import optimize"
   ]
  },
  {
   "cell_type": "markdown",
   "metadata": {},
   "source": [
    "## Step 1: SCF calculation to assemble the second-quantized Hamiltonian"
   ]
  },
  {
   "cell_type": "code",
   "execution_count": 2,
   "metadata": {
    "execution": {
     "iopub.execute_input": "1970-01-01T00:00:00.000000Z",
     "iopub.status.busy": "1970-01-01T00:00:00.000000Z",
     "iopub.status.idle": "1970-01-01T00:00:00.000000Z",
     "shell.execute_reply": "1970-01-01T00:00:00.000000Z"
    }
   },
   "outputs": [
    {
     "name": "stdout",
     "output_type": "stream",
     "text": [
      "Bond Length in Angstroms: 0.7474\n",
      "FCI (Exact) energy in Hartrees: -1.137175710240685\n"
     ]
    }
   ],
   "source": [
    "# Set the basis set, spin, and charge of the H2 molecule\n",
    "basis = 'sto-3g'\n",
    "multiplicity = 1\n",
    "charge = 0\n",
    "\n",
    "# Set calculation parameters\n",
    "run_scf = 1\n",
    "run_fci = 1\n",
    "delete_input = True\n",
    "delete_output = False\n",
    "\n",
    "# Generate molecule at some bond length (0.7474 Angstroms here)\n",
    "geometry = [('H', (0., 0., 0.)), ('H', (0., 0., 0.7474))]\n",
    "molecule = MolecularData(geometry, basis, multiplicity, charge, filename='./H2-singlet-0.7474') #Set file location of data\n",
    "\n",
    "# Run pyscf to generate new molecular data for sto-3g H2\n",
    "molecule = run_pyscf(molecule, run_scf=run_scf, run_fci=run_fci, verbose=False)\n",
    "\n",
    "print(\"Bond Length in Angstroms: {}\".format(0.7474))\n",
    "print(\"FCI (Exact) energy in Hartrees: {}\".format(molecule.fci_energy))"
   ]
  },
  {
   "cell_type": "markdown",
   "metadata": {},
   "source": [
    "## Step 2: Convert the fermionic Hamiltonian to a qubit Hamiltonian"
   ]
  },
  {
   "cell_type": "code",
   "execution_count": 3,
   "metadata": {
    "execution": {
     "iopub.execute_input": "1970-01-01T00:00:00.000000Z",
     "iopub.status.busy": "1970-01-01T00:00:00.000000Z",
     "iopub.status.idle": "1970-01-01T00:00:00.000000Z",
     "shell.execute_reply": "1970-01-01T00:00:00.000000Z"
    }
   },
   "outputs": [],
   "source": [
    "# Get the fermionic Hamiltonian for H2 and map it using the BK encoding\n",
    "hamiltonian = molecule.get_molecular_hamiltonian()\n",
    "hamiltonian_ferm = of.get_fermion_operator(hamiltonian)\n",
    "hamiltonian_bk = of.bravyi_kitaev(hamiltonian_ferm)\n",
    "\n",
    "# Define Pauli strings that appear in the reduced two-qubit Hamiltonian\n",
    "#          q0 ,  q1\n",
    "terms = [[None, None], ['Z', None], [None, 'Z'], ['Z', 'Z'], ['X', 'X'], ['Y', 'Y']]\n",
    "\n",
    "# Calculate effective coefficients for the reduced two-qubit Hamiltonian\n",
    "# Derivation follows arXiv:1803.10238v2 appendix A-2\n",
    "fs = hamiltonian_bk.terms #Old coefficients from OpenFermion Hamiltonian\n",
    "c0 = (fs[()] + fs[(1, 'Z'),] + fs[(1, 'Z'), (3, 'Z'),]).real\n",
    "c1 = (fs[(0, 'Z'),] + fs[(0, 'Z'), (1, 'Z'),]).real\n",
    "c2 = (fs[(2, 'Z'),] + fs[(1, 'Z'), (2, 'Z'), (3, 'Z'),]).real\n",
    "c3 = (fs[(0, 'Z'), (2, 'Z'),] + fs[(0, 'Z'), (1, 'Z'), (2, 'Z'),] + fs[(0, 'Z'), (2, 'Z'), (3, 'Z'),] + fs[(0, 'Z'), (1, 'Z'), (2, 'Z'), (3, 'Z')]).real\n",
    "c4 = (fs[(0,'X'), (1, 'Z'), (2, 'X'),] + fs[(0, 'X'), (1, 'Z'), (2, 'X'), (3, 'Z'),]).real\n",
    "c5 = (fs[(0, 'Y'), (1, 'Z'), (2, 'Y'),] + fs[(0, 'Y'), (1, 'Z'), (2, 'Y'), (3, 'Z'),]).real\n",
    "cs = [c0, c1, c2, c3, c4, c5] #New coefficients are linear combinations of old coefficients"
   ]
  },
  {
   "cell_type": "markdown",
   "metadata": {},
   "source": [
    "## Step 3: Define UCC Ansatz circuit in JaqalPaq"
   ]
  },
  {
   "cell_type": "code",
   "execution_count": 4,
   "metadata": {
    "execution": {
     "iopub.execute_input": "1970-01-01T00:00:00.000000Z",
     "iopub.status.busy": "1970-01-01T00:00:00.000000Z",
     "iopub.status.idle": "1970-01-01T00:00:00.000000Z",
     "shell.execute_reply": "1970-01-01T00:00:00.000000Z"
    }
   },
   "outputs": [],
   "source": [
    "def ansatz(theta, term):\n",
    "    builder = circuitbuilder.CircuitBuilder(native_gates=std)\n",
    "\n",
    "    # Create a qubit register\n",
    "    q = builder.register('q', 2)\n",
    "\n",
    "    # Prepare the Hartree Fock state\n",
    "    builder.gate('prepare_all')\n",
    "    builder.gate('Px', q[0])\n",
    "    \n",
    "    # Apply the UCC Ansatz exp[-i*theta(X1 Y0)]\n",
    "    builder.gate('MS', q[1], q[0], 0, np.pi/2)\n",
    "    builder.gate('Rz', q[1], theta)\n",
    "    builder.gate('MS', q[1], q[0], 0, -np.pi/2)\n",
    "\n",
    "    # Change basis for measurement depending on term\n",
    "    for j, qubit in enumerate(term):\n",
    "        if qubit == 'X':\n",
    "            builder.gate('Sy', ('array_item', q, j))\n",
    "            builder.gate('Px', ('array_item', q, j))\n",
    "        if qubit == 'Y':\n",
    "            builder.gate('Sxd', ('array_item', q, j))\n",
    "\n",
    "    builder.gate('measure_all')\n",
    "\n",
    "    circuit = builder.build()\n",
    "\n",
    "    return circuit"
   ]
  },
  {
   "cell_type": "markdown",
   "metadata": {},
   "source": [
    "## Step 4: Define functions to calculate energy expectation value of Ansatz state"
   ]
  },
  {
   "cell_type": "code",
   "execution_count": 5,
   "metadata": {
    "execution": {
     "iopub.execute_input": "1970-01-01T00:00:00.000000Z",
     "iopub.status.busy": "1970-01-01T00:00:00.000000Z",
     "iopub.status.idle": "1970-01-01T00:00:00.000000Z",
     "shell.execute_reply": "1970-01-01T00:00:00.000000Z"
    }
   },
   "outputs": [],
   "source": [
    "def ansatz_sampling(theta, sample_noise):\n",
    "    term_probs = []\n",
    "    for i in range(len(terms)):\n",
    "        if sample_noise:\n",
    "            probs = np.zeros(4)\n",
    "            circuit = ansatz(theta, terms[i])\n",
    "            sim_result = run_jaqal_circuit(circuit) #Run circuit on emulator\n",
    "            sim_probs = sim_result.subcircuits[0].probability_by_int\n",
    "            sample = np.random.choice(4, size=n_samples, p=sim_probs) #Sample from distribution to get probabilities\n",
    "            \n",
    "            for count in sample:\n",
    "                probs[count] += 1 #Increment state counter\n",
    "            probs = probs/n_samples #Determine probabilities from sampling\n",
    "            term_probs += [probs] #Combine lists of probs of each term in Hamiltonian\n",
    "                \n",
    "        else: #Exact solution without sampling\n",
    "            circuit = ansatz(theta, terms[i])\n",
    "            sim_result = run_jaqal_circuit(circuit) #Run circuit on emulator\n",
    "            sim_probs = sim_result.subcircuits[0].probability_by_int\n",
    "            term_probs += [sim_probs]\n",
    "    \n",
    "    return term_probs"
   ]
  },
  {
   "cell_type": "code",
   "execution_count": 6,
   "metadata": {
    "execution": {
     "iopub.execute_input": "1970-01-01T00:00:00.000000Z",
     "iopub.status.busy": "1970-01-01T00:00:00.000000Z",
     "iopub.status.idle": "1970-01-01T00:00:00.000000Z",
     "shell.execute_reply": "1970-01-01T00:00:00.000000Z"
    },
    "scrolled": true
   },
   "outputs": [],
   "source": [
    "# Calculate energy of one term of the Hamiltonian for one possible state\n",
    "def term_energy(term, state, coefficient, prob):\n",
    "    parity = 1\n",
    "    for i in range(len(term)):\n",
    "        #Change parity if state is occupied and is acted on by a pauli operator\n",
    "        if term[i] != None and state[i] == '1':\n",
    "            parity = -1*parity\n",
    "    return coefficient*prob*parity\n",
    "\n",
    "# Calculate energy of the molecule for a given value of theta\n",
    "def calculate_energy(theta, sample_noise):\n",
    "    energy = 0\n",
    "    probs = ansatz_sampling(theta[0], sample_noise) #Convert tuple (from optimization) to float for circuit\n",
    "    for i in range(len(terms)): #For each term in the hamiltonian\n",
    "        for j in range(len(probs[0])): #For each possible state\n",
    "            term = terms[i]\n",
    "            state = '{0:02b}'.format(j)[::-1] #convert state to binary (# of qubits)\n",
    "            coefficient = cs[i].real\n",
    "            prob = probs[i][j]\n",
    "            #print(term, state, coefficient, prob)\n",
    "            energy += term_energy(term, state, coefficient, prob)\n",
    "    return energy"
   ]
  },
  {
   "cell_type": "markdown",
   "metadata": {},
   "source": [
    "## Step 5: Minimize the energy expectation value in  𝜃"
   ]
  },
  {
   "cell_type": "code",
   "execution_count": 7,
   "metadata": {
    "execution": {
     "iopub.execute_input": "1970-01-01T00:00:00.000000Z",
     "iopub.status.busy": "1970-01-01T00:00:00.000000Z",
     "iopub.status.idle": "1970-01-01T00:00:00.000000Z",
     "shell.execute_reply": "1970-01-01T00:00:00.000000Z"
    }
   },
   "outputs": [
    {
     "data": {
      "text/plain": [
       "     fun: -1.1381666072593801\n",
       "   maxcv: 0.0\n",
       " message: 'Optimization terminated successfully.'\n",
       "    nfev: 21\n",
       "  status: 1\n",
       " success: True\n",
       "       x: array([-0.20870586])"
      ]
     },
     "execution_count": 7,
     "metadata": {},
     "output_type": "execute_result"
    }
   ],
   "source": [
    "# Minimize the energy using classical optimization\n",
    "n_samples = 10000\n",
    "optimize.minimize(fun=calculate_energy, x0=[0.01], args=(True), method=\"COBYLA\")"
   ]
  },
  {
   "cell_type": "markdown",
   "metadata": {},
   "source": [
    "## Step 6: Loop over previous steps to calculate ground state energy at different bond lengths"
   ]
  },
  {
   "cell_type": "code",
   "execution_count": 8,
   "metadata": {
    "execution": {
     "iopub.execute_input": "1970-01-01T00:00:00.000000Z",
     "iopub.status.busy": "1970-01-01T00:00:00.000000Z",
     "iopub.status.idle": "1970-01-01T00:00:00.000000Z",
     "shell.execute_reply": "1970-01-01T00:00:00.000000Z"
    }
   },
   "outputs": [
    {
     "name": "stdout",
     "output_type": "stream",
     "text": [
      "R=0.3\t Exact Energy: -0.6018037107656862\n",
      "R=0.3\t Optimized Energy: -0.6018037060760494\t Sampling Noise: False\n",
      "R=0.3\t Optimized Energy: -0.6019189156935852\t Sampling Noise: True\n",
      "\n",
      "\n",
      "R=0.4\t Exact Energy: -0.9141497046270848\n",
      "R=0.4\t Optimized Energy: -0.9141496891660021\t Sampling Noise: False\n",
      "R=0.4\t Optimized Energy: -0.9134816699073119\t Sampling Noise: True\n",
      "\n",
      "\n",
      "R=0.5\t Exact Energy: -1.0551597944706257\n",
      "R=0.5\t Optimized Energy: -1.0551597886552426\t Sampling Noise: False\n",
      "R=0.5\t Optimized Energy: -1.0530761153072774\t Sampling Noise: True\n",
      "\n",
      "\n",
      "R=0.6\t Exact Energy: -1.1162860068695397\n",
      "R=0.6\t Optimized Energy: -1.116286004084924\t Sampling Noise: False\n",
      "R=0.6\t Optimized Energy: -1.117882203186415\t Sampling Noise: True\n",
      "\n",
      "\n",
      "R=0.7\t Exact Energy: -1.136189454065923\n",
      "R=0.7\t Optimized Energy: -1.136189449050801\t Sampling Noise: False\n",
      "R=0.7\t Optimized Energy: -1.134362594175474\t Sampling Noise: True\n",
      "\n",
      "\n",
      "R=0.8\t Exact Energy: -1.1341476666770967\n",
      "R=0.8\t Optimized Energy: -1.134147659219313\t Sampling Noise: False\n",
      "R=0.8\t Optimized Energy: -1.1316261391966411\t Sampling Noise: True\n",
      "\n",
      "\n",
      "R=0.9\t Exact Energy: -1.1205602812999877\n",
      "R=0.9\t Optimized Energy: -1.1205602775937629\t Sampling Noise: False\n",
      "R=0.9\t Optimized Energy: -1.1186019997152594\t Sampling Noise: True\n",
      "\n",
      "\n",
      "R=1.0\t Exact Energy: -1.1011503302326195\n",
      "R=1.0\t Optimized Energy: -1.101150327981206\t Sampling Noise: False\n",
      "R=1.0\t Optimized Energy: -1.1012161522345219\t Sampling Noise: True\n",
      "\n",
      "\n",
      "R=1.1\t Exact Energy: -1.0791929449690743\n",
      "R=1.1\t Optimized Energy: -1.0791929397824438\t Sampling Noise: False\n",
      "R=1.1\t Optimized Energy: -1.078040787006933\t Sampling Noise: True\n",
      "\n",
      "\n",
      "R=1.2\t Exact Energy: -1.0567407463052572\n",
      "R=1.2\t Optimized Energy: -1.056740742651027\t Sampling Noise: False\n",
      "R=1.2\t Optimized Energy: -1.0568017144658393\t Sampling Noise: True\n",
      "\n",
      "\n",
      "R=1.3\t Exact Energy: -1.0351862664342546\n",
      "R=1.3\t Optimized Energy: -1.0351862635210696\t Sampling Noise: False\n",
      "R=1.3\t Optimized Energy: -1.0303059356811113\t Sampling Noise: True\n",
      "\n",
      "\n"
     ]
    }
   ],
   "source": [
    "# Set the basis set, spin, and charge of the H2 molecule\n",
    "basis = 'sto-3g'\n",
    "multiplicity = 1\n",
    "charge = 0\n",
    "\n",
    "# Set calculation parameters\n",
    "run_scf = 1\n",
    "run_fci = 1\n",
    "delete_input = True\n",
    "delete_output = False\n",
    "\n",
    "optimized_energies = [[], []]\n",
    "exact_energies = []\n",
    "\n",
    "# Loop over bond lengths from 0.3 to 1.3 angstroms\n",
    "n_samples = 10000 # Sample circuit\n",
    "n_pts = 11 # Number of points\n",
    "bond_lengths = np.linspace(0.3,1.3,n_pts)\n",
    "for diatomic_bond_length in bond_lengths:\n",
    "    # Generate molecule at some bond length\n",
    "    geometry = [('H', (0., 0., 0.)), ('H', (0., 0., diatomic_bond_length))]\n",
    "    description=str(round(diatomic_bond_length, 2))\n",
    "    molecule = MolecularData(\n",
    "        geometry, basis, multiplicity, charge,\n",
    "        description=description,\n",
    "        filename='./H2_single_dissociation_'+description)\n",
    "\n",
    "    # Run pyscf to generate new molecular data for sto-3g H2\n",
    "    molecule = run_pyscf(molecule, run_scf=run_scf, run_fci=run_fci, verbose=False)\n",
    "    \n",
    "    # Get the fermionic Hamiltonian for H2 and map it into qubits using the BK encoding\n",
    "    hamiltonian = molecule.get_molecular_hamiltonian()\n",
    "    hamiltonian_ferm = of.get_fermion_operator(hamiltonian)\n",
    "    hamiltonian_bk = of.bravyi_kitaev(hamiltonian_ferm)\n",
    "\n",
    "    # Define Pauli strings that appear in the reduced two-qubit Hamiltonian\n",
    "    #          q0 ,  q1\n",
    "    terms = [[None, None], ['Z', None], [None, 'Z'], ['Z', 'Z'], ['X', 'X'], ['Y', 'Y']]\n",
    "\n",
    "    # Calculate effective coefficients for the reduced two-qubit Hamiltonian\n",
    "    # Derivation follows arXiv:1803.10238v2 appendix A-2\n",
    "    fs = hamiltonian_bk.terms #Old coefficients from OpenFermion Hamiltonian\n",
    "    c0 = (fs[()] + fs[(1, 'Z'),] + fs[(1, 'Z'), (3, 'Z'),]).real\n",
    "    c1 = (fs[(0, 'Z'),] + fs[(0, 'Z'), (1, 'Z'),]).real\n",
    "    c2 = (fs[(2, 'Z'),] + fs[(1, 'Z'), (2, 'Z'), (3, 'Z'),]).real\n",
    "    c3 = (fs[(0, 'Z'), (2, 'Z'),] + fs[(0, 'Z'), (1, 'Z'), (2, 'Z'),] + fs[(0, 'Z'), (2, 'Z'), (3, 'Z'),] + fs[(0, 'Z'), (1, 'Z'), (2, 'Z'), (3, 'Z')]).real\n",
    "    c4 = (fs[(0,'X'), (1, 'Z'), (2, 'X'),] + fs[(0, 'X'), (1, 'Z'), (2, 'X'), (3, 'Z'),]).real\n",
    "    c5 = (fs[(0, 'Y'), (1, 'Z'), (2, 'Y'),] + fs[(0, 'Y'), (1, 'Z'), (2, 'Y'), (3, 'Z'),]).real\n",
    "    cs = [c0, c1, c2, c3, c4, c5] #New coefficients are linear combinations of old coefficients\n",
    "\n",
    "    # Minimize the expectation value of the energy using a classical optimizer\n",
    "    exact_energies.append(molecule.fci_energy)\n",
    "    print(\"R={}\\t Exact Energy: {}\".format(str(round(diatomic_bond_length, 2)), molecule.fci_energy))\n",
    "    \n",
    "    for i in range(2):\n",
    "        result = optimize.minimize(fun=calculate_energy, x0=[0.01], args=(i), method=\"COBYLA\")\n",
    "        optimized_energies[i].append(result.fun)\n",
    "        print(\"R={}\\t Optimized Energy: {}\\t Sampling Noise: {}\".format(str(round(diatomic_bond_length, 2)), result.fun, bool(i)))\n",
    "    print('\\n')"
   ]
  },
  {
   "cell_type": "markdown",
   "metadata": {},
   "source": [
    "## Step 7: Plot the dissociation curve"
   ]
  },
  {
   "cell_type": "code",
   "execution_count": 9,
   "metadata": {
    "execution": {
     "iopub.execute_input": "1970-01-01T00:00:00.000000Z",
     "iopub.status.busy": "1970-01-01T00:00:00.000000Z",
     "iopub.status.idle": "1970-01-01T00:00:00.000000Z",
     "shell.execute_reply": "1970-01-01T00:00:00.000000Z"
    }
   },
   "outputs": [
    {
     "data": {
      "image/png": "[encoded data removed]",
      "text/plain": [
       "<Figure size 1000x700 with 1 Axes>"
      ]
     },
     "metadata": {},
     "output_type": "display_data"
    }
   ],
   "source": [
    "import matplotlib\n",
    "import matplotlib.pyplot as pyplot\n",
    "\n",
    "# Plot the various energies for different bond lengths\n",
    "fig = pyplot.figure(figsize=(10,7))\n",
    "pyplot.rcParams['font.size']=18\n",
    "bkcolor = '#ffffff'\n",
    "ax = fig.add_subplot(1, 1, 1)\n",
    "pyplot.subplots_adjust(left=.2)\n",
    "ax.set_xlabel('R (Angstroms)')\n",
    "ax.set_ylabel(r'E (Hartrees)')\n",
    "ax.set_title(r'H2 bond dissociation curve')\n",
    "ax.spines['right'].set_visible(False)\n",
    "ax.spines['top'].set_visible(False)\n",
    "bond_lengths = [float(x) for x in bond_lengths]\n",
    "ax.plot(bond_lengths, optimized_energies[0], 'o', label='UCCSD', color='red')\n",
    "ax.plot(bond_lengths, optimized_energies[1], 'x', label='UCCSD with Sampling Noise', color='blue')\n",
    "ax.plot(bond_lengths, exact_energies, '-', label='Full-CI', color='black')\n",
    "\n",
    "ax.legend(frameon=False)\n",
    "pyplot.show()"
   ]
  },
  {
   "cell_type": "code",
   "execution_count": null,
   "metadata": {},
   "outputs": [],
   "source": []
  }
 ],
 "metadata": {
  "kernelspec": {
   "display_name": "Python 3",
   "language": "python",
   "name": "python3"
  },
  "language_info": {
   "codemirror_mode": {
    "name": "ipython",
    "version": 3
   },
   "file_extension": ".py",
   "mimetype": "text/x-python",
   "name": "python",
   "nbconvert_exporter": "python",
   "pygments_lexer": "ipython3",
   "version": "3.7.10"
  }
 },
 "nbformat": 4,
 "nbformat_minor": 4
}
