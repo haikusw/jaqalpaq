{
 "cells": [
  {
   "cell_type": "markdown",
   "metadata": {},
   "source": [
    "# Helium Hydride (Tapered HeH+) Exemplar\n",
    "## Step 0: Import various libraries"
   ]
  },
  {
   "cell_type": "code",
   "execution_count": 1,
   "metadata": {},
   "outputs": [],
   "source": [
    "# Imports for QSCOUT\n",
    "import jaqalpaq\n",
    "from jaqalpaq.core import circuitbuilder\n",
    "from jaqalpaq.core.circuit import normalize_native_gates\n",
    "from jaqalpaq import emulator\n",
    "from qscout.v1 import native_gates\n",
    "\n",
    "# Imports for basic mathematical functionality\n",
    "from math import pi\n",
    "import numpy as np\n",
    "\n",
    "# Imports for OpenFermion(-PySCF)\n",
    "import openfermion as of\n",
    "from openfermion import MolecularData\n",
    "from openfermionpyscf import run_pyscf\n",
    "\n",
    "# Import for VQE optimizer\n",
    "from scipy import optimize"
   ]
  },
  {
   "cell_type": "markdown",
   "metadata": {},
   "source": [
    "## Step 1: SCF calculation to assemble the second-quantized Hamiltonian"
   ]
  },
  {
   "cell_type": "code",
   "execution_count": 2,
   "metadata": {},
   "outputs": [
    {
     "name": "stdout",
     "output_type": "stream",
     "text": [
      "Bond Length in Angstroms: 0.8\n",
      "FCI (Exact) energy in Hartrees: -2.8557086272280108\n"
     ]
    }
   ],
   "source": [
    "# Set the basis set, spin, and charge of the HeH+ molecule\n",
    "basis = 'sto-3g'\n",
    "multiplicity = 1\n",
    "charge = 1 #Charge is 1 for HeH+\n",
    "\n",
    "# Set calculation parameters\n",
    "run_scf = 1\n",
    "run_fci = 1\n",
    "delete_input = True\n",
    "delete_output = False\n",
    "\n",
    "# Generate molecule at some bond length (0.8 Angstroms here)\n",
    "geometry = [('He', (0., 0., 0.)), ('H', (0., 0., 0.8))]\n",
    "molecule = MolecularData(\n",
    "    geometry, basis, multiplicity, charge,    \n",
    "    filename='./HeH+_2_sto-3g_single_0.8') #Set file location of data\n",
    "\n",
    "# Run pyscf to generate new molecular data for sto-3g HeH+\n",
    "molecule = run_pyscf(molecule,\n",
    "                     run_scf=run_scf,\n",
    "                     run_fci=run_fci,\n",
    "                     verbose=False)\n",
    "\n",
    "print(\"Bond Length in Angstroms: {}\".format(0.8))\n",
    "print(\"FCI (Exact) energy in Hartrees: {}\".format(molecule.fci_energy))"
   ]
  },
  {
   "cell_type": "markdown",
   "metadata": {},
   "source": [
    "## Step 2: Convert the fermionic Hamiltonian to a qubit Hamiltonian"
   ]
  },
  {
   "cell_type": "code",
   "execution_count": 3,
   "metadata": {},
   "outputs": [
    {
     "name": "stdout",
     "output_type": "stream",
     "text": [
      "-1.8329767377665491 [] +\n",
      "0.10726513381817014 [X0] +\n",
      "0.14263132945977605 [X0 X1] +\n",
      "0.10726332834727734 [X0 Z1] +\n",
      "0.5558307315873781 [Z0] +\n",
      "0.10726332834727734 [Z0 X1] +\n",
      "0.09840695058658883 [Z0 Z1] +\n",
      "0.10726513381817013 [X1] +\n",
      "0.5558307315873778 [Z1]\n"
     ]
    }
   ],
   "source": [
    "# Get the fermionic Hamiltonian for HeH+ and map it using the BK encoding\n",
    "hamiltonian = molecule.get_molecular_hamiltonian()\n",
    "hamiltonian_ferm = of.get_fermion_operator(hamiltonian)\n",
    "hamiltonian_bk = of.symmetry_conserving_bravyi_kitaev(hamiltonian_ferm,\n",
    "                                    active_orbitals=4, active_fermions=2)\n",
    "\n",
    "print(hamiltonian_bk)\n",
    "\n",
    "# Define terms and coefficients of our Hamiltonian\n",
    "terms = []\n",
    "cs = [] #Coefficients\n",
    "for term in hamiltonian_bk.terms:\n",
    "    paulis = [None, None]\n",
    "    for pauli in term:\n",
    "        paulis[pauli[0]] = pauli[1]\n",
    "    terms += [paulis]\n",
    "    cs += [hamiltonian_bk.terms[term]]\n",
    "    \n",
    "# Number of times to sample from measurement circuits\n",
    "n_samples = 10000"
   ]
  },
  {
   "cell_type": "markdown",
   "metadata": {},
   "source": [
    "## Step 3: Define UCC Ansatz circuit in JaqalPaq"
   ]
  },
  {
   "cell_type": "code",
   "execution_count": 4,
   "metadata": {},
   "outputs": [],
   "source": [
    "def ansatz(theta, sample_noise=False):\n",
    "    term_probs = []\n",
    "    for i in range(len(terms)):\n",
    "        builder = circuitbuilder.CircuitBuilder(\n",
    "            native_gates=normalize_native_gates(native_gates.NATIVE_GATES))\n",
    "        \n",
    "        # Define constants +-pi/2\n",
    "        pi2 = builder.let('pi2', pi/2)\n",
    "        npi2 = builder.let('npi2', -pi/2)\n",
    "        \n",
    "        # Create a qubit register\n",
    "        q = builder.register('q', 2)\n",
    "        \n",
    "        # Define a hadamard macro\n",
    "        hadamard = circuitbuilder.SequentialBlockBuilder()\n",
    "        hadamard.gate('Sy', 'a')\n",
    "        hadamard.gate('Px', 'a')\n",
    "        builder.macro('hadamard', ['a'], hadamard)\n",
    "        \n",
    "        # Prepare the Hartree Fock state\n",
    "        builder.gate('prepare_all')\n",
    "        builder.gate('Px', q[0])\n",
    "        builder.gate('Px', q[1])\n",
    "        \n",
    "        # Apply the UCC Ansatz exp[-i*theta(X1 Y0)]\n",
    "        builder.gate('MS', q[1], q[0], 0, pi2)\n",
    "        builder.gate('Rz', q[1], theta)\n",
    "        builder.gate('MS', q[1], q[0], 0, npi2)\n",
    "        \n",
    "        # Change basis for measurement depending on term\n",
    "        for j, qubit in enumerate(terms[i]):\n",
    "            if qubit == 'X':\n",
    "                builder.gate('hadamard', ('array_item', q, j)),\n",
    "            if qubit == 'Y':\n",
    "                builder.gate('Sxd', ('array_item', q, j)),\n",
    "        builder.gate('measure_all')\n",
    "       \n",
    "        circuit = builder.build()\n",
    "\n",
    "        # Format results of simulation as a list of lists\n",
    "        probs = np.zeros(4) # Number of possible states\n",
    "        sim_result = emulator.run_jaqal_circuit(circuit) #Run circuit on emulator\n",
    "        sim_probs = sim_result.subcircuits[0].probability_by_int\n",
    "        if sample_noise: #Sample circuits to determine probs\n",
    "            for k in range(n_samples):\n",
    "                sample = np.random.choice(4, p=sim_probs)\n",
    "                probs[sample] += 1 #Increment state counter\n",
    "            probs = probs/n_samples #Determine probabilities from sampling\n",
    "            term_probs += [probs] #Combine lists of probs of each term in Hamiltonian\n",
    "        else: #Exact solution without sampling\n",
    "            term_probs += [sim_probs]\n",
    "    return term_probs"
   ]
  },
  {
   "cell_type": "markdown",
   "metadata": {},
   "source": [
    "## Step 4: Define functions to calculate energy expectation value of Ansatz state"
   ]
  },
  {
   "cell_type": "code",
   "execution_count": 6,
   "metadata": {
    "scrolled": true
   },
   "outputs": [],
   "source": [
    "# Calculate energy of one term of the Hamiltonian for one possible state\n",
    "def term_energy(term, state, coefficient, prob):\n",
    "    parity = 1\n",
    "    for i in range(len(term)):\n",
    "        #Change parity if state is occupied and is acted on by a pauli operator\n",
    "        if term[i] != None and state[i] == '1':\n",
    "            parity = -1*parity\n",
    "    return coefficient*prob*parity\n",
    "\n",
    "# Calculate energy of the molecule for a given value of theta\n",
    "def make_calculate_energy(sample_noise=False):\n",
    "    def calculate_energy(theta):\n",
    "        energy = 0\n",
    "        probs = ansatz(theta[0], sample_noise) #Convert tuple (from optimization) to float for circuit\n",
    "        for i in range(len(terms)): #For each term in the hamiltonian\n",
    "            for j in range(len(probs[0])): #For each possible state\n",
    "                term = terms[i]\n",
    "                state = '{0:02b}'.format(j)[::-1] #convert state to binary (# of qubits)\n",
    "                coefficient = cs[i].real\n",
    "                prob = probs[i][j]\n",
    "                #print(term, state, coefficient, prob)\n",
    "                energy += term_energy(term, state, coefficient, prob)\n",
    "        return energy\n",
    "    return calculate_energy"
   ]
  },
  {
   "cell_type": "markdown",
   "metadata": {},
   "source": [
    "## Step 5: Minimize the energy expectation value in 𝜃"
   ]
  },
  {
   "cell_type": "code",
   "execution_count": 7,
   "metadata": {},
   "outputs": [
    {
     "data": {
      "text/plain": [
       "     fun: -2.844966464785913\n",
       "   maxcv: 0.0\n",
       " message: 'Optimization terminated successfully.'\n",
       "    nfev: 17\n",
       "  status: 1\n",
       " success: True\n",
       "       x: array([0.2599])"
      ]
     },
     "execution_count": 7,
     "metadata": {},
     "output_type": "execute_result"
    }
   ],
   "source": [
    "# Minimize the energy using classical optimization\n",
    "optimize.minimize(fun=make_calculate_energy(sample_noise=True), x0=[0.01], method=\"COBYLA\") #Can use \"L-BFGS-B\" instead"
   ]
  },
  {
   "cell_type": "markdown",
   "metadata": {},
   "source": [
    "## Step 6: Loop over previous steps to calculate ground state energy at different bond lengths"
   ]
  },
  {
   "cell_type": "code",
   "execution_count": 8,
   "metadata": {},
   "outputs": [
    {
     "name": "stdout",
     "output_type": "stream",
     "text": [
      "R=0.5\t Optimized Energy: -2.640622945386565\t Sampling Noise: False\n",
      "R=0.5\t Optimized Energy: -2.6381855129357703\t Sampling Noise: True\n",
      "R=0.6\t Optimized Energy: -2.769846164677853\t Sampling Noise: False\n",
      "R=0.6\t Optimized Energy: -2.770703002470031\t Sampling Noise: True\n",
      "R=0.7\t Optimized Energy: -2.8302229120339413\t Sampling Noise: False\n",
      "R=0.7\t Optimized Energy: -2.822975929629033\t Sampling Noise: True\n",
      "R=0.8\t Optimized Energy: -2.855344020943966\t Sampling Noise: False\n",
      "R=0.8\t Optimized Energy: -2.8524299889867484\t Sampling Noise: True\n",
      "R=0.9\t Optimized Energy: -2.862169904085673\t Sampling Noise: False\n",
      "R=0.9\t Optimized Energy: -2.861403256102032\t Sampling Noise: True\n",
      "R=1.0\t Optimized Energy: -2.8597244890292632\t Sampling Noise: False\n",
      "R=1.0\t Optimized Energy: -2.8567859960022433\t Sampling Noise: True\n",
      "R=1.1\t Optimized Energy: -2.8530647484380416\t Sampling Noise: False\n",
      "R=1.1\t Optimized Energy: -2.8518185327071732\t Sampling Noise: True\n",
      "R=1.2\t Optimized Energy: -2.8450534807617256\t Sampling Noise: False\n",
      "R=1.2\t Optimized Energy: -2.836946917668659\t Sampling Noise: True\n",
      "R=1.3\t Optimized Energy: -2.8372271126607274\t Sampling Noise: False\n",
      "R=1.3\t Optimized Energy: -2.8379525421905725\t Sampling Noise: True\n",
      "R=1.4\t Optimized Energy: -2.830315784294537\t Sampling Noise: False\n",
      "R=1.4\t Optimized Energy: -2.8337687171320765\t Sampling Noise: True\n",
      "R=1.5\t Optimized Energy: -2.8245835174589824\t Sampling Noise: False\n",
      "R=1.5\t Optimized Energy: -2.8251490208799113\t Sampling Noise: True\n"
     ]
    }
   ],
   "source": [
    "# Set the basis set, spin, and charge of the HeH+ molecule\n",
    "basis = 'sto-3g'\n",
    "multiplicity = 1\n",
    "charge = 1 #Charge is 1 for HeH+\n",
    "\n",
    "# Set calculation parameters\n",
    "run_scf = 1\n",
    "run_fci = 1\n",
    "delete_input = True\n",
    "delete_output = False\n",
    "\n",
    "optimized_energies = [[], []]\n",
    "exact_energies = []\n",
    "\n",
    "# Number of times to sample from measurement circuits\n",
    "n_samples = 10000\n",
    "\n",
    "# Loop over bond lengths from 0.5 to 2.0 angstroms\n",
    "n_pts = 11#Number of points\n",
    "bond_lengths = np.linspace(0.5,1.5,n_pts)\n",
    "for diatomic_bond_length in bond_lengths:\n",
    "    # Generate molecule at some bond length\n",
    "    geometry = [('He', (0., 0., 0.)), ('H', (0., 0., diatomic_bond_length))]\n",
    "    molecule = MolecularData(\n",
    "        geometry, basis, multiplicity, charge,\n",
    "        description=str(round(diatomic_bond_length, 2)),\n",
    "        filename='./HeH+_2_sto-3g_single_dissociation')\n",
    "\n",
    "    # Run pyscf to generate new molecular data for sto-3g HeH+\n",
    "    molecule = run_pyscf(molecule,\n",
    "                     run_scf=run_scf,\n",
    "                     run_fci=run_fci,\n",
    "                     verbose=False)\n",
    "    \n",
    "    # Get the fermionic Hamiltonian for HeH+ and map it using the BK encoding\n",
    "    hamiltonian = molecule.get_molecular_hamiltonian()\n",
    "    hamiltonian_ferm = of.get_fermion_operator(hamiltonian)\n",
    "    hamiltonian_bk = of.symmetry_conserving_bravyi_kitaev(hamiltonian_ferm, active_orbitals=4, active_fermions=2)\n",
    "\n",
    "    # Define terms and coefficients of our Hamiltonian\n",
    "    terms = []\n",
    "    cs = [] #Coefficients\n",
    "    for term in hamiltonian_bk.terms:\n",
    "        paulis = [None, None]\n",
    "        for pauli in term:\n",
    "            paulis[pauli[0]] = pauli[1]\n",
    "        terms += [paulis]\n",
    "        cs += [hamiltonian_bk.terms[term]]\n",
    "\n",
    "    # Minimize the expectation value of the energy using a classical optimizer (COBYLA)\n",
    "    exact_energies.append(molecule.fci_energy)\n",
    "    for i in range(2):\n",
    "        result = optimize.minimize(fun=make_calculate_energy(sample_noise=i), x0=[0.01], method=\"COBYLA\")\n",
    "        optimized_energies[i].append(result.fun)\n",
    "        print(\"R={}\\t Optimized Energy: {}\\t Sampling Noise: {}\".format(str(round(diatomic_bond_length, 2)), result.fun, bool(i)))"
   ]
  },
  {
   "cell_type": "markdown",
   "metadata": {},
   "source": [
    "## Step 7: Plot the dissociation curve"
   ]
  },
  {
   "cell_type": "code",
   "execution_count": 17,
   "metadata": {},
   "outputs": [
    {
     "data": {
      "image/png": "[encoded data removed]",
      "text/plain": [
       "<Figure size 720x504 with 1 Axes>"
      ]
     },
     "metadata": {
      "needs_background": "light"
     },
     "output_type": "display_data"
    }
   ],
   "source": [
    "import matplotlib\n",
    "import matplotlib.pyplot as pyplot\n",
    "\n",
    "# Plot the various energies for different bond lengths\n",
    "fig = pyplot.figure(figsize=(10,7))\n",
    "pyplot.rcParams['font.size']=18\n",
    "bkcolor = '#ffffff'\n",
    "ax = fig.add_subplot(1, 1, 1)\n",
    "pyplot.subplots_adjust(left=.2)\n",
    "ax.set_xlabel('R (Angstroms)')\n",
    "ax.set_ylabel(r'E (Hartrees)')\n",
    "ax.set_title(r'HeH+ 2-qubit bond dissociation curve')\n",
    "ax.spines['right'].set_visible(False)\n",
    "ax.spines['top'].set_visible(False)\n",
    "bond_lengths = [float(x) for x in bond_lengths]\n",
    "ax.plot(bond_lengths, optimized_energies[0], 'o', label='UCCSD', color='red')\n",
    "ax.plot(bond_lengths, optimized_energies[1], 'x', label='UCCSD with Sampling Noise', color='blue')\n",
    "ax.plot(bond_lengths, exact_energies, '-', label='Full-CI', color='black')\n",
    "\n",
    "ax.legend(frameon=False)\n",
    "pyplot.show()\n",
    "\n",
    "fig.savefig('HeH+_sampling.pdf')"
   ]
  },
  {
   "cell_type": "code",
   "execution_count": null,
   "metadata": {},
   "outputs": [],
   "source": []
  }
 ],
 "metadata": {
  "kernelspec": {
   "display_name": "Python 3",
   "language": "python",
   "name": "python3"
  },
  "language_info": {
   "codemirror_mode": {
    "name": "ipython",
    "version": 3
   },
   "file_extension": ".py",
   "mimetype": "text/x-python",
   "name": "python",
   "nbconvert_exporter": "python",
   "pygments_lexer": "ipython3",
   "version": "3.7.6"
  }
 },
 "nbformat": 4,
 "nbformat_minor": 2
}
