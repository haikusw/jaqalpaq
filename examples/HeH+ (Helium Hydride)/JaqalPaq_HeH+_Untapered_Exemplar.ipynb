{
 "cells": [
  {
   "cell_type": "markdown",
   "metadata": {},
   "source": [
    "# Helium Hydride (Untapered HeH+) Exemplar\n",
    "## Step 0: Import various libraries"
   ]
  },
  {
   "cell_type": "code",
   "execution_count": 1,
   "metadata": {
    "execution": {
     "iopub.execute_input": "2021-08-30T11:38:20.214002Z",
     "iopub.status.busy": "2021-08-30T11:38:20.212184Z",
     "iopub.status.idle": "2021-08-30T11:38:22.529751Z",
     "shell.execute_reply": "2021-08-30T11:38:22.528780Z"
    }
   },
   "outputs": [],
   "source": [
    "# Imports for QSCOUT\n",
    "import jaqalpaq\n",
    "from jaqalpaq.core import circuitbuilder\n",
    "from jaqalpaq.core.circuit import normalize_native_gates\n",
    "from jaqalpaq.run import run_jaqal_circuit\n",
    "from qscout.v1 import native_gates\n",
    "from qscout.v1 import noisy\n",
    "\n",
    "# Imports for basic mathematical functionality\n",
    "from math import pi\n",
    "import numpy as np\n",
    "\n",
    "# Imports for OpenFermion(-PySCF)\n",
    "import openfermion as of\n",
    "from openfermion.chem import MolecularData\n",
    "from openfermionpyscf import run_pyscf\n",
    "\n",
    "# Import for VQE optimizer\n",
    "from scipy import optimize"
   ]
  },
  {
   "cell_type": "markdown",
   "metadata": {},
   "source": [
    "# Step 1: SCF calculation to assmble the second-quantized Hamiltonian"
   ]
  },
  {
   "cell_type": "code",
   "execution_count": 2,
   "metadata": {
    "execution": {
     "iopub.execute_input": "2021-08-30T11:38:22.653318Z",
     "iopub.status.busy": "2021-08-30T11:38:22.648265Z",
     "iopub.status.idle": "2021-08-30T11:38:22.924208Z",
     "shell.execute_reply": "2021-08-30T11:38:22.925576Z"
    }
   },
   "outputs": [
    {
     "name": "stdout",
     "output_type": "stream",
     "text": [
      "Bond Length in Angstroms: 0.8\n",
      "FCI (Exact) energy in Hartrees: -2.6407145904882614\n"
     ]
    }
   ],
   "source": [
    "# Set the basis set, spin, and charge of the H2 molecule\n",
    "basis = 'sto-3g'\n",
    "multiplicity = 1\n",
    "charge = 1 #Charge is 1 for HeH+\n",
    "\n",
    "# Set calculation parameters\n",
    "run_scf = 1\n",
    "run_fci = 1\n",
    "delete_input = True\n",
    "delete_output = False\n",
    "\n",
    "# Generate molecule at some bond length (0.8 Angstroms here)\n",
    "geometry = [('He', (0., 0., 0.)), ('H', (0., 0., 0.5))]\n",
    "molecule = MolecularData(geometry, basis, multiplicity, charge, filename='./HeH+_4_sto-3g_single_0.8') #Set file location of data\n",
    "\n",
    "# Run pyscf to generate new molecular data for sto-3g HeH+\n",
    "molecule = run_pyscf(molecule, run_scf=run_scf, run_fci=run_fci, verbose=False)\n",
    "\n",
    "print(\"Bond Length in Angstroms: {}\".format(0.8))\n",
    "print(\"FCI (Exact) energy in Hartrees: {}\".format(molecule.fci_energy))"
   ]
  },
  {
   "cell_type": "markdown",
   "metadata": {},
   "source": [
    "## Step 2: Convert the fermionic Hamiltonian to a qubit Hamiltonian"
   ]
  },
  {
   "cell_type": "code",
   "execution_count": 3,
   "metadata": {
    "execution": {
     "iopub.execute_input": "2021-08-30T11:38:22.993512Z",
     "iopub.status.busy": "2021-08-30T11:38:22.956905Z",
     "iopub.status.idle": "2021-08-30T11:38:22.998066Z",
     "shell.execute_reply": "2021-08-30T11:38:22.996390Z"
    }
   },
   "outputs": [],
   "source": [
    "# Get the fermionic Hamiltonian for HeH+ and map it using the BK encoding\n",
    "hamiltonian = molecule.get_molecular_hamiltonian()\n",
    "hamiltonian_ferm = of.get_fermion_operator(hamiltonian)\n",
    "hamiltonian_bk = of.bravyi_kitaev(hamiltonian_ferm)\n",
    "hamiltonian_jw = of.jordan_wigner(hamiltonian_ferm)\n",
    "\n",
    "terms = []\n",
    "cs = []\n",
    "for term in hamiltonian_jw.terms:\n",
    "    paulis = [None, None, None, None]\n",
    "    for pauli in term:\n",
    "        paulis[pauli[0]] = pauli[1]\n",
    "    terms += [paulis]\n",
    "    cs += [hamiltonian_jw.terms[term]]"
   ]
  },
  {
   "cell_type": "markdown",
   "metadata": {},
   "source": [
    "## Step 3: Define UCC Ansatz circuit in JaqalPaq"
   ]
  },
  {
   "cell_type": "code",
   "execution_count": 4,
   "metadata": {
    "execution": {
     "iopub.execute_input": "2021-08-30T11:38:23.021530Z",
     "iopub.status.busy": "2021-08-30T11:38:23.019813Z",
     "iopub.status.idle": "2021-08-30T11:38:23.023905Z",
     "shell.execute_reply": "2021-08-30T11:38:23.025283Z"
    }
   },
   "outputs": [],
   "source": [
    "def ansatz(theta, term):\n",
    "    builder = circuitbuilder.CircuitBuilder(native_gates=normalize_native_gates(native_gates.NATIVE_GATES))\n",
    "\n",
    "    # Create a qubit register\n",
    "    q = builder.register('q', 4)\n",
    "\n",
    "    # Define a hadamard macro\n",
    "    hadamard = circuitbuilder.SequentialBlockBuilder()\n",
    "    hadamard.gate('Sy', 'a')\n",
    "    hadamard.gate('Px', 'a')\n",
    "    builder.macro('hadamard', ['a'], hadamard)\n",
    "\n",
    "    # Define a CNOT macro\n",
    "    CNOT = circuitbuilder.SequentialBlockBuilder()\n",
    "\n",
    "    CNOT.gate('Sy', 'control')\n",
    "    CNOT.gate('MS', 'control', 'target', 0, np.pi/2)\n",
    "    Sxd_block = CNOT.block(parallel=True)\n",
    "    Sxd_block.gate('Sxd', 'control')\n",
    "    Sxd_block.gate('Sxd', 'target')\n",
    "    CNOT.gate('Syd', 'control')\n",
    "\n",
    "    builder.macro('CNOT', ['control', 'target'], CNOT)\n",
    "\n",
    "    # Prepare the Hartree Fock state\n",
    "    builder.gate('prepare_all')\n",
    "    builder.gate('Px', q[0])\n",
    "    builder.gate('Px', q[1])\n",
    "\n",
    "    # Apply the UCC Ansatz exp[-i*theta(X1 Y0)]\n",
    "    builder.gate('hadamard', q[0])\n",
    "    builder.gate('hadamard', q[1])\n",
    "    builder.gate('hadamard', q[2])\n",
    "    builder.gate('Sxd', q[3])\n",
    "\n",
    "    builder.gate('CNOT', q[0], q[1])\n",
    "    builder.gate('CNOT', q[1], q[2])\n",
    "    builder.gate('CNOT', q[2], q[3])\n",
    "    builder.gate('Rz', q[3], theta)\n",
    "    builder.gate('CNOT', q[2], q[3])\n",
    "    builder.gate('CNOT', q[1], q[2])\n",
    "    builder.gate('CNOT', q[0], q[1])\n",
    "\n",
    "    builder.gate('hadamard', q[0])\n",
    "    builder.gate('hadamard', q[1])\n",
    "    builder.gate('hadamard', q[2])\n",
    "    builder.gate('Sx', q[3])\n",
    "\n",
    "\n",
    "    # Change basis for measurement depending on term\n",
    "    for j, qubit in enumerate(term):\n",
    "        if qubit == 'X':\n",
    "            builder.gate('hadamard', ('array_item', q, j)),\n",
    "        if qubit == 'Y':\n",
    "            builder.gate('Sxd', ('array_item', q, j)),\n",
    "            \n",
    "    builder.gate('measure_all')\n",
    "\n",
    "    circuit = builder.build()\n",
    "\n",
    "    return circuit"
   ]
  },
  {
   "cell_type": "markdown",
   "metadata": {},
   "source": [
    "## Step 4: Define functions to calculate energy expectation value of Ansatz state"
   ]
  },
  {
   "cell_type": "code",
   "execution_count": 5,
   "metadata": {
    "execution": {
     "iopub.execute_input": "2021-08-30T11:38:23.038560Z",
     "iopub.status.busy": "2021-08-30T11:38:23.037231Z",
     "iopub.status.idle": "2021-08-30T11:38:23.041232Z",
     "shell.execute_reply": "2021-08-30T11:38:23.040104Z"
    }
   },
   "outputs": [],
   "source": [
    "def ansatz_sampling(theta, sample_noise):\n",
    "    term_probs = []\n",
    "    for i in range(len(terms)):\n",
    "        if sample_noise:\n",
    "            probs = np.zeros(16)\n",
    "            circuit = ansatz(theta, terms[i])\n",
    "            sim_result = run_jaqal_circuit(circuit) #Run circuit on emulator\n",
    "            sim_probs = sim_result.subcircuits[0].probability_by_int\n",
    "            sample = np.random.choice(16, size=n_samples, p=sim_probs) #Sample from distribution to get probabilities\n",
    "            \n",
    "            for count in sample:\n",
    "                probs[count] += 1 #Increment state counter\n",
    "            probs = probs/n_samples #Determine probabilities from sampling\n",
    "            term_probs += [probs] #Combine lists of probs of each term in Hamiltonian\n",
    "                \n",
    "        else: #Exact solution without sampling\n",
    "            circuit = ansatz(theta, terms[i])\n",
    "            sim_result = run_jaqal_circuit(circuit) #Run circuit on emulator\n",
    "            sim_probs = sim_result.subcircuits[0].probability_by_int\n",
    "            term_probs += [sim_probs]\n",
    "    \n",
    "    return term_probs"
   ]
  },
  {
   "cell_type": "code",
   "execution_count": 6,
   "metadata": {
    "execution": {
     "iopub.execute_input": "2021-08-30T11:38:23.053032Z",
     "iopub.status.busy": "2021-08-30T11:38:23.051716Z",
     "iopub.status.idle": "2021-08-30T11:38:23.055844Z",
     "shell.execute_reply": "2021-08-30T11:38:23.054503Z"
    }
   },
   "outputs": [],
   "source": [
    "# Calculate energy of one term of the Hamiltonian for one possible state\n",
    "def term_energy(term, state, coefficient, prob):\n",
    "    parity = 1\n",
    "    for i in range(len(term)):\n",
    "        #Change parity if state is occupied and is acted on by a pauli operator\n",
    "        if term[i] != None and state[i] == '1':\n",
    "            parity = -1*parity\n",
    "    return coefficient*prob*parity\n",
    "\n",
    "# Calculate energy of the molecule for a given value of theta\n",
    "def calculate_energy(theta, sample_noise):\n",
    "    energy = 0\n",
    "    probs = ansatz_sampling(theta[0], sample_noise) #Convert tuple (from optimization) to float for circuit\n",
    "    for i in range(len(terms)): #For each term in the hamiltonian\n",
    "        for j in range(len(probs[0])): #For each possible state\n",
    "            term = terms[i]\n",
    "            state = '{0:04b}'.format(j)[::-1] #convert state to binary (# of qubits)\n",
    "            coefficient = cs[i].real\n",
    "            prob = probs[i][j]\n",
    "            #print(term, state, coefficient, prob)\n",
    "            energy += term_energy(term, state, coefficient, prob)\n",
    "    return energy"
   ]
  },
  {
   "cell_type": "markdown",
   "metadata": {},
   "source": [
    "## Step 5: Minimize the energy expectation value in 𝜃"
   ]
  },
  {
   "cell_type": "code",
   "execution_count": 7,
   "metadata": {
    "execution": {
     "iopub.execute_input": "2021-08-30T11:38:23.073442Z",
     "iopub.status.busy": "2021-08-30T11:38:23.071892Z",
     "iopub.status.idle": "2021-08-30T11:39:32.095619Z",
     "shell.execute_reply": "2021-08-30T11:39:32.094216Z"
    }
   },
   "outputs": [
    {
     "data": {
      "text/plain": [
       "     fun: -2.6406229453865677\n",
       "   maxcv: 0.0\n",
       " message: 'Optimization terminated successfully.'\n",
       "    nfev: 22\n",
       "  status: 1\n",
       " success: True\n",
       "       x: array([0.10824453])"
      ]
     },
     "execution_count": 7,
     "metadata": {},
     "output_type": "execute_result"
    }
   ],
   "source": [
    "# Minimize the energy using classical optimization\n",
    "n_samples = 10000\n",
    "optimize.minimize(fun=calculate_energy, x0=[0.01], args=(False), method=\"COBYLA\")"
   ]
  },
  {
   "cell_type": "markdown",
   "metadata": {},
   "source": [
    "## Step 6: Loop over previous steps to calculate ground state energy at different bond lengths"
   ]
  },
  {
   "cell_type": "code",
   "execution_count": 8,
   "metadata": {
    "execution": {
     "iopub.execute_input": "2021-08-30T11:39:32.241700Z",
     "iopub.status.busy": "2021-08-30T11:39:32.115493Z",
     "iopub.status.idle": "2021-08-30T12:03:54.962253Z",
     "shell.execute_reply": "2021-08-30T12:03:54.960674Z"
    }
   },
   "outputs": [
    {
     "name": "stdout",
     "output_type": "stream",
     "text": [
      "R=0.5\t Exact Energy: -2.6407145904882614\n",
      "R=0.5\t Optimized Energy: -2.6406229453865677\t Sampling Noise: False\n",
      "R=0.5\t Optimized Energy: -2.6400825684657434\t Sampling Noise: True\n",
      "\n",
      "\n",
      "R=0.6\t Exact Energy: -2.7700093779351316\n",
      "R=0.6\t Optimized Energy: -2.769846161344776\t Sampling Noise: False\n",
      "R=0.6\t Optimized Energy: -2.7669915593005725\t Sampling Noise: True\n",
      "\n",
      "\n",
      "R=0.7\t Exact Energy: -2.830482959063893\n",
      "R=0.7\t Optimized Energy: -2.830222909377355\t Sampling Noise: False\n",
      "R=0.7\t Optimized Energy: -2.823114559550195\t Sampling Noise: True\n",
      "\n",
      "\n",
      "R=0.8\t Exact Energy: -2.8557086272280108\n",
      "R=0.8\t Optimized Energy: -2.8553440209439622\t Sampling Noise: False\n",
      "R=0.8\t Optimized Energy: -2.8520999150977095\t Sampling Noise: True\n",
      "\n",
      "\n",
      "R=0.9\t Exact Energy: -2.86261757879778\n",
      "R=0.9\t Optimized Energy: -2.8621699040856727\t Sampling Noise: False\n",
      "R=0.9\t Optimized Energy: -2.862948168289353\t Sampling Noise: True\n",
      "\n",
      "\n",
      "R=1.0\t Exact Energy: -2.8602051225798046\n",
      "R=1.0\t Optimized Energy: -2.859724489029263\t Sampling Noise: False\n",
      "R=1.0\t Optimized Energy: -2.8600304544399724\t Sampling Noise: True\n",
      "\n",
      "\n",
      "R=1.1\t Exact Energy: -2.853516188404379\n",
      "R=1.1\t Optimized Energy: -2.853064748438037\t Sampling Noise: False\n",
      "R=1.1\t Optimized Energy: -2.8561469751039916\t Sampling Noise: True\n",
      "\n",
      "\n",
      "R=1.2\t Exact Energy: -2.84542533786273\n",
      "R=1.2\t Optimized Energy: -2.8450534807617194\t Sampling Noise: False\n",
      "R=1.2\t Optimized Energy: -2.8422965111256095\t Sampling Noise: True\n",
      "\n",
      "\n",
      "R=1.3\t Exact Energy: -2.8374968796708924\n",
      "R=1.3\t Optimized Energy: -2.837227105746152\t Sampling Noise: False\n",
      "R=1.3\t Optimized Energy: -2.8338568465360017\t Sampling Noise: True\n",
      "\n",
      "\n",
      "R=1.4\t Exact Energy: -2.830489063414146\n",
      "R=1.4\t Optimized Energy: -2.8303157842945406\t Sampling Noise: False\n",
      "R=1.4\t Optimized Energy: -2.829368379679494\t Sampling Noise: True\n",
      "\n",
      "\n",
      "R=1.5\t Exact Energy: -2.824682676189804\n",
      "R=1.5\t Optimized Energy: -2.8245835174589864\t Sampling Noise: False\n",
      "R=1.5\t Optimized Energy: -2.823528575180093\t Sampling Noise: True\n",
      "\n",
      "\n"
     ]
    }
   ],
   "source": [
    "# Set the basis set, spin, and charge of the HeH+ molecule\n",
    "basis = 'sto-3g'\n",
    "multiplicity = 1\n",
    "charge = 1\n",
    "\n",
    "# Set calculation parameters\n",
    "run_scf = 1\n",
    "run_fci = 1\n",
    "delete_input = True\n",
    "delete_output = False\n",
    "\n",
    "optimized_energies = [[], []]\n",
    "exact_energies = []\n",
    "\n",
    "# Loop over bond lengths from 0.5 to 1.5 angstroms\n",
    "n_samples = 10000 # Sample circuit\n",
    "n_pts = 11 #Number of points \n",
    "bond_lengths = np.linspace(0.5,1.5,n_pts)\n",
    "for diatomic_bond_length in bond_lengths:\n",
    "    # Generate molecule at some bond length\n",
    "    geometry = [('He', (0., 0., 0.)), ('H', (0., 0., diatomic_bond_length))]\n",
    "    description=str(round(diatomic_bond_length, 2))\n",
    "    molecule = MolecularData(\n",
    "        geometry, basis, multiplicity, charge,\n",
    "        description=description,\n",
    "        filename='./HeH+_4_sto-3g_single_dissociation')\n",
    "\n",
    "    # Run pyscf to generate new molecular data for sto-3g HeH+\n",
    "    molecule = run_pyscf(molecule, run_scf=run_scf, run_fci=run_fci, verbose=False)\n",
    "    \n",
    "    # Get the fermionic Hamiltonian for HeH+ and map it using the BK encoding\n",
    "    hamiltonian = molecule.get_molecular_hamiltonian()\n",
    "    hamiltonian_ferm = of.get_fermion_operator(hamiltonian)\n",
    "    hamiltonian_jw = of.jordan_wigner(hamiltonian_ferm)\n",
    "    hamiltonian_bk = of.bravyi_kitaev(hamiltonian_ferm)\n",
    "\n",
    "    # Define terms and coefficients of our Hamiltonian\n",
    "    terms = []\n",
    "    cs = []\n",
    "    for term in hamiltonian_jw.terms:\n",
    "        paulis = [None, None, None, None]\n",
    "        for pauli in term:\n",
    "            paulis[pauli[0]] = pauli[1]\n",
    "        terms += [paulis][::-1]\n",
    "        cs += [hamiltonian_jw.terms[term]]\n",
    "\n",
    "    # Minimize the expectation value of the energy using a classical optimizer (SPSA)\n",
    "    exact_energies.append(molecule.fci_energy)\n",
    "    print(\"R={}\\t Exact Energy: {}\".format(str(round(diatomic_bond_length, 2)), molecule.fci_energy))\n",
    "    \n",
    "    for i in range(2):\n",
    "        result = optimize.minimize(fun=calculate_energy, x0=[0.01], args=(i), method=\"COBYLA\")\n",
    "        optimized_energies[i].append(result.fun)\n",
    "        print(\"R={}\\t Optimized Energy: {}\\t Sampling Noise: {}\".format(str(round(diatomic_bond_length, 2)), result.fun, bool(i)))\n",
    "    print('\\n')"
   ]
  },
  {
   "cell_type": "code",
   "execution_count": 9,
   "metadata": {
    "execution": {
     "iopub.execute_input": "2021-08-30T12:03:54.993010Z",
     "iopub.status.busy": "2021-08-30T12:03:54.971641Z",
     "iopub.status.idle": "2021-08-30T12:03:55.216325Z",
     "shell.execute_reply": "2021-08-30T12:03:55.217630Z"
    }
   },
   "outputs": [
    {
     "data": {
      "image/png": "[encoded data removed]",
      "text/plain": [
       "<Figure size 720x504 with 1 Axes>"
      ]
     },
     "metadata": {
      "needs_background": "light"
     },
     "output_type": "display_data"
    }
   ],
   "source": [
    "import matplotlib\n",
    "import matplotlib.pyplot as pyplot\n",
    "\n",
    "# Plot the various energies for different bond lengths\n",
    "fig = pyplot.figure(figsize=(10,7))\n",
    "pyplot.rcParams['font.size']=18\n",
    "bkcolor = '#ffffff'\n",
    "ax = fig.add_subplot(1, 1, 1)\n",
    "pyplot.subplots_adjust(left=.2)\n",
    "ax.set_xlabel('R (Angstroms)')\n",
    "ax.set_ylabel(r'E (Hartrees)')\n",
    "ax.set_title(r'HeH+ 4-qubit bond dissociation curve')\n",
    "ax.spines['right'].set_visible(False)\n",
    "ax.spines['top'].set_visible(False)\n",
    "bond_lengths = [float(x) for x in bond_lengths]\n",
    "ax.plot(bond_lengths, optimized_energies[0], 'o', label='UCCSD', color='red')\n",
    "ax.plot(bond_lengths, optimized_energies[1], 'x', label='UCCSD with Sampling Noise', color='blue')\n",
    "ax.plot(bond_lengths, exact_energies, '-', label='Full-CI', color='black')\n",
    "\n",
    "ax.legend(frameon=False)\n",
    "pyplot.show()"
   ]
  },
  {
   "cell_type": "code",
   "execution_count": null,
   "metadata": {},
   "outputs": [],
   "source": []
  }
 ],
 "metadata": {
  "kernelspec": {
   "display_name": "Python 3",
   "language": "python",
   "name": "python3"
  },
  "language_info": {
   "codemirror_mode": {
    "name": "ipython",
    "version": 3
   },
   "file_extension": ".py",
   "mimetype": "text/x-python",
   "name": "python",
   "nbconvert_exporter": "python",
   "pygments_lexer": "ipython3",
   "version": "3.7.10"
  }
 },
 "nbformat": 4,
 "nbformat_minor": 4
}
